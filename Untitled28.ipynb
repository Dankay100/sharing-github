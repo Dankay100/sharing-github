{
 "cells": [
  {
   "cell_type": "code",
   "execution_count": 21,
   "metadata": {},
   "outputs": [],
   "source": [
    "import quandl\n",
    "import numpy as np\n",
    "import pandas as pd\n",
    "import matplotlib.pyplot as plt\n",
    "from statsmodels.tsa.stattools import adfuller"
   ]
  },
  {
   "cell_type": "code",
   "execution_count": 22,
   "metadata": {},
   "outputs": [],
   "source": [
    "quandl.ApiConfig.api_key = \"uCTgSRuMQd--79XBCzhz\""
   ]
  },
  {
   "cell_type": "code",
   "execution_count": 23,
   "metadata": {},
   "outputs": [],
   "source": [
    "df_gdp = quandl.get(\"FRED/GDPC1\")"
   ]
  },
  {
   "cell_type": "code",
   "execution_count": 24,
   "metadata": {},
   "outputs": [
    {
     "data": {
      "text/html": [
       "<div>\n",
       "<style scoped>\n",
       "    .dataframe tbody tr th:only-of-type {\n",
       "        vertical-align: middle;\n",
       "    }\n",
       "\n",
       "    .dataframe tbody tr th {\n",
       "        vertical-align: top;\n",
       "    }\n",
       "\n",
       "    .dataframe thead th {\n",
       "        text-align: right;\n",
       "    }\n",
       "</style>\n",
       "<table border=\"1\" class=\"dataframe\">\n",
       "  <thead>\n",
       "    <tr style=\"text-align: right;\">\n",
       "      <th></th>\n",
       "      <th>Value</th>\n",
       "    </tr>\n",
       "    <tr>\n",
       "      <th>Date</th>\n",
       "      <th></th>\n",
       "    </tr>\n",
       "  </thead>\n",
       "  <tbody>\n",
       "    <tr>\n",
       "      <th>2017-10-01</th>\n",
       "      <td>18223.758</td>\n",
       "    </tr>\n",
       "    <tr>\n",
       "      <th>2018-01-01</th>\n",
       "      <td>18323.963</td>\n",
       "    </tr>\n",
       "    <tr>\n",
       "      <th>2018-04-01</th>\n",
       "      <td>18511.576</td>\n",
       "    </tr>\n",
       "    <tr>\n",
       "      <th>2018-07-01</th>\n",
       "      <td>18664.973</td>\n",
       "    </tr>\n",
       "    <tr>\n",
       "      <th>2018-10-01</th>\n",
       "      <td>18784.632</td>\n",
       "    </tr>\n",
       "  </tbody>\n",
       "</table>\n",
       "</div>"
      ],
      "text/plain": [
       "                Value\n",
       "Date                 \n",
       "2017-10-01  18223.758\n",
       "2018-01-01  18323.963\n",
       "2018-04-01  18511.576\n",
       "2018-07-01  18664.973\n",
       "2018-10-01  18784.632"
      ]
     },
     "execution_count": 24,
     "metadata": {},
     "output_type": "execute_result"
    }
   ],
   "source": [
    "df_gdp.tail()"
   ]
  },
  {
   "cell_type": "code",
   "execution_count": 25,
   "metadata": {},
   "outputs": [],
   "source": [
    "df_ics = quandl.get(\"UMICH/SOC1\")"
   ]
  },
  {
   "cell_type": "code",
   "execution_count": 26,
   "metadata": {},
   "outputs": [
    {
     "data": {
      "text/html": [
       "<div>\n",
       "<style scoped>\n",
       "    .dataframe tbody tr th:only-of-type {\n",
       "        vertical-align: middle;\n",
       "    }\n",
       "\n",
       "    .dataframe tbody tr th {\n",
       "        vertical-align: top;\n",
       "    }\n",
       "\n",
       "    .dataframe thead th {\n",
       "        text-align: right;\n",
       "    }\n",
       "</style>\n",
       "<table border=\"1\" class=\"dataframe\">\n",
       "  <thead>\n",
       "    <tr style=\"text-align: right;\">\n",
       "      <th></th>\n",
       "      <th>Index</th>\n",
       "    </tr>\n",
       "    <tr>\n",
       "      <th>Date</th>\n",
       "      <th></th>\n",
       "    </tr>\n",
       "  </thead>\n",
       "  <tbody>\n",
       "    <tr>\n",
       "      <th>2018-09-30</th>\n",
       "      <td>100.1</td>\n",
       "    </tr>\n",
       "    <tr>\n",
       "      <th>2018-10-31</th>\n",
       "      <td>98.6</td>\n",
       "    </tr>\n",
       "    <tr>\n",
       "      <th>2018-11-30</th>\n",
       "      <td>97.5</td>\n",
       "    </tr>\n",
       "    <tr>\n",
       "      <th>2018-12-31</th>\n",
       "      <td>98.3</td>\n",
       "    </tr>\n",
       "    <tr>\n",
       "      <th>2019-01-31</th>\n",
       "      <td>91.2</td>\n",
       "    </tr>\n",
       "  </tbody>\n",
       "</table>\n",
       "</div>"
      ],
      "text/plain": [
       "            Index\n",
       "Date             \n",
       "2018-09-30  100.1\n",
       "2018-10-31   98.6\n",
       "2018-11-30   97.5\n",
       "2018-12-31   98.3\n",
       "2019-01-31   91.2"
      ]
     },
     "execution_count": 26,
     "metadata": {},
     "output_type": "execute_result"
    }
   ],
   "source": [
    "df_ics.tail()"
   ]
  },
  {
   "cell_type": "code",
   "execution_count": 27,
   "metadata": {},
   "outputs": [],
   "source": [
    "df_bp = quandl.get(\"FRED/PERMIT\")"
   ]
  },
  {
   "cell_type": "code",
   "execution_count": 28,
   "metadata": {},
   "outputs": [
    {
     "data": {
      "text/html": [
       "<div>\n",
       "<style scoped>\n",
       "    .dataframe tbody tr th:only-of-type {\n",
       "        vertical-align: middle;\n",
       "    }\n",
       "\n",
       "    .dataframe tbody tr th {\n",
       "        vertical-align: top;\n",
       "    }\n",
       "\n",
       "    .dataframe thead th {\n",
       "        text-align: right;\n",
       "    }\n",
       "</style>\n",
       "<table border=\"1\" class=\"dataframe\">\n",
       "  <thead>\n",
       "    <tr style=\"text-align: right;\">\n",
       "      <th></th>\n",
       "      <th>Value</th>\n",
       "    </tr>\n",
       "    <tr>\n",
       "      <th>Date</th>\n",
       "      <th></th>\n",
       "    </tr>\n",
       "  </thead>\n",
       "  <tbody>\n",
       "    <tr>\n",
       "      <th>2018-08-01</th>\n",
       "      <td>1249.0</td>\n",
       "    </tr>\n",
       "    <tr>\n",
       "      <th>2018-09-01</th>\n",
       "      <td>1270.0</td>\n",
       "    </tr>\n",
       "    <tr>\n",
       "      <th>2018-10-01</th>\n",
       "      <td>1265.0</td>\n",
       "    </tr>\n",
       "    <tr>\n",
       "      <th>2018-11-01</th>\n",
       "      <td>1322.0</td>\n",
       "    </tr>\n",
       "    <tr>\n",
       "      <th>2018-12-01</th>\n",
       "      <td>1326.0</td>\n",
       "    </tr>\n",
       "  </tbody>\n",
       "</table>\n",
       "</div>"
      ],
      "text/plain": [
       "             Value\n",
       "Date              \n",
       "2018-08-01  1249.0\n",
       "2018-09-01  1270.0\n",
       "2018-10-01  1265.0\n",
       "2018-11-01  1322.0\n",
       "2018-12-01  1326.0"
      ]
     },
     "execution_count": 28,
     "metadata": {},
     "output_type": "execute_result"
    }
   ],
   "source": [
    "df_bp.tail()"
   ]
  },
  {
   "cell_type": "code",
   "execution_count": 29,
   "metadata": {},
   "outputs": [],
   "source": [
    "df_gdp3 = (df_gdp / df_gdp.shift(1) - 1) * 100"
   ]
  },
  {
   "cell_type": "code",
   "execution_count": 30,
   "metadata": {},
   "outputs": [],
   "source": [
    "df_gdp3.rename(columns={'Value':'GDP_Q1'},inplace=True)"
   ]
  },
  {
   "cell_type": "code",
   "execution_count": 31,
   "metadata": {},
   "outputs": [
    {
     "data": {
      "text/html": [
       "<div>\n",
       "<style scoped>\n",
       "    .dataframe tbody tr th:only-of-type {\n",
       "        vertical-align: middle;\n",
       "    }\n",
       "\n",
       "    .dataframe tbody tr th {\n",
       "        vertical-align: top;\n",
       "    }\n",
       "\n",
       "    .dataframe thead th {\n",
       "        text-align: right;\n",
       "    }\n",
       "</style>\n",
       "<table border=\"1\" class=\"dataframe\">\n",
       "  <thead>\n",
       "    <tr style=\"text-align: right;\">\n",
       "      <th></th>\n",
       "      <th>GDP_Q1</th>\n",
       "    </tr>\n",
       "    <tr>\n",
       "      <th>Date</th>\n",
       "      <th></th>\n",
       "    </tr>\n",
       "  </thead>\n",
       "  <tbody>\n",
       "    <tr>\n",
       "      <th>1947-01-01</th>\n",
       "      <td>NaN</td>\n",
       "    </tr>\n",
       "    <tr>\n",
       "      <th>1947-04-01</th>\n",
       "      <td>-0.266691</td>\n",
       "    </tr>\n",
       "    <tr>\n",
       "      <th>1947-07-01</th>\n",
       "      <td>-0.206496</td>\n",
       "    </tr>\n",
       "    <tr>\n",
       "      <th>1947-10-01</th>\n",
       "      <td>1.564208</td>\n",
       "    </tr>\n",
       "    <tr>\n",
       "      <th>1948-01-01</th>\n",
       "      <td>1.504256</td>\n",
       "    </tr>\n",
       "  </tbody>\n",
       "</table>\n",
       "</div>"
      ],
      "text/plain": [
       "              GDP_Q1\n",
       "Date                \n",
       "1947-01-01       NaN\n",
       "1947-04-01 -0.266691\n",
       "1947-07-01 -0.206496\n",
       "1947-10-01  1.564208\n",
       "1948-01-01  1.504256"
      ]
     },
     "execution_count": 31,
     "metadata": {},
     "output_type": "execute_result"
    }
   ],
   "source": [
    "df_gdp3.head()"
   ]
  },
  {
   "cell_type": "code",
   "execution_count": 32,
   "metadata": {},
   "outputs": [],
   "source": [
    "df_gdp6 = (df_gdp / df_gdp.shift (2) - 1) * 100"
   ]
  },
  {
   "cell_type": "code",
   "execution_count": 33,
   "metadata": {},
   "outputs": [],
   "source": [
    "df_gdp6.rename(columns={'Value':'GDP_Q2'},inplace=True)"
   ]
  },
  {
   "cell_type": "code",
   "execution_count": 34,
   "metadata": {},
   "outputs": [],
   "source": [
    "df_gdp9 = (df_gdp / df_gdp.shift (3) - 1) * 100"
   ]
  },
  {
   "cell_type": "code",
   "execution_count": 35,
   "metadata": {},
   "outputs": [],
   "source": [
    "df_gdp9.rename(columns={'Value':'GDP_Q3'},inplace=True)"
   ]
  },
  {
   "cell_type": "code",
   "execution_count": 36,
   "metadata": {},
   "outputs": [],
   "source": [
    "df_gdp12 = (df_gdp / df_gdp.shift (4) - 1) * 100"
   ]
  },
  {
   "cell_type": "code",
   "execution_count": 37,
   "metadata": {},
   "outputs": [],
   "source": [
    "df_gdp12.rename(columns={'Value':'GDP_Q4'},inplace=True)"
   ]
  },
  {
   "cell_type": "code",
   "execution_count": 38,
   "metadata": {},
   "outputs": [],
   "source": [
    "df_ics3 = (df_ics / df_ics.shift (1) - 1) * 100"
   ]
  },
  {
   "cell_type": "code",
   "execution_count": 39,
   "metadata": {},
   "outputs": [],
   "source": [
    "df_ics3.rename(columns={'Index':'ICS_Q1'},inplace=True)"
   ]
  },
  {
   "cell_type": "code",
   "execution_count": 40,
   "metadata": {},
   "outputs": [],
   "source": [
    "df_ics6 = (df_ics / df_ics.shift (2) - 1) * 100"
   ]
  },
  {
   "cell_type": "code",
   "execution_count": 41,
   "metadata": {},
   "outputs": [],
   "source": [
    "df_ics6.rename(columns={'Index':'ICS_Q2'},inplace=True)"
   ]
  },
  {
   "cell_type": "code",
   "execution_count": 42,
   "metadata": {},
   "outputs": [],
   "source": [
    "df_ics9 = (df_ics / df_ics.shift (3) - 1) * 100"
   ]
  },
  {
   "cell_type": "code",
   "execution_count": 43,
   "metadata": {},
   "outputs": [],
   "source": [
    "df_ics9.rename(columns={'Index':'ICS_Q3'},inplace=True)"
   ]
  },
  {
   "cell_type": "code",
   "execution_count": 44,
   "metadata": {},
   "outputs": [],
   "source": [
    "df_ics12 = (df_ics / df_ics.shift (4) - 1) * 100"
   ]
  },
  {
   "cell_type": "code",
   "execution_count": 45,
   "metadata": {},
   "outputs": [],
   "source": [
    "df_ics12.rename(columns={'Index':'ICS_Q4'},inplace=True)"
   ]
  },
  {
   "cell_type": "code",
   "execution_count": 46,
   "metadata": {},
   "outputs": [],
   "source": [
    "df_bp3 = (df_bp / df_bp.shift (1) - 1) * 100"
   ]
  },
  {
   "cell_type": "code",
   "execution_count": 47,
   "metadata": {},
   "outputs": [],
   "source": [
    "df_bp3.rename(columns={'Value':'BP_Q1'},inplace=True)"
   ]
  },
  {
   "cell_type": "code",
   "execution_count": 48,
   "metadata": {},
   "outputs": [],
   "source": [
    "df_bp6 = (df_bp / df_bp.shift (2) - 1) * 100"
   ]
  },
  {
   "cell_type": "code",
   "execution_count": 49,
   "metadata": {},
   "outputs": [],
   "source": [
    "df_bp6.rename(columns={'Value':'BP_Q2'},inplace=True)"
   ]
  },
  {
   "cell_type": "code",
   "execution_count": 50,
   "metadata": {},
   "outputs": [],
   "source": [
    "df_bp9 = (df_bp / df_bp.shift (3) - 1) * 100"
   ]
  },
  {
   "cell_type": "code",
   "execution_count": 51,
   "metadata": {},
   "outputs": [],
   "source": [
    "df_bp9.rename(columns={'Value':'BP_Q3'},inplace=True)"
   ]
  },
  {
   "cell_type": "code",
   "execution_count": 52,
   "metadata": {},
   "outputs": [],
   "source": [
    "df_bp12 = (df_bp / df_bp.shift (4) - 1) * 100"
   ]
  },
  {
   "cell_type": "code",
   "execution_count": 53,
   "metadata": {},
   "outputs": [],
   "source": [
    "df_bp12.rename(columns={'Value':'BP_Q4'},inplace=True)"
   ]
  },
  {
   "cell_type": "code",
   "execution_count": 54,
   "metadata": {},
   "outputs": [
    {
     "data": {
      "text/html": [
       "<div>\n",
       "<style scoped>\n",
       "    .dataframe tbody tr th:only-of-type {\n",
       "        vertical-align: middle;\n",
       "    }\n",
       "\n",
       "    .dataframe tbody tr th {\n",
       "        vertical-align: top;\n",
       "    }\n",
       "\n",
       "    .dataframe thead th {\n",
       "        text-align: right;\n",
       "    }\n",
       "</style>\n",
       "<table border=\"1\" class=\"dataframe\">\n",
       "  <thead>\n",
       "    <tr style=\"text-align: right;\">\n",
       "      <th></th>\n",
       "      <th>GDP_Q1</th>\n",
       "      <th>GDP_Q2</th>\n",
       "      <th>GDP_Q3</th>\n",
       "      <th>GDP_Q4</th>\n",
       "      <th>ICS_Q1</th>\n",
       "      <th>ICS_Q2</th>\n",
       "      <th>ICS_Q3</th>\n",
       "      <th>ICS_Q4</th>\n",
       "      <th>BP_Q1</th>\n",
       "      <th>BP_Q2</th>\n",
       "      <th>BP_Q3</th>\n",
       "      <th>BP_Q4</th>\n",
       "    </tr>\n",
       "    <tr>\n",
       "      <th>Date</th>\n",
       "      <th></th>\n",
       "      <th></th>\n",
       "      <th></th>\n",
       "      <th></th>\n",
       "      <th></th>\n",
       "      <th></th>\n",
       "      <th></th>\n",
       "      <th></th>\n",
       "      <th></th>\n",
       "      <th></th>\n",
       "      <th></th>\n",
       "      <th></th>\n",
       "    </tr>\n",
       "  </thead>\n",
       "  <tbody>\n",
       "    <tr>\n",
       "      <th>2017-10-01</th>\n",
       "      <td>0.567937</td>\n",
       "      <td>1.270387</td>\n",
       "      <td>2.019451</td>\n",
       "      <td>2.471707</td>\n",
       "      <td>-1.756198</td>\n",
       "      <td>1.820128</td>\n",
       "      <td>0.105263</td>\n",
       "      <td>-2.059732</td>\n",
       "      <td>7.097289</td>\n",
       "      <td>3.307692</td>\n",
       "      <td>6.756757</td>\n",
       "      <td>2.362805</td>\n",
       "    </tr>\n",
       "    <tr>\n",
       "      <th>2018-01-01</th>\n",
       "      <td>0.549859</td>\n",
       "      <td>1.120919</td>\n",
       "      <td>1.827231</td>\n",
       "      <td>2.580414</td>\n",
       "      <td>-2.639594</td>\n",
       "      <td>-4.766634</td>\n",
       "      <td>0.841220</td>\n",
       "      <td>-0.929752</td>\n",
       "      <td>3.484848</td>\n",
       "      <td>3.250189</td>\n",
       "      <td>1.712584</td>\n",
       "      <td>8.931419</td>\n",
       "    </tr>\n",
       "    <tr>\n",
       "      <th>2018-04-01</th>\n",
       "      <td>1.023867</td>\n",
       "      <td>1.579356</td>\n",
       "      <td>2.156263</td>\n",
       "      <td>2.869807</td>\n",
       "      <td>1.705115</td>\n",
       "      <td>5.956113</td>\n",
       "      <td>5.735141</td>\n",
       "      <td>2.944162</td>\n",
       "      <td>-0.944081</td>\n",
       "      <td>3.099017</td>\n",
       "      <td>-0.146413</td>\n",
       "      <td>3.333333</td>\n",
       "    </tr>\n",
       "    <tr>\n",
       "      <th>2018-07-01</th>\n",
       "      <td>0.828654</td>\n",
       "      <td>1.861006</td>\n",
       "      <td>2.421098</td>\n",
       "      <td>3.002785</td>\n",
       "      <td>0.204082</td>\n",
       "      <td>-0.607287</td>\n",
       "      <td>-3.155819</td>\n",
       "      <td>-1.504514</td>\n",
       "      <td>0.851393</td>\n",
       "      <td>0.153728</td>\n",
       "      <td>-4.472141</td>\n",
       "      <td>-5.374001</td>\n",
       "    </tr>\n",
       "    <tr>\n",
       "      <th>2018-10-01</th>\n",
       "      <td>0.641089</td>\n",
       "      <td>1.475055</td>\n",
       "      <td>2.514025</td>\n",
       "      <td>3.077708</td>\n",
       "      <td>4.054054</td>\n",
       "      <td>2.247191</td>\n",
       "      <td>1.934827</td>\n",
       "      <td>2.142857</td>\n",
       "      <td>-0.393701</td>\n",
       "      <td>1.281025</td>\n",
       "      <td>-2.916347</td>\n",
       "      <td>-2.089783</td>\n",
       "    </tr>\n",
       "  </tbody>\n",
       "</table>\n",
       "</div>"
      ],
      "text/plain": [
       "              GDP_Q1    GDP_Q2    GDP_Q3    GDP_Q4    ICS_Q1    ICS_Q2  \\\n",
       "Date                                                                     \n",
       "2017-10-01  0.567937  1.270387  2.019451  2.471707 -1.756198  1.820128   \n",
       "2018-01-01  0.549859  1.120919  1.827231  2.580414 -2.639594 -4.766634   \n",
       "2018-04-01  1.023867  1.579356  2.156263  2.869807  1.705115  5.956113   \n",
       "2018-07-01  0.828654  1.861006  2.421098  3.002785  0.204082 -0.607287   \n",
       "2018-10-01  0.641089  1.475055  2.514025  3.077708  4.054054  2.247191   \n",
       "\n",
       "              ICS_Q3    ICS_Q4     BP_Q1     BP_Q2     BP_Q3     BP_Q4  \n",
       "Date                                                                    \n",
       "2017-10-01  0.105263 -2.059732  7.097289  3.307692  6.756757  2.362805  \n",
       "2018-01-01  0.841220 -0.929752  3.484848  3.250189  1.712584  8.931419  \n",
       "2018-04-01  5.735141  2.944162 -0.944081  3.099017 -0.146413  3.333333  \n",
       "2018-07-01 -3.155819 -1.504514  0.851393  0.153728 -4.472141 -5.374001  \n",
       "2018-10-01  1.934827  2.142857 -0.393701  1.281025 -2.916347 -2.089783  "
      ]
     },
     "execution_count": 54,
     "metadata": {},
     "output_type": "execute_result"
    }
   ],
   "source": [
    "df = df_gdp3.join(df_gdp6)\n",
    "df = df.join(df_gdp9)\n",
    "df = df.join(df_gdp12)\n",
    "df = df.join(df_ics3, how='outer')\n",
    "df['ICS_Q1'] = df['ICS_Q1'].fillna(method='ffill')\n",
    "df = df.join(df_ics6, how='outer')\n",
    "df['ICS_Q2'] = df['ICS_Q2'].fillna(method='ffill')\n",
    "df = df.join(df_ics9, how='outer')\n",
    "df['ICS_Q3'] = df['ICS_Q3'].fillna(method='ffill')\n",
    "df = df.join(df_ics12, how='outer')\n",
    "df['ICS_Q4'] = df['ICS_Q4'].fillna(method='ffill')\n",
    "df = df.join(df_bp3)\n",
    "df = df.join(df_bp6)\n",
    "df = df.join(df_bp9)\n",
    "df = df.join(df_bp12)\n",
    "df=df.dropna()\n",
    "df.tail()"
   ]
  },
  {
   "cell_type": "code",
   "execution_count": 55,
   "metadata": {},
   "outputs": [],
   "source": [
    "df1 = pd.read_csv('Desktop/G_blog/Sp500.csv', usecols=['Date', 'Adj Close'], index_col = 'Date', parse_dates=True)"
   ]
  },
  {
   "cell_type": "code",
   "execution_count": 56,
   "metadata": {},
   "outputs": [
    {
     "data": {
      "text/html": [
       "<div>\n",
       "<style scoped>\n",
       "    .dataframe tbody tr th:only-of-type {\n",
       "        vertical-align: middle;\n",
       "    }\n",
       "\n",
       "    .dataframe tbody tr th {\n",
       "        vertical-align: top;\n",
       "    }\n",
       "\n",
       "    .dataframe thead th {\n",
       "        text-align: right;\n",
       "    }\n",
       "</style>\n",
       "<table border=\"1\" class=\"dataframe\">\n",
       "  <thead>\n",
       "    <tr style=\"text-align: right;\">\n",
       "      <th></th>\n",
       "      <th>Adj Close</th>\n",
       "    </tr>\n",
       "    <tr>\n",
       "      <th>Date</th>\n",
       "      <th></th>\n",
       "    </tr>\n",
       "  </thead>\n",
       "  <tbody>\n",
       "    <tr>\n",
       "      <th>1951-01-01</th>\n",
       "      <td>21.660000</td>\n",
       "    </tr>\n",
       "    <tr>\n",
       "      <th>1951-02-01</th>\n",
       "      <td>21.799999</td>\n",
       "    </tr>\n",
       "    <tr>\n",
       "      <th>1951-03-01</th>\n",
       "      <td>21.400000</td>\n",
       "    </tr>\n",
       "    <tr>\n",
       "      <th>1951-04-01</th>\n",
       "      <td>22.430000</td>\n",
       "    </tr>\n",
       "    <tr>\n",
       "      <th>1951-05-01</th>\n",
       "      <td>21.520000</td>\n",
       "    </tr>\n",
       "  </tbody>\n",
       "</table>\n",
       "</div>"
      ],
      "text/plain": [
       "            Adj Close\n",
       "Date                 \n",
       "1951-01-01  21.660000\n",
       "1951-02-01  21.799999\n",
       "1951-03-01  21.400000\n",
       "1951-04-01  22.430000\n",
       "1951-05-01  21.520000"
      ]
     },
     "execution_count": 56,
     "metadata": {},
     "output_type": "execute_result"
    }
   ],
   "source": [
    "df1.head()"
   ]
  },
  {
   "cell_type": "code",
   "execution_count": 57,
   "metadata": {},
   "outputs": [],
   "source": [
    "df = df.join(df1, how='outer')\n",
    "df['Adj Close'] = df['Adj Close'].fillna(method='ffill')\n",
    "df = df.dropna()"
   ]
  },
  {
   "cell_type": "code",
   "execution_count": 58,
   "metadata": {},
   "outputs": [
    {
     "data": {
      "text/html": [
       "<div>\n",
       "<style scoped>\n",
       "    .dataframe tbody tr th:only-of-type {\n",
       "        vertical-align: middle;\n",
       "    }\n",
       "\n",
       "    .dataframe tbody tr th {\n",
       "        vertical-align: top;\n",
       "    }\n",
       "\n",
       "    .dataframe thead th {\n",
       "        text-align: right;\n",
       "    }\n",
       "</style>\n",
       "<table border=\"1\" class=\"dataframe\">\n",
       "  <thead>\n",
       "    <tr style=\"text-align: right;\">\n",
       "      <th></th>\n",
       "      <th>GDP_Q1</th>\n",
       "      <th>GDP_Q2</th>\n",
       "      <th>GDP_Q3</th>\n",
       "      <th>GDP_Q4</th>\n",
       "      <th>ICS_Q1</th>\n",
       "      <th>ICS_Q2</th>\n",
       "      <th>ICS_Q3</th>\n",
       "      <th>ICS_Q4</th>\n",
       "      <th>BP_Q1</th>\n",
       "      <th>BP_Q2</th>\n",
       "      <th>BP_Q3</th>\n",
       "      <th>BP_Q4</th>\n",
       "      <th>Adj Close</th>\n",
       "    </tr>\n",
       "    <tr>\n",
       "      <th>Date</th>\n",
       "      <th></th>\n",
       "      <th></th>\n",
       "      <th></th>\n",
       "      <th></th>\n",
       "      <th></th>\n",
       "      <th></th>\n",
       "      <th></th>\n",
       "      <th></th>\n",
       "      <th></th>\n",
       "      <th></th>\n",
       "      <th></th>\n",
       "      <th></th>\n",
       "      <th></th>\n",
       "    </tr>\n",
       "  </thead>\n",
       "  <tbody>\n",
       "    <tr>\n",
       "      <th>2016-07-01</th>\n",
       "      <td>0.477906</td>\n",
       "      <td>1.046208</td>\n",
       "      <td>1.434904</td>\n",
       "      <td>1.536247</td>\n",
       "      <td>-1.267159</td>\n",
       "      <td>5.056180</td>\n",
       "      <td>2.747253</td>\n",
       "      <td>1.962923</td>\n",
       "      <td>-0.753769</td>\n",
       "      <td>-0.587248</td>\n",
       "      <td>1.979346</td>\n",
       "      <td>7.142857</td>\n",
       "      <td>5.243792</td>\n",
       "    </tr>\n",
       "    <tr>\n",
       "      <th>2016-10-01</th>\n",
       "      <td>0.437574</td>\n",
       "      <td>0.917572</td>\n",
       "      <td>1.488361</td>\n",
       "      <td>1.878757</td>\n",
       "      <td>1.559020</td>\n",
       "      <td>1.333333</td>\n",
       "      <td>-2.459893</td>\n",
       "      <td>-3.695882</td>\n",
       "      <td>0.000000</td>\n",
       "      <td>6.778243</td>\n",
       "      <td>7.679325</td>\n",
       "      <td>6.867672</td>\n",
       "      <td>-2.183023</td>\n",
       "    </tr>\n",
       "    <tr>\n",
       "      <th>2017-01-01</th>\n",
       "      <td>0.443304</td>\n",
       "      <td>0.882818</td>\n",
       "      <td>1.364944</td>\n",
       "      <td>1.938263</td>\n",
       "      <td>4.690832</td>\n",
       "      <td>12.614679</td>\n",
       "      <td>7.675439</td>\n",
       "      <td>9.354120</td>\n",
       "      <td>5.225653</td>\n",
       "      <td>6.405124</td>\n",
       "      <td>4.153605</td>\n",
       "      <td>4.153605</td>\n",
       "      <td>7.182947</td>\n",
       "    </tr>\n",
       "    <tr>\n",
       "      <th>2017-04-01</th>\n",
       "      <td>0.739668</td>\n",
       "      <td>1.186251</td>\n",
       "      <td>1.629016</td>\n",
       "      <td>2.114707</td>\n",
       "      <td>0.623053</td>\n",
       "      <td>-1.624365</td>\n",
       "      <td>-1.323829</td>\n",
       "      <td>3.304904</td>\n",
       "      <td>-1.876466</td>\n",
       "      <td>0.560897</td>\n",
       "      <td>-5.568096</td>\n",
       "      <td>-0.633413</td>\n",
       "      <td>4.622020</td>\n",
       "    </tr>\n",
       "    <tr>\n",
       "      <th>2017-07-01</th>\n",
       "      <td>0.698483</td>\n",
       "      <td>1.443317</td>\n",
       "      <td>1.893019</td>\n",
       "      <td>2.338877</td>\n",
       "      <td>-2.162719</td>\n",
       "      <td>-2.061856</td>\n",
       "      <td>-1.960784</td>\n",
       "      <td>-1.349948</td>\n",
       "      <td>-4.115854</td>\n",
       "      <td>4.398340</td>\n",
       "      <td>0.239044</td>\n",
       "      <td>-1.641908</td>\n",
       "      <td>3.611278</td>\n",
       "    </tr>\n",
       "    <tr>\n",
       "      <th>2017-10-01</th>\n",
       "      <td>0.567937</td>\n",
       "      <td>1.270387</td>\n",
       "      <td>2.019451</td>\n",
       "      <td>2.471707</td>\n",
       "      <td>-1.756198</td>\n",
       "      <td>1.820128</td>\n",
       "      <td>0.105263</td>\n",
       "      <td>-2.059732</td>\n",
       "      <td>7.097289</td>\n",
       "      <td>3.307692</td>\n",
       "      <td>6.756757</td>\n",
       "      <td>2.362805</td>\n",
       "      <td>4.248875</td>\n",
       "    </tr>\n",
       "    <tr>\n",
       "      <th>2018-01-01</th>\n",
       "      <td>0.549859</td>\n",
       "      <td>1.120919</td>\n",
       "      <td>1.827231</td>\n",
       "      <td>2.580414</td>\n",
       "      <td>-2.639594</td>\n",
       "      <td>-4.766634</td>\n",
       "      <td>0.841220</td>\n",
       "      <td>-0.929752</td>\n",
       "      <td>3.484848</td>\n",
       "      <td>3.250189</td>\n",
       "      <td>1.712584</td>\n",
       "      <td>8.931419</td>\n",
       "      <td>9.651455</td>\n",
       "    </tr>\n",
       "    <tr>\n",
       "      <th>2018-04-01</th>\n",
       "      <td>1.023867</td>\n",
       "      <td>1.579356</td>\n",
       "      <td>2.156263</td>\n",
       "      <td>2.869807</td>\n",
       "      <td>1.705115</td>\n",
       "      <td>5.956113</td>\n",
       "      <td>5.735141</td>\n",
       "      <td>2.944162</td>\n",
       "      <td>-0.944081</td>\n",
       "      <td>3.099017</td>\n",
       "      <td>-0.146413</td>\n",
       "      <td>3.333333</td>\n",
       "      <td>-6.224215</td>\n",
       "    </tr>\n",
       "    <tr>\n",
       "      <th>2018-07-01</th>\n",
       "      <td>0.828654</td>\n",
       "      <td>1.861006</td>\n",
       "      <td>2.421098</td>\n",
       "      <td>3.002785</td>\n",
       "      <td>0.204082</td>\n",
       "      <td>-0.607287</td>\n",
       "      <td>-3.155819</td>\n",
       "      <td>-1.504514</td>\n",
       "      <td>0.851393</td>\n",
       "      <td>0.153728</td>\n",
       "      <td>-4.472141</td>\n",
       "      <td>-5.374001</td>\n",
       "      <td>6.353354</td>\n",
       "    </tr>\n",
       "    <tr>\n",
       "      <th>2018-10-01</th>\n",
       "      <td>0.641089</td>\n",
       "      <td>1.475055</td>\n",
       "      <td>2.514025</td>\n",
       "      <td>3.077708</td>\n",
       "      <td>4.054054</td>\n",
       "      <td>2.247191</td>\n",
       "      <td>1.934827</td>\n",
       "      <td>2.142857</td>\n",
       "      <td>-0.393701</td>\n",
       "      <td>1.281025</td>\n",
       "      <td>-2.916347</td>\n",
       "      <td>-2.089783</td>\n",
       "      <td>-3.712332</td>\n",
       "    </tr>\n",
       "  </tbody>\n",
       "</table>\n",
       "</div>"
      ],
      "text/plain": [
       "              GDP_Q1    GDP_Q2    GDP_Q3    GDP_Q4    ICS_Q1     ICS_Q2  \\\n",
       "Date                                                                      \n",
       "2016-07-01  0.477906  1.046208  1.434904  1.536247 -1.267159   5.056180   \n",
       "2016-10-01  0.437574  0.917572  1.488361  1.878757  1.559020   1.333333   \n",
       "2017-01-01  0.443304  0.882818  1.364944  1.938263  4.690832  12.614679   \n",
       "2017-04-01  0.739668  1.186251  1.629016  2.114707  0.623053  -1.624365   \n",
       "2017-07-01  0.698483  1.443317  1.893019  2.338877 -2.162719  -2.061856   \n",
       "2017-10-01  0.567937  1.270387  2.019451  2.471707 -1.756198   1.820128   \n",
       "2018-01-01  0.549859  1.120919  1.827231  2.580414 -2.639594  -4.766634   \n",
       "2018-04-01  1.023867  1.579356  2.156263  2.869807  1.705115   5.956113   \n",
       "2018-07-01  0.828654  1.861006  2.421098  3.002785  0.204082  -0.607287   \n",
       "2018-10-01  0.641089  1.475055  2.514025  3.077708  4.054054   2.247191   \n",
       "\n",
       "              ICS_Q3    ICS_Q4     BP_Q1     BP_Q2     BP_Q3     BP_Q4  \\\n",
       "Date                                                                     \n",
       "2016-07-01  2.747253  1.962923 -0.753769 -0.587248  1.979346  7.142857   \n",
       "2016-10-01 -2.459893 -3.695882  0.000000  6.778243  7.679325  6.867672   \n",
       "2017-01-01  7.675439  9.354120  5.225653  6.405124  4.153605  4.153605   \n",
       "2017-04-01 -1.323829  3.304904 -1.876466  0.560897 -5.568096 -0.633413   \n",
       "2017-07-01 -1.960784 -1.349948 -4.115854  4.398340  0.239044 -1.641908   \n",
       "2017-10-01  0.105263 -2.059732  7.097289  3.307692  6.756757  2.362805   \n",
       "2018-01-01  0.841220 -0.929752  3.484848  3.250189  1.712584  8.931419   \n",
       "2018-04-01  5.735141  2.944162 -0.944081  3.099017 -0.146413  3.333333   \n",
       "2018-07-01 -3.155819 -1.504514  0.851393  0.153728 -4.472141 -5.374001   \n",
       "2018-10-01  1.934827  2.142857 -0.393701  1.281025 -2.916347 -2.089783   \n",
       "\n",
       "            Adj Close  \n",
       "Date                   \n",
       "2016-07-01   5.243792  \n",
       "2016-10-01  -2.183023  \n",
       "2017-01-01   7.182947  \n",
       "2017-04-01   4.622020  \n",
       "2017-07-01   3.611278  \n",
       "2017-10-01   4.248875  \n",
       "2018-01-01   9.651455  \n",
       "2018-04-01  -6.224215  \n",
       "2018-07-01   6.353354  \n",
       "2018-10-01  -3.712332  "
      ]
     },
     "execution_count": 58,
     "metadata": {},
     "output_type": "execute_result"
    }
   ],
   "source": [
    "df['Adj Close'] = (df['Adj Close'] / df['Adj Close'].shift(1) - 1) * 100\n",
    "df.tail(10)"
   ]
  },
  {
   "cell_type": "code",
   "execution_count": 59,
   "metadata": {},
   "outputs": [
    {
     "data": {
      "text/html": [
       "<div>\n",
       "<style scoped>\n",
       "    .dataframe tbody tr th:only-of-type {\n",
       "        vertical-align: middle;\n",
       "    }\n",
       "\n",
       "    .dataframe tbody tr th {\n",
       "        vertical-align: top;\n",
       "    }\n",
       "\n",
       "    .dataframe thead th {\n",
       "        text-align: right;\n",
       "    }\n",
       "</style>\n",
       "<table border=\"1\" class=\"dataframe\">\n",
       "  <thead>\n",
       "    <tr style=\"text-align: right;\">\n",
       "      <th></th>\n",
       "      <th>GDP_Q1</th>\n",
       "      <th>GDP_Q2</th>\n",
       "      <th>GDP_Q3</th>\n",
       "      <th>GDP_Q4</th>\n",
       "      <th>ICS_Q1</th>\n",
       "      <th>ICS_Q2</th>\n",
       "      <th>ICS_Q3</th>\n",
       "      <th>ICS_Q4</th>\n",
       "      <th>BP_Q1</th>\n",
       "      <th>BP_Q2</th>\n",
       "      <th>BP_Q3</th>\n",
       "      <th>BP_Q4</th>\n",
       "      <th>Adj Close</th>\n",
       "    </tr>\n",
       "    <tr>\n",
       "      <th>Date</th>\n",
       "      <th></th>\n",
       "      <th></th>\n",
       "      <th></th>\n",
       "      <th></th>\n",
       "      <th></th>\n",
       "      <th></th>\n",
       "      <th></th>\n",
       "      <th></th>\n",
       "      <th></th>\n",
       "      <th></th>\n",
       "      <th></th>\n",
       "      <th></th>\n",
       "      <th></th>\n",
       "    </tr>\n",
       "  </thead>\n",
       "  <tbody>\n",
       "    <tr>\n",
       "      <th>1960-07-01</th>\n",
       "      <td>0.489275</td>\n",
       "      <td>-0.052751</td>\n",
       "      <td>2.193361</td>\n",
       "      <td>2.484652</td>\n",
       "      <td>-6.700000</td>\n",
       "      <td>-0.533049</td>\n",
       "      <td>-2.098636</td>\n",
       "      <td>2.753304</td>\n",
       "      <td>4.279749</td>\n",
       "      <td>-5.038023</td>\n",
       "      <td>-1.673228</td>\n",
       "      <td>4.607330</td>\n",
       "      <td>-3.819130</td>\n",
       "    </tr>\n",
       "    <tr>\n",
       "      <th>1960-10-01</th>\n",
       "      <td>-1.283434</td>\n",
       "      <td>-0.800439</td>\n",
       "      <td>-1.335508</td>\n",
       "      <td>0.881777</td>\n",
       "      <td>4.180064</td>\n",
       "      <td>-2.800000</td>\n",
       "      <td>3.624733</td>\n",
       "      <td>1.993704</td>\n",
       "      <td>-1.219512</td>\n",
       "      <td>-2.213280</td>\n",
       "      <td>-2.702703</td>\n",
       "      <td>1.461378</td>\n",
       "      <td>15.714554</td>\n",
       "    </tr>\n",
       "    <tr>\n",
       "      <th>1961-01-01</th>\n",
       "      <td>0.675029</td>\n",
       "      <td>-0.617068</td>\n",
       "      <td>-0.130813</td>\n",
       "      <td>-0.669494</td>\n",
       "      <td>-7.304527</td>\n",
       "      <td>-3.429796</td>\n",
       "      <td>-9.900000</td>\n",
       "      <td>-3.944563</td>\n",
       "      <td>1.892744</td>\n",
       "      <td>-1.021450</td>\n",
       "      <td>-0.308642</td>\n",
       "      <td>-1.524390</td>\n",
       "      <td>5.713822</td>\n",
       "    </tr>\n",
       "    <tr>\n",
       "      <th>1961-04-01</th>\n",
       "      <td>1.697479</td>\n",
       "      <td>2.383966</td>\n",
       "      <td>1.069936</td>\n",
       "      <td>1.564445</td>\n",
       "      <td>1.664817</td>\n",
       "      <td>-5.761317</td>\n",
       "      <td>-1.822079</td>\n",
       "      <td>-8.400000</td>\n",
       "      <td>0.200000</td>\n",
       "      <td>4.266389</td>\n",
       "      <td>3.405573</td>\n",
       "      <td>5.362776</td>\n",
       "      <td>2.220187</td>\n",
       "    </tr>\n",
       "    <tr>\n",
       "      <th>1961-07-01</th>\n",
       "      <td>1.919639</td>\n",
       "      <td>3.649703</td>\n",
       "      <td>4.349369</td>\n",
       "      <td>3.010114</td>\n",
       "      <td>0.982533</td>\n",
       "      <td>2.663707</td>\n",
       "      <td>-4.835391</td>\n",
       "      <td>-0.857449</td>\n",
       "      <td>1.214953</td>\n",
       "      <td>5.452775</td>\n",
       "      <td>8.083832</td>\n",
       "      <td>8.300000</td>\n",
       "      <td>2.786101</td>\n",
       "    </tr>\n",
       "    <tr>\n",
       "      <th>1961-10-01</th>\n",
       "      <td>1.961109</td>\n",
       "      <td>3.918395</td>\n",
       "      <td>5.682387</td>\n",
       "      <td>6.395774</td>\n",
       "      <td>7.243243</td>\n",
       "      <td>8.296943</td>\n",
       "      <td>10.099889</td>\n",
       "      <td>2.057613</td>\n",
       "      <td>2.276867</td>\n",
       "      <td>-3.106126</td>\n",
       "      <td>3.693444</td>\n",
       "      <td>4.953271</td>\n",
       "      <td>0.320596</td>\n",
       "    </tr>\n",
       "    <tr>\n",
       "      <th>1962-01-01</th>\n",
       "      <td>1.783599</td>\n",
       "      <td>3.779687</td>\n",
       "      <td>5.771883</td>\n",
       "      <td>7.567338</td>\n",
       "      <td>-6.250000</td>\n",
       "      <td>0.540541</td>\n",
       "      <td>1.528384</td>\n",
       "      <td>3.218646</td>\n",
       "      <td>-3.359173</td>\n",
       "      <td>-2.604167</td>\n",
       "      <td>-0.089047</td>\n",
       "      <td>2.185792</td>\n",
       "      <td>-5.229515</td>\n",
       "    </tr>\n",
       "    <tr>\n",
       "      <th>1962-04-01</th>\n",
       "      <td>0.903672</td>\n",
       "      <td>2.703389</td>\n",
       "      <td>4.717515</td>\n",
       "      <td>6.727713</td>\n",
       "      <td>7.419355</td>\n",
       "      <td>0.705645</td>\n",
       "      <td>8.000000</td>\n",
       "      <td>9.061135</td>\n",
       "      <td>8.906526</td>\n",
       "      <td>3.433836</td>\n",
       "      <td>10.071301</td>\n",
       "      <td>6.373816</td>\n",
       "      <td>-10.744939</td>\n",
       "    </tr>\n",
       "    <tr>\n",
       "      <th>1962-07-01</th>\n",
       "      <td>1.228508</td>\n",
       "      <td>2.143281</td>\n",
       "      <td>3.965108</td>\n",
       "      <td>6.003977</td>\n",
       "      <td>-4.504505</td>\n",
       "      <td>2.580645</td>\n",
       "      <td>-3.830645</td>\n",
       "      <td>3.135135</td>\n",
       "      <td>3.032929</td>\n",
       "      <td>4.115587</td>\n",
       "      <td>-3.724696</td>\n",
       "      <td>4.850088</td>\n",
       "      <td>-2.936631</td>\n",
       "    </tr>\n",
       "    <tr>\n",
       "      <th>1962-10-01</th>\n",
       "      <td>0.328861</td>\n",
       "      <td>1.561409</td>\n",
       "      <td>2.479190</td>\n",
       "      <td>4.307008</td>\n",
       "      <td>-3.983229</td>\n",
       "      <td>-8.308308</td>\n",
       "      <td>-1.505376</td>\n",
       "      <td>-7.661290</td>\n",
       "      <td>-3.434178</td>\n",
       "      <td>-1.583333</td>\n",
       "      <td>-0.672834</td>\n",
       "      <td>2.339688</td>\n",
       "      <td>17.126676</td>\n",
       "    </tr>\n",
       "  </tbody>\n",
       "</table>\n",
       "</div>"
      ],
      "text/plain": [
       "              GDP_Q1    GDP_Q2    GDP_Q3    GDP_Q4    ICS_Q1    ICS_Q2  \\\n",
       "Date                                                                     \n",
       "1960-07-01  0.489275 -0.052751  2.193361  2.484652 -6.700000 -0.533049   \n",
       "1960-10-01 -1.283434 -0.800439 -1.335508  0.881777  4.180064 -2.800000   \n",
       "1961-01-01  0.675029 -0.617068 -0.130813 -0.669494 -7.304527 -3.429796   \n",
       "1961-04-01  1.697479  2.383966  1.069936  1.564445  1.664817 -5.761317   \n",
       "1961-07-01  1.919639  3.649703  4.349369  3.010114  0.982533  2.663707   \n",
       "1961-10-01  1.961109  3.918395  5.682387  6.395774  7.243243  8.296943   \n",
       "1962-01-01  1.783599  3.779687  5.771883  7.567338 -6.250000  0.540541   \n",
       "1962-04-01  0.903672  2.703389  4.717515  6.727713  7.419355  0.705645   \n",
       "1962-07-01  1.228508  2.143281  3.965108  6.003977 -4.504505  2.580645   \n",
       "1962-10-01  0.328861  1.561409  2.479190  4.307008 -3.983229 -8.308308   \n",
       "\n",
       "               ICS_Q3    ICS_Q4     BP_Q1     BP_Q2      BP_Q3     BP_Q4  \\\n",
       "Date                                                                       \n",
       "1960-07-01  -2.098636  2.753304  4.279749 -5.038023  -1.673228  4.607330   \n",
       "1960-10-01   3.624733  1.993704 -1.219512 -2.213280  -2.702703  1.461378   \n",
       "1961-01-01  -9.900000 -3.944563  1.892744 -1.021450  -0.308642 -1.524390   \n",
       "1961-04-01  -1.822079 -8.400000  0.200000  4.266389   3.405573  5.362776   \n",
       "1961-07-01  -4.835391 -0.857449  1.214953  5.452775   8.083832  8.300000   \n",
       "1961-10-01  10.099889  2.057613  2.276867 -3.106126   3.693444  4.953271   \n",
       "1962-01-01   1.528384  3.218646 -3.359173 -2.604167  -0.089047  2.185792   \n",
       "1962-04-01   8.000000  9.061135  8.906526  3.433836  10.071301  6.373816   \n",
       "1962-07-01  -3.830645  3.135135  3.032929  4.115587  -3.724696  4.850088   \n",
       "1962-10-01  -1.505376 -7.661290 -3.434178 -1.583333  -0.672834  2.339688   \n",
       "\n",
       "            Adj Close  \n",
       "Date                   \n",
       "1960-07-01  -3.819130  \n",
       "1960-10-01  15.714554  \n",
       "1961-01-01   5.713822  \n",
       "1961-04-01   2.220187  \n",
       "1961-07-01   2.786101  \n",
       "1961-10-01   0.320596  \n",
       "1962-01-01  -5.229515  \n",
       "1962-04-01 -10.744939  \n",
       "1962-07-01  -2.936631  \n",
       "1962-10-01  17.126676  "
      ]
     },
     "execution_count": 59,
     "metadata": {},
     "output_type": "execute_result"
    }
   ],
   "source": [
    "df['Adj Close'] = df['Adj Close'].shift(-1)\n",
    "df = df.dropna()\n",
    "df.head(10)"
   ]
  },
  {
   "cell_type": "code",
   "execution_count": 60,
   "metadata": {},
   "outputs": [
    {
     "data": {
      "text/html": [
       "<div>\n",
       "<style scoped>\n",
       "    .dataframe tbody tr th:only-of-type {\n",
       "        vertical-align: middle;\n",
       "    }\n",
       "\n",
       "    .dataframe tbody tr th {\n",
       "        vertical-align: top;\n",
       "    }\n",
       "\n",
       "    .dataframe thead th {\n",
       "        text-align: right;\n",
       "    }\n",
       "</style>\n",
       "<table border=\"1\" class=\"dataframe\">\n",
       "  <thead>\n",
       "    <tr style=\"text-align: right;\">\n",
       "      <th></th>\n",
       "      <th>GDP_Q1</th>\n",
       "      <th>GDP_Q2</th>\n",
       "      <th>GDP_Q3</th>\n",
       "      <th>GDP_Q4</th>\n",
       "      <th>ICS_Q1</th>\n",
       "      <th>ICS_Q2</th>\n",
       "      <th>ICS_Q3</th>\n",
       "      <th>ICS_Q4</th>\n",
       "      <th>BP_Q1</th>\n",
       "      <th>BP_Q2</th>\n",
       "      <th>BP_Q3</th>\n",
       "      <th>BP_Q4</th>\n",
       "      <th>Adj Close</th>\n",
       "    </tr>\n",
       "    <tr>\n",
       "      <th>Date</th>\n",
       "      <th></th>\n",
       "      <th></th>\n",
       "      <th></th>\n",
       "      <th></th>\n",
       "      <th></th>\n",
       "      <th></th>\n",
       "      <th></th>\n",
       "      <th></th>\n",
       "      <th></th>\n",
       "      <th></th>\n",
       "      <th></th>\n",
       "      <th></th>\n",
       "      <th></th>\n",
       "    </tr>\n",
       "  </thead>\n",
       "  <tbody>\n",
       "    <tr>\n",
       "      <th>1960-07-01</th>\n",
       "      <td>0.489275</td>\n",
       "      <td>-0.052751</td>\n",
       "      <td>2.193361</td>\n",
       "      <td>2.484652</td>\n",
       "      <td>-6.700000</td>\n",
       "      <td>-0.533049</td>\n",
       "      <td>-2.098636</td>\n",
       "      <td>2.753304</td>\n",
       "      <td>4.279749</td>\n",
       "      <td>-5.038023</td>\n",
       "      <td>-1.673228</td>\n",
       "      <td>4.607330</td>\n",
       "      <td>-3.819130</td>\n",
       "    </tr>\n",
       "    <tr>\n",
       "      <th>1960-10-01</th>\n",
       "      <td>-1.283434</td>\n",
       "      <td>-0.800439</td>\n",
       "      <td>-1.335508</td>\n",
       "      <td>0.881777</td>\n",
       "      <td>4.180064</td>\n",
       "      <td>-2.800000</td>\n",
       "      <td>3.624733</td>\n",
       "      <td>1.993704</td>\n",
       "      <td>-1.219512</td>\n",
       "      <td>-2.213280</td>\n",
       "      <td>-2.702703</td>\n",
       "      <td>1.461378</td>\n",
       "      <td>15.714554</td>\n",
       "    </tr>\n",
       "    <tr>\n",
       "      <th>1961-01-01</th>\n",
       "      <td>0.675029</td>\n",
       "      <td>-0.617068</td>\n",
       "      <td>-0.130813</td>\n",
       "      <td>-0.669494</td>\n",
       "      <td>-7.304527</td>\n",
       "      <td>-3.429796</td>\n",
       "      <td>-9.900000</td>\n",
       "      <td>-3.944563</td>\n",
       "      <td>1.892744</td>\n",
       "      <td>-1.021450</td>\n",
       "      <td>-0.308642</td>\n",
       "      <td>-1.524390</td>\n",
       "      <td>5.713822</td>\n",
       "    </tr>\n",
       "    <tr>\n",
       "      <th>1961-04-01</th>\n",
       "      <td>1.697479</td>\n",
       "      <td>2.383966</td>\n",
       "      <td>1.069936</td>\n",
       "      <td>1.564445</td>\n",
       "      <td>1.664817</td>\n",
       "      <td>-5.761317</td>\n",
       "      <td>-1.822079</td>\n",
       "      <td>-8.400000</td>\n",
       "      <td>0.200000</td>\n",
       "      <td>4.266389</td>\n",
       "      <td>3.405573</td>\n",
       "      <td>5.362776</td>\n",
       "      <td>2.220187</td>\n",
       "    </tr>\n",
       "    <tr>\n",
       "      <th>1961-07-01</th>\n",
       "      <td>1.919639</td>\n",
       "      <td>3.649703</td>\n",
       "      <td>4.349369</td>\n",
       "      <td>3.010114</td>\n",
       "      <td>0.982533</td>\n",
       "      <td>2.663707</td>\n",
       "      <td>-4.835391</td>\n",
       "      <td>-0.857449</td>\n",
       "      <td>1.214953</td>\n",
       "      <td>5.452775</td>\n",
       "      <td>8.083832</td>\n",
       "      <td>8.300000</td>\n",
       "      <td>2.786101</td>\n",
       "    </tr>\n",
       "  </tbody>\n",
       "</table>\n",
       "</div>"
      ],
      "text/plain": [
       "              GDP_Q1    GDP_Q2    GDP_Q3    GDP_Q4    ICS_Q1    ICS_Q2  \\\n",
       "Date                                                                     \n",
       "1960-07-01  0.489275 -0.052751  2.193361  2.484652 -6.700000 -0.533049   \n",
       "1960-10-01 -1.283434 -0.800439 -1.335508  0.881777  4.180064 -2.800000   \n",
       "1961-01-01  0.675029 -0.617068 -0.130813 -0.669494 -7.304527 -3.429796   \n",
       "1961-04-01  1.697479  2.383966  1.069936  1.564445  1.664817 -5.761317   \n",
       "1961-07-01  1.919639  3.649703  4.349369  3.010114  0.982533  2.663707   \n",
       "\n",
       "              ICS_Q3    ICS_Q4     BP_Q1     BP_Q2     BP_Q3     BP_Q4  \\\n",
       "Date                                                                     \n",
       "1960-07-01 -2.098636  2.753304  4.279749 -5.038023 -1.673228  4.607330   \n",
       "1960-10-01  3.624733  1.993704 -1.219512 -2.213280 -2.702703  1.461378   \n",
       "1961-01-01 -9.900000 -3.944563  1.892744 -1.021450 -0.308642 -1.524390   \n",
       "1961-04-01 -1.822079 -8.400000  0.200000  4.266389  3.405573  5.362776   \n",
       "1961-07-01 -4.835391 -0.857449  1.214953  5.452775  8.083832  8.300000   \n",
       "\n",
       "            Adj Close  \n",
       "Date                   \n",
       "1960-07-01  -3.819130  \n",
       "1960-10-01  15.714554  \n",
       "1961-01-01   5.713822  \n",
       "1961-04-01   2.220187  \n",
       "1961-07-01   2.786101  "
      ]
     },
     "execution_count": 60,
     "metadata": {},
     "output_type": "execute_result"
    }
   ],
   "source": [
    "df.head()"
   ]
  },
  {
   "cell_type": "code",
   "execution_count": 61,
   "metadata": {},
   "outputs": [],
   "source": [
    "basis_Y = df['Adj Close']\n",
    "df = df.drop(['Adj Close'], axis=1)\n",
    "basis_X = df"
   ]
  },
  {
   "cell_type": "code",
   "execution_count": 62,
   "metadata": {},
   "outputs": [],
   "source": [
    "basis_Y_cl = basis_Y"
   ]
  },
  {
   "cell_type": "code",
   "execution_count": 63,
   "metadata": {},
   "outputs": [
    {
     "data": {
      "text/plain": [
       "Date\n",
       "1960-07-01    -3.819130\n",
       "1960-10-01    15.714554\n",
       "1961-01-01     5.713822\n",
       "1961-04-01     2.220187\n",
       "1961-07-01     2.786101\n",
       "Name: Adj Close, dtype: float64"
      ]
     },
     "execution_count": 63,
     "metadata": {},
     "output_type": "execute_result"
    }
   ],
   "source": [
    "basis_Y_cl.head()"
   ]
  },
  {
   "cell_type": "code",
   "execution_count": 64,
   "metadata": {},
   "outputs": [
    {
     "data": {
      "text/plain": [
       "Date\n",
       "1960-07-01    0.0\n",
       "1960-10-01    1.0\n",
       "1961-01-01    1.0\n",
       "1961-04-01    1.0\n",
       "1961-07-01    1.0\n",
       "Name: Adj Close, dtype: float64"
      ]
     },
     "execution_count": 64,
     "metadata": {},
     "output_type": "execute_result"
    }
   ],
   "source": [
    "basis_Y_cl[basis_Y_cl < 0] = 0\n",
    "basis_Y_cl[basis_Y_cl > 0] = 1\n",
    "basis_Y_cl.head()"
   ]
  },
  {
   "cell_type": "code",
   "execution_count": 65,
   "metadata": {},
   "outputs": [],
   "source": [
    "from sklearn.model_selection import train_test_split"
   ]
  },
  {
   "cell_type": "code",
   "execution_count": 66,
   "metadata": {},
   "outputs": [
    {
     "name": "stdout",
     "output_type": "stream",
     "text": [
      "\n",
      "basis_X_train:\n",
      "\n",
      "              GDP_Q1    GDP_Q2    GDP_Q3    GDP_Q4  ICS_Q1    ICS_Q2  \\\n",
      "Date                                                                   \n",
      "1960-07-01  0.489275 -0.052751  2.193361  2.484652    -6.7 -0.533049   \n",
      "\n",
      "              ICS_Q3    ICS_Q4     BP_Q1     BP_Q2     BP_Q3    BP_Q4  \n",
      "Date                                                                   \n",
      "1960-07-01 -2.098636  2.753304  4.279749 -5.038023 -1.673228  4.60733  \n",
      "              GDP_Q1    GDP_Q2   GDP_Q3    GDP_Q4    ICS_Q1    ICS_Q2  \\\n",
      "Date                                                                    \n",
      "2006-10-01  0.851865  1.007815  1.24387  2.590704  4.146341  0.826446   \n",
      "\n",
      "              ICS_Q3    ICS_Q4     BP_Q1     BP_Q2      BP_Q3      BP_Q4  \n",
      "Date                                                                      \n",
      "2006-10-01  0.588928  7.964602 -5.135952 -8.826945 -10.947249 -15.907874  \n",
      "(186, 12)\n",
      "\n",
      "basis_X_test:\n",
      "\n",
      "              GDP_Q1    GDP_Q2    GDP_Q3    GDP_Q4    ICS_Q1    ICS_Q2  \\\n",
      "Date                                                                     \n",
      "2007-01-01  0.235493  1.089364  1.245682  1.482293 -0.434311 -2.029915   \n",
      "\n",
      "              ICS_Q3     ICS_Q4     BP_Q1     BP_Q2     BP_Q3     BP_Q4  \n",
      "Date                                                                     \n",
      "2007-01-01  7.377049  11.829268 -0.732601  5.928339  3.566879 -1.752266  \n",
      "              GDP_Q1    GDP_Q2    GDP_Q3    GDP_Q4    ICS_Q1    ICS_Q2  \\\n",
      "Date                                                                     \n",
      "2018-07-01  0.828654  1.861006  2.421098  3.002785  0.204082 -0.607287   \n",
      "\n",
      "              ICS_Q3    ICS_Q4     BP_Q1     BP_Q2     BP_Q3     BP_Q4  \n",
      "Date                                                                    \n",
      "2018-07-01 -3.155819 -1.504514  0.851393  0.153728 -4.472141 -5.374001  \n",
      "(47, 12)\n"
     ]
    }
   ],
   "source": [
    "basis_X_train, basis_X_test, basis_Y_cl_train, basis_Y_cl_test = train_test_split(basis_X, basis_Y_cl, shuffle=False, test_size=0.2)\n",
    "print(\"\\nbasis_X_train:\\n\")\n",
    "print(basis_X_train.head(1))\n",
    "print(basis_X_train.tail(1))\n",
    "print(basis_X_train.shape)\n",
    "\n",
    "print(\"\\nbasis_X_test:\\n\")\n",
    "print(basis_X_test.head(1))\n",
    "print(basis_X_test.tail(1))\n",
    "print(basis_X_test.shape)"
   ]
  },
  {
   "cell_type": "code",
   "execution_count": 67,
   "metadata": {},
   "outputs": [
    {
     "name": "stderr",
     "output_type": "stream",
     "text": [
      "C:\\Users\\AKINLOLU\\Anaconda3\\lib\\site-packages\\sklearn\\linear_model\\logistic.py:433: FutureWarning: Default solver will be changed to 'lbfgs' in 0.22. Specify a solver to silence this warning.\n",
      "  FutureWarning)\n"
     ]
    },
    {
     "data": {
      "text/plain": [
       "array([1., 1., 1., 1., 1., 1., 1., 0., 0., 1., 1., 1., 1., 1., 1., 1., 1.,\n",
       "       1., 1., 1., 1., 1., 1., 1., 1., 1., 1., 1., 0., 1., 1., 1., 1., 1.,\n",
       "       1., 1., 1., 1., 1., 1., 1., 1., 1., 1., 1., 1., 1.])"
      ]
     },
     "execution_count": 67,
     "metadata": {},
     "output_type": "execute_result"
    }
   ],
   "source": [
    "from sklearn.linear_model import LogisticRegression\n",
    "regr = LogisticRegression()\n",
    "    # Train the model using the training sets\n",
    "regr.fit(basis_X_train, basis_Y_cl_train)\n",
    "    # Make predictions using the testing set\n",
    "basis_Y_cl_pred = regr.predict(basis_X_test)\n",
    "basis_Y_cl_pred"
   ]
  },
  {
   "cell_type": "code",
   "execution_count": 68,
   "metadata": {},
   "outputs": [
    {
     "data": {
      "text/plain": [
       "0.6595744680851063"
      ]
     },
     "execution_count": 68,
     "metadata": {},
     "output_type": "execute_result"
    }
   ],
   "source": [
    "from sklearn.metrics import accuracy_score\n",
    "accuracy_score(basis_Y_cl_test, basis_Y_cl_pred)"
   ]
  },
  {
   "cell_type": "code",
   "execution_count": 69,
   "metadata": {},
   "outputs": [
    {
     "name": "stdout",
     "output_type": "stream",
     "text": [
      "Accuracy of logistic regression classifier on test set: 0.66\n"
     ]
    }
   ],
   "source": [
    "print('Accuracy of logistic regression classifier on test set: {:.2f}'.format(regr.score(basis_X_test, basis_Y_cl_test)))"
   ]
  },
  {
   "cell_type": "code",
   "execution_count": 70,
   "metadata": {},
   "outputs": [
    {
     "data": {
      "text/plain": [
       "array([0., 0., 0., 0., 0., 1., 0., 0., 0., 1., 1., 1., 1., 1., 1., 0., 1.,\n",
       "       0., 0., 1., 1., 1., 0., 1., 0., 0., 0., 1., 0., 0., 0., 1., 0., 1.,\n",
       "       0., 0., 0., 0., 0., 1., 0., 0., 1., 0., 0., 0., 1.])"
      ]
     },
     "execution_count": 70,
     "metadata": {},
     "output_type": "execute_result"
    }
   ],
   "source": [
    "from sklearn import tree\n",
    "dec = tree.DecisionTreeClassifier()\n",
    "dec.fit(basis_X_train, basis_Y_cl_train)\n",
    "basis_Y_cl_pred = dec.predict(basis_X_test)\n",
    "basis_Y_cl_pred"
   ]
  },
  {
   "cell_type": "code",
   "execution_count": 71,
   "metadata": {},
   "outputs": [
    {
     "data": {
      "text/plain": [
       "0.48936170212765956"
      ]
     },
     "execution_count": 71,
     "metadata": {},
     "output_type": "execute_result"
    }
   ],
   "source": [
    "accuracy_score(basis_Y_cl_test, basis_Y_cl_pred)"
   ]
  },
  {
   "cell_type": "code",
   "execution_count": 72,
   "metadata": {},
   "outputs": [
    {
     "data": {
      "text/plain": [
       "array([1., 1., 1., 1., 1., 1., 1., 1., 1., 1., 1., 1., 1., 1., 1., 1., 1.,\n",
       "       1., 1., 1., 1., 1., 1., 1., 1., 1., 1., 1., 1., 1., 1., 1., 1., 1.,\n",
       "       1., 1., 1., 1., 1., 1., 1., 1., 1., 1., 1., 1., 1.])"
      ]
     },
     "execution_count": 72,
     "metadata": {},
     "output_type": "execute_result"
    }
   ],
   "source": [
    "from sklearn.svm import SVC\n",
    "clf = SVC(gamma='auto')\n",
    "clf.fit(basis_X_train, basis_Y_cl_train)\n",
    "basis_Y_cl_pred = clf.predict(basis_X_test)\n",
    "basis_Y_cl_pred"
   ]
  },
  {
   "cell_type": "code",
   "execution_count": 73,
   "metadata": {},
   "outputs": [
    {
     "data": {
      "text/plain": [
       "0.6808510638297872"
      ]
     },
     "execution_count": 73,
     "metadata": {},
     "output_type": "execute_result"
    }
   ],
   "source": [
    "accuracy_score(basis_Y_cl_test, basis_Y_cl_pred)"
   ]
  },
  {
   "cell_type": "code",
   "execution_count": 74,
   "metadata": {},
   "outputs": [
    {
     "data": {
      "text/plain": [
       "array([1., 1., 0., 1., 1., 1., 1., 1., 1., 1., 1., 0., 1., 1., 1., 1., 0.,\n",
       "       1., 0., 0., 0., 0., 1., 0., 1., 0., 1., 1., 1., 1., 1., 1., 1., 1.,\n",
       "       1., 1., 1., 1., 1., 1., 0., 1., 0., 1., 1., 0., 1.])"
      ]
     },
     "execution_count": 74,
     "metadata": {},
     "output_type": "execute_result"
    }
   ],
   "source": [
    "from sklearn.neighbors import KNeighborsClassifier\n",
    "neigh = KNeighborsClassifier()\n",
    "neigh.fit(basis_X_train, basis_Y_cl_train)\n",
    "basis_Y_cl_pred = neigh.predict(basis_X_test)\n",
    "basis_Y_cl_pred"
   ]
  },
  {
   "cell_type": "code",
   "execution_count": 75,
   "metadata": {},
   "outputs": [
    {
     "data": {
      "text/plain": [
       "0.5106382978723404"
      ]
     },
     "execution_count": 75,
     "metadata": {},
     "output_type": "execute_result"
    }
   ],
   "source": [
    "accuracy_score(basis_Y_cl_test, basis_Y_cl_pred)"
   ]
  },
  {
   "cell_type": "code",
   "execution_count": 133,
   "metadata": {},
   "outputs": [
    {
     "name": "stderr",
     "output_type": "stream",
     "text": [
      "C:\\Users\\AKINLOLU\\Anaconda3\\lib\\site-packages\\sklearn\\model_selection\\_search.py:841: DeprecationWarning: The default of the `iid` parameter will change from True to False in version 0.22 and will be removed in 0.24. This will change numeric results when test-set sizes are unequal.\n",
      "  DeprecationWarning)\n",
      "C:\\Users\\AKINLOLU\\Anaconda3\\lib\\site-packages\\sklearn\\model_selection\\_search.py:841: DeprecationWarning: The default of the `iid` parameter will change from True to False in version 0.22 and will be removed in 0.24. This will change numeric results when test-set sizes are unequal.\n",
      "  DeprecationWarning)\n",
      "C:\\Users\\AKINLOLU\\Anaconda3\\lib\\site-packages\\sklearn\\model_selection\\_search.py:841: DeprecationWarning: The default of the `iid` parameter will change from True to False in version 0.22 and will be removed in 0.24. This will change numeric results when test-set sizes are unequal.\n",
      "  DeprecationWarning)\n"
     ]
    }
   ],
   "source": [
    "from sklearn.model_selection import cross_val_score\n",
    "res = cross_val_score(neigh, basis_X, basis_Y_cl, cv=3, scoring=\"accuracy\")"
   ]
  },
  {
   "cell_type": "code",
   "execution_count": 134,
   "metadata": {},
   "outputs": [
    {
     "data": {
      "text/plain": [
       "0.6135531135531135"
      ]
     },
     "execution_count": 134,
     "metadata": {},
     "output_type": "execute_result"
    }
   ],
   "source": [
    "res.mean()"
   ]
  },
  {
   "cell_type": "code",
   "execution_count": 136,
   "metadata": {},
   "outputs": [
    {
     "name": "stderr",
     "output_type": "stream",
     "text": [
      "C:\\Users\\AKINLOLU\\Anaconda3\\lib\\site-packages\\sklearn\\model_selection\\_split.py:2053: FutureWarning: You should specify a value for 'cv' instead of relying on the default value. The default value will change from 3 to 5 in version 0.22.\n",
      "  warnings.warn(CV_WARNING, FutureWarning)\n",
      "C:\\Users\\AKINLOLU\\Anaconda3\\lib\\site-packages\\sklearn\\model_selection\\_search.py:841: DeprecationWarning: The default of the `iid` parameter will change from True to False in version 0.22 and will be removed in 0.24. This will change numeric results when test-set sizes are unequal.\n",
      "  DeprecationWarning)\n",
      "C:\\Users\\AKINLOLU\\Anaconda3\\lib\\site-packages\\sklearn\\model_selection\\_split.py:2053: FutureWarning: You should specify a value for 'cv' instead of relying on the default value. The default value will change from 3 to 5 in version 0.22.\n",
      "  warnings.warn(CV_WARNING, FutureWarning)\n",
      "C:\\Users\\AKINLOLU\\Anaconda3\\lib\\site-packages\\sklearn\\model_selection\\_search.py:841: DeprecationWarning: The default of the `iid` parameter will change from True to False in version 0.22 and will be removed in 0.24. This will change numeric results when test-set sizes are unequal.\n",
      "  DeprecationWarning)\n",
      "C:\\Users\\AKINLOLU\\Anaconda3\\lib\\site-packages\\sklearn\\model_selection\\_split.py:2053: FutureWarning: You should specify a value for 'cv' instead of relying on the default value. The default value will change from 3 to 5 in version 0.22.\n",
      "  warnings.warn(CV_WARNING, FutureWarning)\n",
      "C:\\Users\\AKINLOLU\\Anaconda3\\lib\\site-packages\\sklearn\\model_selection\\_search.py:841: DeprecationWarning: The default of the `iid` parameter will change from True to False in version 0.22 and will be removed in 0.24. This will change numeric results when test-set sizes are unequal.\n",
      "  DeprecationWarning)\n"
     ]
    }
   ],
   "source": [
    "res = cross_val_score(clf, basis_X, basis_Y_cl, cv=3, scoring=\"accuracy\")"
   ]
  },
  {
   "cell_type": "code",
   "execution_count": 137,
   "metadata": {},
   "outputs": [
    {
     "data": {
      "text/plain": [
       "0.601065601065601"
      ]
     },
     "execution_count": 137,
     "metadata": {},
     "output_type": "execute_result"
    }
   ],
   "source": [
    "res.mean()"
   ]
  },
  {
   "cell_type": "code",
   "execution_count": 138,
   "metadata": {},
   "outputs": [
    {
     "name": "stderr",
     "output_type": "stream",
     "text": [
      "C:\\Users\\AKINLOLU\\Anaconda3\\lib\\site-packages\\sklearn\\model_selection\\_search.py:841: DeprecationWarning: The default of the `iid` parameter will change from True to False in version 0.22 and will be removed in 0.24. This will change numeric results when test-set sizes are unequal.\n",
      "  DeprecationWarning)\n"
     ]
    }
   ],
   "source": [
    "res = cross_val_score(dec, basis_X, basis_Y_cl, cv=3, scoring=\"accuracy\")"
   ]
  },
  {
   "cell_type": "code",
   "execution_count": 139,
   "metadata": {},
   "outputs": [
    {
     "data": {
      "text/plain": [
       "0.6438006438006438"
      ]
     },
     "execution_count": 139,
     "metadata": {},
     "output_type": "execute_result"
    }
   ],
   "source": [
    "res.mean()"
   ]
  },
  {
   "cell_type": "code",
   "execution_count": 120,
   "metadata": {},
   "outputs": [
    {
     "name": "stderr",
     "output_type": "stream",
     "text": [
      "C:\\Users\\AKINLOLU\\Anaconda3\\lib\\site-packages\\sklearn\\model_selection\\_search.py:841: DeprecationWarning: The default of the `iid` parameter will change from True to False in version 0.22 and will be removed in 0.24. This will change numeric results when test-set sizes are unequal.\n",
      "  DeprecationWarning)\n",
      "C:\\Users\\AKINLOLU\\Anaconda3\\lib\\site-packages\\sklearn\\model_selection\\_search.py:841: DeprecationWarning: The default of the `iid` parameter will change from True to False in version 0.22 and will be removed in 0.24. This will change numeric results when test-set sizes are unequal.\n",
      "  DeprecationWarning)\n",
      "C:\\Users\\AKINLOLU\\Anaconda3\\lib\\site-packages\\sklearn\\model_selection\\_search.py:841: DeprecationWarning: The default of the `iid` parameter will change from True to False in version 0.22 and will be removed in 0.24. This will change numeric results when test-set sizes are unequal.\n",
      "  DeprecationWarning)\n"
     ]
    }
   ],
   "source": [
    "res = cross_val_score(regr, basis_X, basis_Y_cl, cv=3, scoring=\"accuracy\")"
   ]
  },
  {
   "cell_type": "code",
   "execution_count": 122,
   "metadata": {},
   "outputs": [
    {
     "data": {
      "text/plain": [
       "0.6096126096126097"
      ]
     },
     "execution_count": 122,
     "metadata": {},
     "output_type": "execute_result"
    }
   ],
   "source": [
    "res.mean()"
   ]
  },
  {
   "cell_type": "code",
   "execution_count": 123,
   "metadata": {},
   "outputs": [
    {
     "name": "stderr",
     "output_type": "stream",
     "text": [
      "C:\\Users\\AKINLOLU\\Anaconda3\\lib\\site-packages\\sklearn\\model_selection\\_search.py:841: DeprecationWarning: The default of the `iid` parameter will change from True to False in version 0.22 and will be removed in 0.24. This will change numeric results when test-set sizes are unequal.\n",
      "  DeprecationWarning)\n"
     ]
    },
    {
     "data": {
      "text/plain": [
       "GridSearchCV(cv=3, error_score='raise-deprecating',\n",
       "       estimator=LogisticRegression(C=1.0, class_weight=None, dual=False, fit_intercept=True,\n",
       "          intercept_scaling=1, max_iter=100, multi_class='warn',\n",
       "          n_jobs=None, penalty='l2', random_state=None, solver='liblinear',\n",
       "          tol=0.0001, verbose=0, warm_start=False),\n",
       "       fit_params=None, iid='warn', n_jobs=None,\n",
       "       param_grid={'C': [0.1, 0.5, 1, 5, 10, 50, 100]},\n",
       "       pre_dispatch='2*n_jobs', refit=True, return_train_score='warn',\n",
       "       scoring='accuracy', verbose=0)"
      ]
     },
     "execution_count": 123,
     "metadata": {},
     "output_type": "execute_result"
    }
   ],
   "source": [
    "from sklearn.model_selection import GridSearchCV\n",
    "tuned_parameters = {'C': [0.1, 0.5, 1, 5, 10, 50, 100]}\n",
    "regr = GridSearchCV(LogisticRegression(solver='liblinear'), tuned_parameters, cv=3, scoring=\"accuracy\")\n",
    "regr.fit(basis_X, basis_Y_cl)"
   ]
  },
  {
   "cell_type": "code",
   "execution_count": 125,
   "metadata": {},
   "outputs": [
    {
     "name": "stdout",
     "output_type": "stream",
     "text": [
      "{'C': 1}\n",
      "0.6137339055793991\n"
     ]
    }
   ],
   "source": [
    "print(regr.best_params_)\n",
    "print(regr.best_score_)"
   ]
  },
  {
   "cell_type": "code",
   "execution_count": 126,
   "metadata": {},
   "outputs": [
    {
     "name": "stdout",
     "output_type": "stream",
     "text": [
      "0.851063829787234\n"
     ]
    }
   ],
   "source": [
    "predictions = regr.predict(basis_X_test)\n",
    "print(accuracy_score(basis_Y_cl_pred, predictions))"
   ]
  },
  {
   "cell_type": "code",
   "execution_count": 127,
   "metadata": {},
   "outputs": [
    {
     "name": "stdout",
     "output_type": "stream",
     "text": [
      "0.8085106382978723\n"
     ]
    }
   ],
   "source": [
    "regr = LogisticRegression(C=0.1, solver='liblinear')\n",
    "regr.fit(basis_X_train, basis_Y_cl_train)\n",
    "\n",
    "predictions = regr.predict(basis_X_test)\n",
    "print(accuracy_score(basis_Y_cl_pred, predictions))"
   ]
  },
  {
   "cell_type": "code",
   "execution_count": 128,
   "metadata": {},
   "outputs": [
    {
     "name": "stderr",
     "output_type": "stream",
     "text": [
      "C:\\Users\\AKINLOLU\\Anaconda3\\lib\\site-packages\\sklearn\\model_selection\\_search.py:841: DeprecationWarning: The default of the `iid` parameter will change from True to False in version 0.22 and will be removed in 0.24. This will change numeric results when test-set sizes are unequal.\n",
      "  DeprecationWarning)\n"
     ]
    },
    {
     "data": {
      "text/plain": [
       "GridSearchCV(cv=5, error_score='raise-deprecating',\n",
       "       estimator=DecisionTreeClassifier(class_weight=None, criterion='gini', max_depth=None,\n",
       "            max_features=None, max_leaf_nodes=None,\n",
       "            min_impurity_decrease=0.0, min_impurity_split=None,\n",
       "            min_samples_leaf=1, min_samples_split=2,\n",
       "            min_weight_fraction_leaf=0.0, presort=False, random_state=None,\n",
       "            splitter='best'),\n",
       "       fit_params=None, iid='warn', n_jobs=None,\n",
       "       param_grid={'criterion': ['gini', 'entropy'], 'max_depth': [1, 2, 3, 4, 5, 6]},\n",
       "       pre_dispatch='2*n_jobs', refit=True, return_train_score='warn',\n",
       "       scoring=None, verbose=0)"
      ]
     },
     "execution_count": 128,
     "metadata": {},
     "output_type": "execute_result"
    }
   ],
   "source": [
    "from sklearn.tree import DecisionTreeClassifier\n",
    "tree_para = {'criterion':['gini','entropy'],'max_depth':[1,2,3,4,5,6]}\n",
    "dec = GridSearchCV(DecisionTreeClassifier(), tree_para, cv=5)\n",
    "dec.fit(basis_X, basis_Y_cl)"
   ]
  },
  {
   "cell_type": "code",
   "execution_count": 129,
   "metadata": {},
   "outputs": [
    {
     "name": "stdout",
     "output_type": "stream",
     "text": [
      "{'criterion': 'gini', 'max_depth': 2}\n",
      "0.648068669527897\n"
     ]
    }
   ],
   "source": [
    "print(dec.best_params_)\n",
    "print(dec.best_score_)"
   ]
  },
  {
   "cell_type": "code",
   "execution_count": 130,
   "metadata": {},
   "outputs": [
    {
     "name": "stdout",
     "output_type": "stream",
     "text": [
      "0.8723404255319149\n"
     ]
    }
   ],
   "source": [
    "predictions = dec.predict(basis_X_test)\n",
    "print(accuracy_score(basis_Y_cl_pred, predictions))"
   ]
  },
  {
   "cell_type": "code",
   "execution_count": 160,
   "metadata": {},
   "outputs": [
    {
     "name": "stderr",
     "output_type": "stream",
     "text": [
      "C:\\Users\\AKINLOLU\\Anaconda3\\lib\\site-packages\\sklearn\\model_selection\\_split.py:2053: FutureWarning: You should specify a value for 'cv' instead of relying on the default value. The default value will change from 3 to 5 in version 0.22.\n",
      "  warnings.warn(CV_WARNING, FutureWarning)\n"
     ]
    },
    {
     "data": {
      "text/plain": [
       "GridSearchCV(cv='warn', error_score='raise-deprecating',\n",
       "       estimator=SVC(C=1.0, cache_size=200, class_weight=None, coef0=0.0,\n",
       "  decision_function_shape='ovr', degree=3, gamma='auto_deprecated',\n",
       "  kernel='rbf', max_iter=-1, probability=False, random_state=None,\n",
       "  shrinking=True, tol=0.001, verbose=False),\n",
       "       fit_params=None, iid='warn', n_jobs=None,\n",
       "       param_grid={'C': array([1.0000e-06, 1.1112e-02, 2.2223e-02, 3.3334e-02, 4.4445e-02,\n",
       "       5.5556e-02, 6.6667e-02, 7.7778e-02, 8.8889e-02, 1.0000e-01]), 'gamma': array([1.0000e-04, 1.1112e+00, 2.2223e+00, 3.3334e+00, 4.4445e+00,\n",
       "       5.5556e+00, 6.6667e+00, 7.7778e+00, 8.8889e+00, 1.0000e+01])},\n",
       "       pre_dispatch='2*n_jobs', refit=True, return_train_score='warn',\n",
       "       scoring=None, verbose=0)"
      ]
     },
     "execution_count": 160,
     "metadata": {},
     "output_type": "execute_result"
    }
   ],
   "source": [
    "from sklearn.model_selection import GridSearchCV\n",
    "\n",
    "# Create my estimator and prepare the parameter grid dictionary\n",
    "params_dict = {\"C\": np.linspace(0.000001, 0.1, 10), \"gamma\": np.linspace(0.0001, 10, 10)}\n",
    "svm = SVC(kernel=\"rbf\")\n",
    "\n",
    "clf = GridSearchCV(estimator=svm, param_grid=params_dict)\n",
    "clf.fit(basis_X, basis_Y_cl)"
   ]
  },
  {
   "cell_type": "code",
   "execution_count": 161,
   "metadata": {},
   "outputs": [
    {
     "name": "stdout",
     "output_type": "stream",
     "text": [
      "{'C': 1e-06, 'gamma': 0.0001}\n",
      "0.6437768240343348\n"
     ]
    }
   ],
   "source": [
    "print(clf.best_params_)\n",
    "print(clf.best_score_)"
   ]
  },
  {
   "cell_type": "code",
   "execution_count": 109,
   "metadata": {},
   "outputs": [
    {
     "name": "stdout",
     "output_type": "stream",
     "text": [
      "0.7446808510638298\n"
     ]
    }
   ],
   "source": [
    "predictions = clf.predict(basis_X_test)\n",
    "print(accuracy_score(basis_Y_cl_pred, predictions))"
   ]
  },
  {
   "cell_type": "code",
   "execution_count": 166,
   "metadata": {},
   "outputs": [
    {
     "name": "stderr",
     "output_type": "stream",
     "text": [
      "C:\\Users\\AKINLOLU\\Anaconda3\\lib\\site-packages\\sklearn\\model_selection\\_search.py:841: DeprecationWarning: The default of the `iid` parameter will change from True to False in version 0.22 and will be removed in 0.24. This will change numeric results when test-set sizes are unequal.\n",
      "  DeprecationWarning)\n"
     ]
    },
    {
     "data": {
      "text/plain": [
       "GridSearchCV(cv=10, error_score='raise-deprecating',\n",
       "       estimator=KNeighborsClassifier(algorithm='auto', leaf_size=30, metric='minkowski',\n",
       "           metric_params=None, n_jobs=None, n_neighbors=5, p=2,\n",
       "           weights='uniform'),\n",
       "       fit_params=None, iid='warn', n_jobs=None,\n",
       "       param_grid={'n_neighbors': [19, 20, 25, 30, 35, 40, 45, 60], 'weights': ['uniform', 'distance'], 'metric': ['euclidean', 'manhattan']},\n",
       "       pre_dispatch='2*n_jobs', refit=True, return_train_score='warn',\n",
       "       scoring='accuracy', verbose=0)"
      ]
     },
     "execution_count": 166,
     "metadata": {},
     "output_type": "execute_result"
    }
   ],
   "source": [
    "from sklearn.model_selection import GridSearchCV\n",
    "from sklearn.neighbors import KNeighborsClassifier\n",
    "neigh = KNeighborsClassifier()\n",
    "grid_params = {\n",
    "    'n_neighbors':[19,20,25,30,35,40, 45, 60],\n",
    "    'weights':['uniform', 'distance'],\n",
    "    'metric':['euclidean','manhattan']\n",
    "    }\n",
    "neigh = GridSearchCV(KNeighborsClassifier(), grid_params, cv = 10, scoring = 'accuracy')\n",
    "neigh.fit(basis_X, basis_Y_cl)"
   ]
  },
  {
   "cell_type": "code",
   "execution_count": 167,
   "metadata": {},
   "outputs": [
    {
     "name": "stdout",
     "output_type": "stream",
     "text": [
      "{'metric': 'euclidean', 'n_neighbors': 60, 'weights': 'uniform'}\n",
      "0.6437768240343348\n"
     ]
    }
   ],
   "source": [
    "print(neigh.best_params_)\n",
    "print(neigh.best_score_)"
   ]
  },
  {
   "cell_type": "code",
   "execution_count": 144,
   "metadata": {},
   "outputs": [
    {
     "name": "stdout",
     "output_type": "stream",
     "text": [
      "0.851063829787234\n"
     ]
    }
   ],
   "source": [
    "predictions = neigh.predict(basis_X_test)\n",
    "print(accuracy_score(basis_Y_cl_pred, predictions))"
   ]
  },
  {
   "cell_type": "code",
   "execution_count": 168,
   "metadata": {},
   "outputs": [
    {
     "name": "stderr",
     "output_type": "stream",
     "text": [
      "C:\\Users\\AKINLOLU\\Anaconda3\\lib\\site-packages\\sklearn\\linear_model\\logistic.py:433: FutureWarning: Default solver will be changed to 'lbfgs' in 0.22. Specify a solver to silence this warning.\n",
      "  FutureWarning)\n",
      "C:\\Users\\AKINLOLU\\Anaconda3\\lib\\site-packages\\sklearn\\ensemble\\forest.py:246: FutureWarning: The default value of n_estimators will change from 10 in version 0.20 to 100 in 0.22.\n",
      "  \"10 in version 0.20 to 100 in 0.22.\", FutureWarning)\n",
      "C:\\Users\\AKINLOLU\\Anaconda3\\lib\\site-packages\\sklearn\\linear_model\\logistic.py:433: FutureWarning: Default solver will be changed to 'lbfgs' in 0.22. Specify a solver to silence this warning.\n",
      "  FutureWarning)\n",
      "C:\\Users\\AKINLOLU\\Anaconda3\\lib\\site-packages\\sklearn\\ensemble\\forest.py:246: FutureWarning: The default value of n_estimators will change from 10 in version 0.20 to 100 in 0.22.\n",
      "  \"10 in version 0.20 to 100 in 0.22.\", FutureWarning)\n",
      "C:\\Users\\AKINLOLU\\Anaconda3\\lib\\site-packages\\sklearn\\linear_model\\logistic.py:433: FutureWarning: Default solver will be changed to 'lbfgs' in 0.22. Specify a solver to silence this warning.\n",
      "  FutureWarning)\n",
      "C:\\Users\\AKINLOLU\\Anaconda3\\lib\\site-packages\\sklearn\\ensemble\\forest.py:246: FutureWarning: The default value of n_estimators will change from 10 in version 0.20 to 100 in 0.22.\n",
      "  \"10 in version 0.20 to 100 in 0.22.\", FutureWarning)\n"
     ]
    },
    {
     "data": {
      "text/plain": [
       "array([0.58974359, 0.65384615, 0.66233766])"
      ]
     },
     "execution_count": 168,
     "metadata": {},
     "output_type": "execute_result"
    }
   ],
   "source": [
    "from sklearn.ensemble import RandomForestClassifier\n",
    "from sklearn.ensemble import VotingClassifier\n",
    "from sklearn.linear_model import LogisticRegression\n",
    "from sklearn.neighbors import KNeighborsClassifier\n",
    "from sklearn.svm import SVC\n",
    "log_clf = LogisticRegression(C = 1)\n",
    "rnd_clf = RandomForestClassifier(max_depth = 2)\n",
    "svm_clf = SVC(gamma = 0.0001, C = 0.00001)\n",
    "neigh_clf = KNeighborsClassifier(n_neighbors = 60)\n",
    "voting_clf = VotingClassifier(\n",
    "    estimators=[('lr', log_clf), ('rf', rnd_clf), ('svc', svm_clf),('knn',neigh_clf)],\n",
    "    voting='hard')\n",
    "#voting_clf.fit(basis_X_train, basis_Y_cl_train)\n",
    "cross_val_score(voting_clf, basis_X, basis_Y_cl, cv=3, scoring=\"accuracy\")\n"
   ]
  },
  {
   "cell_type": "code",
   "execution_count": 169,
   "metadata": {},
   "outputs": [
    {
     "name": "stdout",
     "output_type": "stream",
     "text": [
      "LogisticRegression 0.6595744680851063\n",
      "RandomForestClassifier 0.6382978723404256\n",
      "SVC 0.6808510638297872\n",
      "VotingClassifier 0.6808510638297872\n",
      "KNeighborsClassifier 0.6808510638297872\n"
     ]
    },
    {
     "name": "stderr",
     "output_type": "stream",
     "text": [
      "C:\\Users\\AKINLOLU\\Anaconda3\\lib\\site-packages\\sklearn\\linear_model\\logistic.py:433: FutureWarning: Default solver will be changed to 'lbfgs' in 0.22. Specify a solver to silence this warning.\n",
      "  FutureWarning)\n",
      "C:\\Users\\AKINLOLU\\Anaconda3\\lib\\site-packages\\sklearn\\ensemble\\forest.py:246: FutureWarning: The default value of n_estimators will change from 10 in version 0.20 to 100 in 0.22.\n",
      "  \"10 in version 0.20 to 100 in 0.22.\", FutureWarning)\n",
      "C:\\Users\\AKINLOLU\\Anaconda3\\lib\\site-packages\\sklearn\\linear_model\\logistic.py:433: FutureWarning: Default solver will be changed to 'lbfgs' in 0.22. Specify a solver to silence this warning.\n",
      "  FutureWarning)\n"
     ]
    }
   ],
   "source": [
    "from sklearn.metrics import accuracy_score\n",
    "for clf in (log_clf, rnd_clf, svm_clf, voting_clf, neigh_clf):\n",
    "    clf.fit(basis_X_train, basis_Y_cl_train)\n",
    "    basis_Y_cl_pred = clf.predict(basis_X_test)\n",
    "    print(clf.__class__.__name__, accuracy_score(basis_Y_cl_test, basis_Y_cl_pred))"
   ]
  },
  {
   "cell_type": "code",
   "execution_count": null,
   "metadata": {},
   "outputs": [],
   "source": []
  }
 ],
 "metadata": {
  "kernelspec": {
   "display_name": "Python 3",
   "language": "python",
   "name": "python3"
  },
  "language_info": {
   "codemirror_mode": {
    "name": "ipython",
    "version": 3
   },
   "file_extension": ".py",
   "mimetype": "text/x-python",
   "name": "python",
   "nbconvert_exporter": "python",
   "pygments_lexer": "ipython3",
   "version": "3.6.8"
  }
 },
 "nbformat": 4,
 "nbformat_minor": 2
}
