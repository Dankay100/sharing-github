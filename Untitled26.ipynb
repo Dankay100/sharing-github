{
 "cells": [
  {
   "cell_type": "code",
   "execution_count": 52,
   "metadata": {},
   "outputs": [],
   "source": [
    "import quandl\n",
    "import numpy as np\n",
    "import pandas as pd\n",
    "import matplotlib.pyplot as plt\n",
    "from statsmodels.tsa.stattools import adfuller"
   ]
  },
  {
   "cell_type": "code",
   "execution_count": 53,
   "metadata": {},
   "outputs": [],
   "source": [
    "quandl.ApiConfig.api_key = \"uCTgSRuMQd--79XBCzhz\""
   ]
  },
  {
   "cell_type": "code",
   "execution_count": 54,
   "metadata": {},
   "outputs": [],
   "source": [
    "df_gdp = quandl.get(\"FRED/GDPC1\")"
   ]
  },
  {
   "cell_type": "code",
   "execution_count": 55,
   "metadata": {},
   "outputs": [
    {
     "data": {
      "text/html": [
       "<div>\n",
       "<style scoped>\n",
       "    .dataframe tbody tr th:only-of-type {\n",
       "        vertical-align: middle;\n",
       "    }\n",
       "\n",
       "    .dataframe tbody tr th {\n",
       "        vertical-align: top;\n",
       "    }\n",
       "\n",
       "    .dataframe thead th {\n",
       "        text-align: right;\n",
       "    }\n",
       "</style>\n",
       "<table border=\"1\" class=\"dataframe\">\n",
       "  <thead>\n",
       "    <tr style=\"text-align: right;\">\n",
       "      <th></th>\n",
       "      <th>Value</th>\n",
       "    </tr>\n",
       "    <tr>\n",
       "      <th>Date</th>\n",
       "      <th></th>\n",
       "    </tr>\n",
       "  </thead>\n",
       "  <tbody>\n",
       "    <tr>\n",
       "      <th>2017-07-01</th>\n",
       "      <td>18120.843</td>\n",
       "    </tr>\n",
       "    <tr>\n",
       "      <th>2017-10-01</th>\n",
       "      <td>18223.758</td>\n",
       "    </tr>\n",
       "    <tr>\n",
       "      <th>2018-01-01</th>\n",
       "      <td>18323.963</td>\n",
       "    </tr>\n",
       "    <tr>\n",
       "      <th>2018-04-01</th>\n",
       "      <td>18511.576</td>\n",
       "    </tr>\n",
       "    <tr>\n",
       "      <th>2018-07-01</th>\n",
       "      <td>18664.973</td>\n",
       "    </tr>\n",
       "  </tbody>\n",
       "</table>\n",
       "</div>"
      ],
      "text/plain": [
       "                Value\n",
       "Date                 \n",
       "2017-07-01  18120.843\n",
       "2017-10-01  18223.758\n",
       "2018-01-01  18323.963\n",
       "2018-04-01  18511.576\n",
       "2018-07-01  18664.973"
      ]
     },
     "execution_count": 55,
     "metadata": {},
     "output_type": "execute_result"
    }
   ],
   "source": [
    "df_gdp.tail()"
   ]
  },
  {
   "cell_type": "code",
   "execution_count": 56,
   "metadata": {},
   "outputs": [],
   "source": [
    "df_ics = quandl.get(\"UMICH/SOC1\")"
   ]
  },
  {
   "cell_type": "code",
   "execution_count": 57,
   "metadata": {},
   "outputs": [
    {
     "data": {
      "text/html": [
       "<div>\n",
       "<style scoped>\n",
       "    .dataframe tbody tr th:only-of-type {\n",
       "        vertical-align: middle;\n",
       "    }\n",
       "\n",
       "    .dataframe tbody tr th {\n",
       "        vertical-align: top;\n",
       "    }\n",
       "\n",
       "    .dataframe thead th {\n",
       "        text-align: right;\n",
       "    }\n",
       "</style>\n",
       "<table border=\"1\" class=\"dataframe\">\n",
       "  <thead>\n",
       "    <tr style=\"text-align: right;\">\n",
       "      <th></th>\n",
       "      <th>Index</th>\n",
       "    </tr>\n",
       "    <tr>\n",
       "      <th>Date</th>\n",
       "      <th></th>\n",
       "    </tr>\n",
       "  </thead>\n",
       "  <tbody>\n",
       "    <tr>\n",
       "      <th>2018-08-31</th>\n",
       "      <td>96.2</td>\n",
       "    </tr>\n",
       "    <tr>\n",
       "      <th>2018-09-30</th>\n",
       "      <td>100.1</td>\n",
       "    </tr>\n",
       "    <tr>\n",
       "      <th>2018-10-31</th>\n",
       "      <td>98.6</td>\n",
       "    </tr>\n",
       "    <tr>\n",
       "      <th>2018-11-30</th>\n",
       "      <td>97.5</td>\n",
       "    </tr>\n",
       "    <tr>\n",
       "      <th>2018-12-31</th>\n",
       "      <td>98.3</td>\n",
       "    </tr>\n",
       "  </tbody>\n",
       "</table>\n",
       "</div>"
      ],
      "text/plain": [
       "            Index\n",
       "Date             \n",
       "2018-08-31   96.2\n",
       "2018-09-30  100.1\n",
       "2018-10-31   98.6\n",
       "2018-11-30   97.5\n",
       "2018-12-31   98.3"
      ]
     },
     "execution_count": 57,
     "metadata": {},
     "output_type": "execute_result"
    }
   ],
   "source": [
    "df_ics.tail()"
   ]
  },
  {
   "cell_type": "code",
   "execution_count": 58,
   "metadata": {},
   "outputs": [],
   "source": [
    "df_bp = quandl.get(\"FRED/PERMIT\")"
   ]
  },
  {
   "cell_type": "code",
   "execution_count": 59,
   "metadata": {},
   "outputs": [
    {
     "data": {
      "text/html": [
       "<div>\n",
       "<style scoped>\n",
       "    .dataframe tbody tr th:only-of-type {\n",
       "        vertical-align: middle;\n",
       "    }\n",
       "\n",
       "    .dataframe tbody tr th {\n",
       "        vertical-align: top;\n",
       "    }\n",
       "\n",
       "    .dataframe thead th {\n",
       "        text-align: right;\n",
       "    }\n",
       "</style>\n",
       "<table border=\"1\" class=\"dataframe\">\n",
       "  <thead>\n",
       "    <tr style=\"text-align: right;\">\n",
       "      <th></th>\n",
       "      <th>Value</th>\n",
       "    </tr>\n",
       "    <tr>\n",
       "      <th>Date</th>\n",
       "      <th></th>\n",
       "    </tr>\n",
       "  </thead>\n",
       "  <tbody>\n",
       "    <tr>\n",
       "      <th>2018-07-01</th>\n",
       "      <td>1303.0</td>\n",
       "    </tr>\n",
       "    <tr>\n",
       "      <th>2018-08-01</th>\n",
       "      <td>1249.0</td>\n",
       "    </tr>\n",
       "    <tr>\n",
       "      <th>2018-09-01</th>\n",
       "      <td>1270.0</td>\n",
       "    </tr>\n",
       "    <tr>\n",
       "      <th>2018-10-01</th>\n",
       "      <td>1265.0</td>\n",
       "    </tr>\n",
       "    <tr>\n",
       "      <th>2018-11-01</th>\n",
       "      <td>1328.0</td>\n",
       "    </tr>\n",
       "  </tbody>\n",
       "</table>\n",
       "</div>"
      ],
      "text/plain": [
       "             Value\n",
       "Date              \n",
       "2018-07-01  1303.0\n",
       "2018-08-01  1249.0\n",
       "2018-09-01  1270.0\n",
       "2018-10-01  1265.0\n",
       "2018-11-01  1328.0"
      ]
     },
     "execution_count": 59,
     "metadata": {},
     "output_type": "execute_result"
    }
   ],
   "source": [
    "df_bp.tail()"
   ]
  },
  {
   "cell_type": "code",
   "execution_count": 60,
   "metadata": {},
   "outputs": [],
   "source": [
    "df_gdp3 = (df_gdp / df_gdp.shift(1) - 1) * 100"
   ]
  },
  {
   "cell_type": "code",
   "execution_count": 61,
   "metadata": {},
   "outputs": [],
   "source": [
    "df_gdp3.rename(columns={'Value':'GDP_Q1'},inplace=True)"
   ]
  },
  {
   "cell_type": "code",
   "execution_count": 62,
   "metadata": {},
   "outputs": [
    {
     "data": {
      "text/html": [
       "<div>\n",
       "<style scoped>\n",
       "    .dataframe tbody tr th:only-of-type {\n",
       "        vertical-align: middle;\n",
       "    }\n",
       "\n",
       "    .dataframe tbody tr th {\n",
       "        vertical-align: top;\n",
       "    }\n",
       "\n",
       "    .dataframe thead th {\n",
       "        text-align: right;\n",
       "    }\n",
       "</style>\n",
       "<table border=\"1\" class=\"dataframe\">\n",
       "  <thead>\n",
       "    <tr style=\"text-align: right;\">\n",
       "      <th></th>\n",
       "      <th>GDP_Q1</th>\n",
       "    </tr>\n",
       "    <tr>\n",
       "      <th>Date</th>\n",
       "      <th></th>\n",
       "    </tr>\n",
       "  </thead>\n",
       "  <tbody>\n",
       "    <tr>\n",
       "      <th>1947-01-01</th>\n",
       "      <td>NaN</td>\n",
       "    </tr>\n",
       "    <tr>\n",
       "      <th>1947-04-01</th>\n",
       "      <td>-0.266691</td>\n",
       "    </tr>\n",
       "    <tr>\n",
       "      <th>1947-07-01</th>\n",
       "      <td>-0.206496</td>\n",
       "    </tr>\n",
       "    <tr>\n",
       "      <th>1947-10-01</th>\n",
       "      <td>1.564208</td>\n",
       "    </tr>\n",
       "    <tr>\n",
       "      <th>1948-01-01</th>\n",
       "      <td>1.504256</td>\n",
       "    </tr>\n",
       "  </tbody>\n",
       "</table>\n",
       "</div>"
      ],
      "text/plain": [
       "              GDP_Q1\n",
       "Date                \n",
       "1947-01-01       NaN\n",
       "1947-04-01 -0.266691\n",
       "1947-07-01 -0.206496\n",
       "1947-10-01  1.564208\n",
       "1948-01-01  1.504256"
      ]
     },
     "execution_count": 62,
     "metadata": {},
     "output_type": "execute_result"
    }
   ],
   "source": [
    "df_gdp3.head()"
   ]
  },
  {
   "cell_type": "code",
   "execution_count": 63,
   "metadata": {},
   "outputs": [],
   "source": [
    "df_gdp6 = (df_gdp / df_gdp.shift (2) - 1) * 100"
   ]
  },
  {
   "cell_type": "code",
   "execution_count": 64,
   "metadata": {},
   "outputs": [],
   "source": [
    "df_gdp6.rename(columns={'Value':'GDP_Q2'},inplace=True)"
   ]
  },
  {
   "cell_type": "code",
   "execution_count": 65,
   "metadata": {},
   "outputs": [],
   "source": [
    "df_gdp9 = (df_gdp / df_gdp.shift (3) - 1) * 100"
   ]
  },
  {
   "cell_type": "code",
   "execution_count": 66,
   "metadata": {},
   "outputs": [],
   "source": [
    "df_gdp9.rename(columns={'Value':'GDP_Q3'},inplace=True)"
   ]
  },
  {
   "cell_type": "code",
   "execution_count": 67,
   "metadata": {},
   "outputs": [],
   "source": [
    "df_gdp12 = (df_gdp / df_gdp.shift (4) - 1) * 100"
   ]
  },
  {
   "cell_type": "code",
   "execution_count": 68,
   "metadata": {},
   "outputs": [],
   "source": [
    "df_gdp12.rename(columns={'Value':'GDP_Q4'},inplace=True)"
   ]
  },
  {
   "cell_type": "code",
   "execution_count": 69,
   "metadata": {},
   "outputs": [],
   "source": [
    "df_ics3 = (df_ics / df_ics.shift (1) - 1) * 100"
   ]
  },
  {
   "cell_type": "code",
   "execution_count": 70,
   "metadata": {},
   "outputs": [],
   "source": [
    "df_ics3.rename(columns={'Index':'ICS_Q1'},inplace=True)"
   ]
  },
  {
   "cell_type": "code",
   "execution_count": 71,
   "metadata": {},
   "outputs": [],
   "source": [
    "df_ics6 = (df_ics / df_ics.shift (2) - 1) * 100"
   ]
  },
  {
   "cell_type": "code",
   "execution_count": 72,
   "metadata": {},
   "outputs": [],
   "source": [
    "df_ics6.rename(columns={'Index':'ICS_Q2'},inplace=True)"
   ]
  },
  {
   "cell_type": "code",
   "execution_count": 73,
   "metadata": {},
   "outputs": [],
   "source": [
    "df_ics9 = (df_ics / df_ics.shift (3) - 1) * 100"
   ]
  },
  {
   "cell_type": "code",
   "execution_count": 74,
   "metadata": {},
   "outputs": [],
   "source": [
    "df_ics9.rename(columns={'Index':'ICS_Q3'},inplace=True)"
   ]
  },
  {
   "cell_type": "code",
   "execution_count": 75,
   "metadata": {},
   "outputs": [],
   "source": [
    "df_ics12 = (df_ics / df_ics.shift (4) - 1) * 100"
   ]
  },
  {
   "cell_type": "code",
   "execution_count": 76,
   "metadata": {},
   "outputs": [],
   "source": [
    "df_ics12.rename(columns={'Index':'ICS_Q4'},inplace=True)"
   ]
  },
  {
   "cell_type": "code",
   "execution_count": 77,
   "metadata": {},
   "outputs": [],
   "source": [
    "df_bp3 = (df_bp / df_bp.shift (1) - 1) * 100"
   ]
  },
  {
   "cell_type": "code",
   "execution_count": 78,
   "metadata": {},
   "outputs": [],
   "source": [
    "df_bp3.rename(columns={'Value':'BP_Q1'},inplace=True)"
   ]
  },
  {
   "cell_type": "code",
   "execution_count": 79,
   "metadata": {},
   "outputs": [],
   "source": [
    "df_bp6 = (df_bp / df_bp.shift (2) - 1) * 100"
   ]
  },
  {
   "cell_type": "code",
   "execution_count": 80,
   "metadata": {},
   "outputs": [],
   "source": [
    "df_bp6.rename(columns={'Value':'BP_Q2'},inplace=True)"
   ]
  },
  {
   "cell_type": "code",
   "execution_count": 81,
   "metadata": {},
   "outputs": [],
   "source": [
    "df_bp9 = (df_bp / df_bp.shift (3) - 1) * 100"
   ]
  },
  {
   "cell_type": "code",
   "execution_count": 82,
   "metadata": {},
   "outputs": [],
   "source": [
    "df_bp9.rename(columns={'Value':'BP_Q3'},inplace=True)"
   ]
  },
  {
   "cell_type": "code",
   "execution_count": 83,
   "metadata": {},
   "outputs": [],
   "source": [
    "df_bp12 = (df_bp / df_bp.shift (4) - 1) * 100"
   ]
  },
  {
   "cell_type": "code",
   "execution_count": 84,
   "metadata": {},
   "outputs": [],
   "source": [
    "df_bp12.rename(columns={'Value':'BP_Q4'},inplace=True)"
   ]
  },
  {
   "cell_type": "code",
   "execution_count": 85,
   "metadata": {},
   "outputs": [
    {
     "data": {
      "text/html": [
       "<div>\n",
       "<style scoped>\n",
       "    .dataframe tbody tr th:only-of-type {\n",
       "        vertical-align: middle;\n",
       "    }\n",
       "\n",
       "    .dataframe tbody tr th {\n",
       "        vertical-align: top;\n",
       "    }\n",
       "\n",
       "    .dataframe thead th {\n",
       "        text-align: right;\n",
       "    }\n",
       "</style>\n",
       "<table border=\"1\" class=\"dataframe\">\n",
       "  <thead>\n",
       "    <tr style=\"text-align: right;\">\n",
       "      <th></th>\n",
       "      <th>GDP_Q1</th>\n",
       "      <th>GDP_Q2</th>\n",
       "      <th>GDP_Q3</th>\n",
       "      <th>GDP_Q4</th>\n",
       "      <th>ICS_Q1</th>\n",
       "      <th>ICS_Q2</th>\n",
       "      <th>ICS_Q3</th>\n",
       "      <th>ICS_Q4</th>\n",
       "      <th>BP_Q1</th>\n",
       "      <th>BP_Q2</th>\n",
       "      <th>BP_Q3</th>\n",
       "      <th>BP_Q4</th>\n",
       "    </tr>\n",
       "    <tr>\n",
       "      <th>Date</th>\n",
       "      <th></th>\n",
       "      <th></th>\n",
       "      <th></th>\n",
       "      <th></th>\n",
       "      <th></th>\n",
       "      <th></th>\n",
       "      <th></th>\n",
       "      <th></th>\n",
       "      <th></th>\n",
       "      <th></th>\n",
       "      <th></th>\n",
       "      <th></th>\n",
       "    </tr>\n",
       "  </thead>\n",
       "  <tbody>\n",
       "    <tr>\n",
       "      <th>2017-07-01</th>\n",
       "      <td>0.698483</td>\n",
       "      <td>1.443317</td>\n",
       "      <td>1.893019</td>\n",
       "      <td>2.338877</td>\n",
       "      <td>-2.162719</td>\n",
       "      <td>-2.061856</td>\n",
       "      <td>-1.960784</td>\n",
       "      <td>-1.349948</td>\n",
       "      <td>-4.115854</td>\n",
       "      <td>4.398340</td>\n",
       "      <td>0.239044</td>\n",
       "      <td>-1.641908</td>\n",
       "    </tr>\n",
       "    <tr>\n",
       "      <th>2017-10-01</th>\n",
       "      <td>0.567937</td>\n",
       "      <td>1.270387</td>\n",
       "      <td>2.019451</td>\n",
       "      <td>2.471707</td>\n",
       "      <td>-1.756198</td>\n",
       "      <td>1.820128</td>\n",
       "      <td>0.105263</td>\n",
       "      <td>-2.059732</td>\n",
       "      <td>7.097289</td>\n",
       "      <td>3.307692</td>\n",
       "      <td>6.756757</td>\n",
       "      <td>2.362805</td>\n",
       "    </tr>\n",
       "    <tr>\n",
       "      <th>2018-01-01</th>\n",
       "      <td>0.549859</td>\n",
       "      <td>1.120919</td>\n",
       "      <td>1.827231</td>\n",
       "      <td>2.580414</td>\n",
       "      <td>-2.639594</td>\n",
       "      <td>-4.766634</td>\n",
       "      <td>0.841220</td>\n",
       "      <td>-0.929752</td>\n",
       "      <td>3.484848</td>\n",
       "      <td>3.250189</td>\n",
       "      <td>1.712584</td>\n",
       "      <td>8.931419</td>\n",
       "    </tr>\n",
       "    <tr>\n",
       "      <th>2018-04-01</th>\n",
       "      <td>1.023867</td>\n",
       "      <td>1.579356</td>\n",
       "      <td>2.156263</td>\n",
       "      <td>2.869807</td>\n",
       "      <td>1.705115</td>\n",
       "      <td>5.956113</td>\n",
       "      <td>5.735141</td>\n",
       "      <td>2.944162</td>\n",
       "      <td>-0.944081</td>\n",
       "      <td>3.099017</td>\n",
       "      <td>-0.146413</td>\n",
       "      <td>3.333333</td>\n",
       "    </tr>\n",
       "    <tr>\n",
       "      <th>2018-07-01</th>\n",
       "      <td>0.828654</td>\n",
       "      <td>1.861006</td>\n",
       "      <td>2.421098</td>\n",
       "      <td>3.002785</td>\n",
       "      <td>0.204082</td>\n",
       "      <td>-0.607287</td>\n",
       "      <td>-3.155819</td>\n",
       "      <td>-1.504514</td>\n",
       "      <td>0.851393</td>\n",
       "      <td>0.153728</td>\n",
       "      <td>-4.472141</td>\n",
       "      <td>-5.374001</td>\n",
       "    </tr>\n",
       "  </tbody>\n",
       "</table>\n",
       "</div>"
      ],
      "text/plain": [
       "              GDP_Q1    GDP_Q2    GDP_Q3    GDP_Q4    ICS_Q1    ICS_Q2  \\\n",
       "Date                                                                     \n",
       "2017-07-01  0.698483  1.443317  1.893019  2.338877 -2.162719 -2.061856   \n",
       "2017-10-01  0.567937  1.270387  2.019451  2.471707 -1.756198  1.820128   \n",
       "2018-01-01  0.549859  1.120919  1.827231  2.580414 -2.639594 -4.766634   \n",
       "2018-04-01  1.023867  1.579356  2.156263  2.869807  1.705115  5.956113   \n",
       "2018-07-01  0.828654  1.861006  2.421098  3.002785  0.204082 -0.607287   \n",
       "\n",
       "              ICS_Q3    ICS_Q4     BP_Q1     BP_Q2     BP_Q3     BP_Q4  \n",
       "Date                                                                    \n",
       "2017-07-01 -1.960784 -1.349948 -4.115854  4.398340  0.239044 -1.641908  \n",
       "2017-10-01  0.105263 -2.059732  7.097289  3.307692  6.756757  2.362805  \n",
       "2018-01-01  0.841220 -0.929752  3.484848  3.250189  1.712584  8.931419  \n",
       "2018-04-01  5.735141  2.944162 -0.944081  3.099017 -0.146413  3.333333  \n",
       "2018-07-01 -3.155819 -1.504514  0.851393  0.153728 -4.472141 -5.374001  "
      ]
     },
     "execution_count": 85,
     "metadata": {},
     "output_type": "execute_result"
    }
   ],
   "source": [
    "df = df_gdp3.join(df_gdp6)\n",
    "df = df.join(df_gdp9)\n",
    "df = df.join(df_gdp12)\n",
    "df = df.join(df_ics3, how='outer')\n",
    "df['ICS_Q1'] = df['ICS_Q1'].fillna(method='ffill')\n",
    "df = df.join(df_ics6, how='outer')\n",
    "df['ICS_Q2'] = df['ICS_Q2'].fillna(method='ffill')\n",
    "df = df.join(df_ics9, how='outer')\n",
    "df['ICS_Q3'] = df['ICS_Q3'].fillna(method='ffill')\n",
    "df = df.join(df_ics12, how='outer')\n",
    "df['ICS_Q4'] = df['ICS_Q4'].fillna(method='ffill')\n",
    "df = df.join(df_bp3)\n",
    "df = df.join(df_bp6)\n",
    "df = df.join(df_bp9)\n",
    "df = df.join(df_bp12)\n",
    "df=df.dropna()\n",
    "df.tail()"
   ]
  },
  {
   "cell_type": "code",
   "execution_count": 86,
   "metadata": {},
   "outputs": [],
   "source": [
    "df1 = pd.read_csv('Desktop/Sp500.csv', usecols=['Date', 'Adj Close'], index_col = 'Date', parse_dates=True)"
   ]
  },
  {
   "cell_type": "code",
   "execution_count": 87,
   "metadata": {},
   "outputs": [
    {
     "data": {
      "text/html": [
       "<div>\n",
       "<style scoped>\n",
       "    .dataframe tbody tr th:only-of-type {\n",
       "        vertical-align: middle;\n",
       "    }\n",
       "\n",
       "    .dataframe tbody tr th {\n",
       "        vertical-align: top;\n",
       "    }\n",
       "\n",
       "    .dataframe thead th {\n",
       "        text-align: right;\n",
       "    }\n",
       "</style>\n",
       "<table border=\"1\" class=\"dataframe\">\n",
       "  <thead>\n",
       "    <tr style=\"text-align: right;\">\n",
       "      <th></th>\n",
       "      <th>Adj Close</th>\n",
       "    </tr>\n",
       "    <tr>\n",
       "      <th>Date</th>\n",
       "      <th></th>\n",
       "    </tr>\n",
       "  </thead>\n",
       "  <tbody>\n",
       "    <tr>\n",
       "      <th>2018-08-01</th>\n",
       "      <td>2901.520020</td>\n",
       "    </tr>\n",
       "    <tr>\n",
       "      <th>2018-09-01</th>\n",
       "      <td>2913.979980</td>\n",
       "    </tr>\n",
       "    <tr>\n",
       "      <th>2018-10-01</th>\n",
       "      <td>2711.739990</td>\n",
       "    </tr>\n",
       "    <tr>\n",
       "      <th>2018-11-01</th>\n",
       "      <td>2760.169922</td>\n",
       "    </tr>\n",
       "    <tr>\n",
       "      <th>2018-12-01</th>\n",
       "      <td>2506.850098</td>\n",
       "    </tr>\n",
       "  </tbody>\n",
       "</table>\n",
       "</div>"
      ],
      "text/plain": [
       "              Adj Close\n",
       "Date                   \n",
       "2018-08-01  2901.520020\n",
       "2018-09-01  2913.979980\n",
       "2018-10-01  2711.739990\n",
       "2018-11-01  2760.169922\n",
       "2018-12-01  2506.850098"
      ]
     },
     "execution_count": 87,
     "metadata": {},
     "output_type": "execute_result"
    }
   ],
   "source": [
    "df1.tail()"
   ]
  },
  {
   "cell_type": "code",
   "execution_count": 88,
   "metadata": {},
   "outputs": [],
   "source": [
    "df = df.join(df1, how='outer')\n",
    "df['Adj Close'] = df['Adj Close'].fillna(method='ffill')\n",
    "df = df.dropna()"
   ]
  },
  {
   "cell_type": "code",
   "execution_count": 89,
   "metadata": {},
   "outputs": [
    {
     "data": {
      "text/html": [
       "<div>\n",
       "<style scoped>\n",
       "    .dataframe tbody tr th:only-of-type {\n",
       "        vertical-align: middle;\n",
       "    }\n",
       "\n",
       "    .dataframe tbody tr th {\n",
       "        vertical-align: top;\n",
       "    }\n",
       "\n",
       "    .dataframe thead th {\n",
       "        text-align: right;\n",
       "    }\n",
       "</style>\n",
       "<table border=\"1\" class=\"dataframe\">\n",
       "  <thead>\n",
       "    <tr style=\"text-align: right;\">\n",
       "      <th></th>\n",
       "      <th>GDP_Q1</th>\n",
       "      <th>GDP_Q2</th>\n",
       "      <th>GDP_Q3</th>\n",
       "      <th>GDP_Q4</th>\n",
       "      <th>ICS_Q1</th>\n",
       "      <th>ICS_Q2</th>\n",
       "      <th>ICS_Q3</th>\n",
       "      <th>ICS_Q4</th>\n",
       "      <th>BP_Q1</th>\n",
       "      <th>BP_Q2</th>\n",
       "      <th>BP_Q3</th>\n",
       "      <th>BP_Q4</th>\n",
       "      <th>Adj Close</th>\n",
       "    </tr>\n",
       "    <tr>\n",
       "      <th>Date</th>\n",
       "      <th></th>\n",
       "      <th></th>\n",
       "      <th></th>\n",
       "      <th></th>\n",
       "      <th></th>\n",
       "      <th></th>\n",
       "      <th></th>\n",
       "      <th></th>\n",
       "      <th></th>\n",
       "      <th></th>\n",
       "      <th></th>\n",
       "      <th></th>\n",
       "      <th></th>\n",
       "    </tr>\n",
       "  </thead>\n",
       "  <tbody>\n",
       "    <tr>\n",
       "      <th>2016-04-01</th>\n",
       "      <td>0.565599</td>\n",
       "      <td>0.952445</td>\n",
       "      <td>1.053306</td>\n",
       "      <td>1.295951</td>\n",
       "      <td>-0.763359</td>\n",
       "      <td>-1.086957</td>\n",
       "      <td>-1.727862</td>\n",
       "      <td>-0.328587</td>\n",
       "      <td>5.063291</td>\n",
       "      <td>-2.761506</td>\n",
       "      <td>-1.441900</td>\n",
       "      <td>-4.519310</td>\n",
       "      <td>6.445597</td>\n",
       "    </tr>\n",
       "    <tr>\n",
       "      <th>2016-07-01</th>\n",
       "      <td>0.477906</td>\n",
       "      <td>1.046208</td>\n",
       "      <td>1.434904</td>\n",
       "      <td>1.536247</td>\n",
       "      <td>-1.267159</td>\n",
       "      <td>5.056180</td>\n",
       "      <td>2.747253</td>\n",
       "      <td>1.962923</td>\n",
       "      <td>-0.753769</td>\n",
       "      <td>-0.587248</td>\n",
       "      <td>1.979346</td>\n",
       "      <td>7.142857</td>\n",
       "      <td>5.243792</td>\n",
       "    </tr>\n",
       "    <tr>\n",
       "      <th>2016-10-01</th>\n",
       "      <td>0.437574</td>\n",
       "      <td>0.917572</td>\n",
       "      <td>1.488361</td>\n",
       "      <td>1.878757</td>\n",
       "      <td>1.559020</td>\n",
       "      <td>1.333333</td>\n",
       "      <td>-2.459893</td>\n",
       "      <td>-3.695882</td>\n",
       "      <td>0.000000</td>\n",
       "      <td>6.778243</td>\n",
       "      <td>7.679325</td>\n",
       "      <td>6.867672</td>\n",
       "      <td>-2.183023</td>\n",
       "    </tr>\n",
       "    <tr>\n",
       "      <th>2017-01-01</th>\n",
       "      <td>0.443304</td>\n",
       "      <td>0.882818</td>\n",
       "      <td>1.364944</td>\n",
       "      <td>1.938263</td>\n",
       "      <td>4.690832</td>\n",
       "      <td>12.614679</td>\n",
       "      <td>7.675439</td>\n",
       "      <td>9.354120</td>\n",
       "      <td>5.225653</td>\n",
       "      <td>6.405124</td>\n",
       "      <td>4.153605</td>\n",
       "      <td>4.153605</td>\n",
       "      <td>7.182947</td>\n",
       "    </tr>\n",
       "    <tr>\n",
       "      <th>2017-04-01</th>\n",
       "      <td>0.739668</td>\n",
       "      <td>1.186251</td>\n",
       "      <td>1.629016</td>\n",
       "      <td>2.114707</td>\n",
       "      <td>0.623053</td>\n",
       "      <td>-1.624365</td>\n",
       "      <td>-1.323829</td>\n",
       "      <td>3.304904</td>\n",
       "      <td>-1.876466</td>\n",
       "      <td>0.560897</td>\n",
       "      <td>-5.568096</td>\n",
       "      <td>-0.633413</td>\n",
       "      <td>4.622020</td>\n",
       "    </tr>\n",
       "    <tr>\n",
       "      <th>2017-07-01</th>\n",
       "      <td>0.698483</td>\n",
       "      <td>1.443317</td>\n",
       "      <td>1.893019</td>\n",
       "      <td>2.338877</td>\n",
       "      <td>-2.162719</td>\n",
       "      <td>-2.061856</td>\n",
       "      <td>-1.960784</td>\n",
       "      <td>-1.349948</td>\n",
       "      <td>-4.115854</td>\n",
       "      <td>4.398340</td>\n",
       "      <td>0.239044</td>\n",
       "      <td>-1.641908</td>\n",
       "      <td>3.611278</td>\n",
       "    </tr>\n",
       "    <tr>\n",
       "      <th>2017-10-01</th>\n",
       "      <td>0.567937</td>\n",
       "      <td>1.270387</td>\n",
       "      <td>2.019451</td>\n",
       "      <td>2.471707</td>\n",
       "      <td>-1.756198</td>\n",
       "      <td>1.820128</td>\n",
       "      <td>0.105263</td>\n",
       "      <td>-2.059732</td>\n",
       "      <td>7.097289</td>\n",
       "      <td>3.307692</td>\n",
       "      <td>6.756757</td>\n",
       "      <td>2.362805</td>\n",
       "      <td>4.248875</td>\n",
       "    </tr>\n",
       "    <tr>\n",
       "      <th>2018-01-01</th>\n",
       "      <td>0.549859</td>\n",
       "      <td>1.120919</td>\n",
       "      <td>1.827231</td>\n",
       "      <td>2.580414</td>\n",
       "      <td>-2.639594</td>\n",
       "      <td>-4.766634</td>\n",
       "      <td>0.841220</td>\n",
       "      <td>-0.929752</td>\n",
       "      <td>3.484848</td>\n",
       "      <td>3.250189</td>\n",
       "      <td>1.712584</td>\n",
       "      <td>8.931419</td>\n",
       "      <td>9.651455</td>\n",
       "    </tr>\n",
       "    <tr>\n",
       "      <th>2018-04-01</th>\n",
       "      <td>1.023867</td>\n",
       "      <td>1.579356</td>\n",
       "      <td>2.156263</td>\n",
       "      <td>2.869807</td>\n",
       "      <td>1.705115</td>\n",
       "      <td>5.956113</td>\n",
       "      <td>5.735141</td>\n",
       "      <td>2.944162</td>\n",
       "      <td>-0.944081</td>\n",
       "      <td>3.099017</td>\n",
       "      <td>-0.146413</td>\n",
       "      <td>3.333333</td>\n",
       "      <td>-6.224215</td>\n",
       "    </tr>\n",
       "    <tr>\n",
       "      <th>2018-07-01</th>\n",
       "      <td>0.828654</td>\n",
       "      <td>1.861006</td>\n",
       "      <td>2.421098</td>\n",
       "      <td>3.002785</td>\n",
       "      <td>0.204082</td>\n",
       "      <td>-0.607287</td>\n",
       "      <td>-3.155819</td>\n",
       "      <td>-1.504514</td>\n",
       "      <td>0.851393</td>\n",
       "      <td>0.153728</td>\n",
       "      <td>-4.472141</td>\n",
       "      <td>-5.374001</td>\n",
       "      <td>6.353354</td>\n",
       "    </tr>\n",
       "  </tbody>\n",
       "</table>\n",
       "</div>"
      ],
      "text/plain": [
       "              GDP_Q1    GDP_Q2    GDP_Q3    GDP_Q4    ICS_Q1     ICS_Q2  \\\n",
       "Date                                                                      \n",
       "2016-04-01  0.565599  0.952445  1.053306  1.295951 -0.763359  -1.086957   \n",
       "2016-07-01  0.477906  1.046208  1.434904  1.536247 -1.267159   5.056180   \n",
       "2016-10-01  0.437574  0.917572  1.488361  1.878757  1.559020   1.333333   \n",
       "2017-01-01  0.443304  0.882818  1.364944  1.938263  4.690832  12.614679   \n",
       "2017-04-01  0.739668  1.186251  1.629016  2.114707  0.623053  -1.624365   \n",
       "2017-07-01  0.698483  1.443317  1.893019  2.338877 -2.162719  -2.061856   \n",
       "2017-10-01  0.567937  1.270387  2.019451  2.471707 -1.756198   1.820128   \n",
       "2018-01-01  0.549859  1.120919  1.827231  2.580414 -2.639594  -4.766634   \n",
       "2018-04-01  1.023867  1.579356  2.156263  2.869807  1.705115   5.956113   \n",
       "2018-07-01  0.828654  1.861006  2.421098  3.002785  0.204082  -0.607287   \n",
       "\n",
       "              ICS_Q3    ICS_Q4     BP_Q1     BP_Q2     BP_Q3     BP_Q4  \\\n",
       "Date                                                                     \n",
       "2016-04-01 -1.727862 -0.328587  5.063291 -2.761506 -1.441900 -4.519310   \n",
       "2016-07-01  2.747253  1.962923 -0.753769 -0.587248  1.979346  7.142857   \n",
       "2016-10-01 -2.459893 -3.695882  0.000000  6.778243  7.679325  6.867672   \n",
       "2017-01-01  7.675439  9.354120  5.225653  6.405124  4.153605  4.153605   \n",
       "2017-04-01 -1.323829  3.304904 -1.876466  0.560897 -5.568096 -0.633413   \n",
       "2017-07-01 -1.960784 -1.349948 -4.115854  4.398340  0.239044 -1.641908   \n",
       "2017-10-01  0.105263 -2.059732  7.097289  3.307692  6.756757  2.362805   \n",
       "2018-01-01  0.841220 -0.929752  3.484848  3.250189  1.712584  8.931419   \n",
       "2018-04-01  5.735141  2.944162 -0.944081  3.099017 -0.146413  3.333333   \n",
       "2018-07-01 -3.155819 -1.504514  0.851393  0.153728 -4.472141 -5.374001   \n",
       "\n",
       "            Adj Close  \n",
       "Date                   \n",
       "2016-04-01   6.445597  \n",
       "2016-07-01   5.243792  \n",
       "2016-10-01  -2.183023  \n",
       "2017-01-01   7.182947  \n",
       "2017-04-01   4.622020  \n",
       "2017-07-01   3.611278  \n",
       "2017-10-01   4.248875  \n",
       "2018-01-01   9.651455  \n",
       "2018-04-01  -6.224215  \n",
       "2018-07-01   6.353354  "
      ]
     },
     "execution_count": 89,
     "metadata": {},
     "output_type": "execute_result"
    }
   ],
   "source": [
    "df['Adj Close'] = (df['Adj Close'] / df['Adj Close'].shift(1) - 1) * 100\n",
    "df.tail(10)"
   ]
  },
  {
   "cell_type": "code",
   "execution_count": 90,
   "metadata": {},
   "outputs": [
    {
     "data": {
      "text/html": [
       "<div>\n",
       "<style scoped>\n",
       "    .dataframe tbody tr th:only-of-type {\n",
       "        vertical-align: middle;\n",
       "    }\n",
       "\n",
       "    .dataframe tbody tr th {\n",
       "        vertical-align: top;\n",
       "    }\n",
       "\n",
       "    .dataframe thead th {\n",
       "        text-align: right;\n",
       "    }\n",
       "</style>\n",
       "<table border=\"1\" class=\"dataframe\">\n",
       "  <thead>\n",
       "    <tr style=\"text-align: right;\">\n",
       "      <th></th>\n",
       "      <th>GDP_Q1</th>\n",
       "      <th>GDP_Q2</th>\n",
       "      <th>GDP_Q3</th>\n",
       "      <th>GDP_Q4</th>\n",
       "      <th>ICS_Q1</th>\n",
       "      <th>ICS_Q2</th>\n",
       "      <th>ICS_Q3</th>\n",
       "      <th>ICS_Q4</th>\n",
       "      <th>BP_Q1</th>\n",
       "      <th>BP_Q2</th>\n",
       "      <th>BP_Q3</th>\n",
       "      <th>BP_Q4</th>\n",
       "      <th>Adj Close</th>\n",
       "    </tr>\n",
       "    <tr>\n",
       "      <th>Date</th>\n",
       "      <th></th>\n",
       "      <th></th>\n",
       "      <th></th>\n",
       "      <th></th>\n",
       "      <th></th>\n",
       "      <th></th>\n",
       "      <th></th>\n",
       "      <th></th>\n",
       "      <th></th>\n",
       "      <th></th>\n",
       "      <th></th>\n",
       "      <th></th>\n",
       "      <th></th>\n",
       "    </tr>\n",
       "  </thead>\n",
       "  <tbody>\n",
       "    <tr>\n",
       "      <th>2016-01-01</th>\n",
       "      <td>0.384671</td>\n",
       "      <td>0.484965</td>\n",
       "      <td>0.726245</td>\n",
       "      <td>1.556847</td>\n",
       "      <td>1.423877</td>\n",
       "      <td>2.888889</td>\n",
       "      <td>6.192661</td>\n",
       "      <td>0.761697</td>\n",
       "      <td>-3.122432</td>\n",
       "      <td>-6.279809</td>\n",
       "      <td>1.462995</td>\n",
       "      <td>3.876652</td>\n",
       "      <td>6.445597</td>\n",
       "    </tr>\n",
       "    <tr>\n",
       "      <th>2016-04-01</th>\n",
       "      <td>0.565599</td>\n",
       "      <td>0.952445</td>\n",
       "      <td>1.053306</td>\n",
       "      <td>1.295951</td>\n",
       "      <td>-0.763359</td>\n",
       "      <td>-1.086957</td>\n",
       "      <td>-1.727862</td>\n",
       "      <td>-0.328587</td>\n",
       "      <td>5.063291</td>\n",
       "      <td>-2.761506</td>\n",
       "      <td>-1.441900</td>\n",
       "      <td>-4.519310</td>\n",
       "      <td>5.243792</td>\n",
       "    </tr>\n",
       "    <tr>\n",
       "      <th>2016-07-01</th>\n",
       "      <td>0.477906</td>\n",
       "      <td>1.046208</td>\n",
       "      <td>1.434904</td>\n",
       "      <td>1.536247</td>\n",
       "      <td>-1.267159</td>\n",
       "      <td>5.056180</td>\n",
       "      <td>2.747253</td>\n",
       "      <td>1.962923</td>\n",
       "      <td>-0.753769</td>\n",
       "      <td>-0.587248</td>\n",
       "      <td>1.979346</td>\n",
       "      <td>7.142857</td>\n",
       "      <td>-2.183023</td>\n",
       "    </tr>\n",
       "    <tr>\n",
       "      <th>2016-10-01</th>\n",
       "      <td>0.437574</td>\n",
       "      <td>0.917572</td>\n",
       "      <td>1.488361</td>\n",
       "      <td>1.878757</td>\n",
       "      <td>1.559020</td>\n",
       "      <td>1.333333</td>\n",
       "      <td>-2.459893</td>\n",
       "      <td>-3.695882</td>\n",
       "      <td>0.000000</td>\n",
       "      <td>6.778243</td>\n",
       "      <td>7.679325</td>\n",
       "      <td>6.867672</td>\n",
       "      <td>7.182947</td>\n",
       "    </tr>\n",
       "    <tr>\n",
       "      <th>2017-01-01</th>\n",
       "      <td>0.443304</td>\n",
       "      <td>0.882818</td>\n",
       "      <td>1.364944</td>\n",
       "      <td>1.938263</td>\n",
       "      <td>4.690832</td>\n",
       "      <td>12.614679</td>\n",
       "      <td>7.675439</td>\n",
       "      <td>9.354120</td>\n",
       "      <td>5.225653</td>\n",
       "      <td>6.405124</td>\n",
       "      <td>4.153605</td>\n",
       "      <td>4.153605</td>\n",
       "      <td>4.622020</td>\n",
       "    </tr>\n",
       "    <tr>\n",
       "      <th>2017-04-01</th>\n",
       "      <td>0.739668</td>\n",
       "      <td>1.186251</td>\n",
       "      <td>1.629016</td>\n",
       "      <td>2.114707</td>\n",
       "      <td>0.623053</td>\n",
       "      <td>-1.624365</td>\n",
       "      <td>-1.323829</td>\n",
       "      <td>3.304904</td>\n",
       "      <td>-1.876466</td>\n",
       "      <td>0.560897</td>\n",
       "      <td>-5.568096</td>\n",
       "      <td>-0.633413</td>\n",
       "      <td>3.611278</td>\n",
       "    </tr>\n",
       "    <tr>\n",
       "      <th>2017-07-01</th>\n",
       "      <td>0.698483</td>\n",
       "      <td>1.443317</td>\n",
       "      <td>1.893019</td>\n",
       "      <td>2.338877</td>\n",
       "      <td>-2.162719</td>\n",
       "      <td>-2.061856</td>\n",
       "      <td>-1.960784</td>\n",
       "      <td>-1.349948</td>\n",
       "      <td>-4.115854</td>\n",
       "      <td>4.398340</td>\n",
       "      <td>0.239044</td>\n",
       "      <td>-1.641908</td>\n",
       "      <td>4.248875</td>\n",
       "    </tr>\n",
       "    <tr>\n",
       "      <th>2017-10-01</th>\n",
       "      <td>0.567937</td>\n",
       "      <td>1.270387</td>\n",
       "      <td>2.019451</td>\n",
       "      <td>2.471707</td>\n",
       "      <td>-1.756198</td>\n",
       "      <td>1.820128</td>\n",
       "      <td>0.105263</td>\n",
       "      <td>-2.059732</td>\n",
       "      <td>7.097289</td>\n",
       "      <td>3.307692</td>\n",
       "      <td>6.756757</td>\n",
       "      <td>2.362805</td>\n",
       "      <td>9.651455</td>\n",
       "    </tr>\n",
       "    <tr>\n",
       "      <th>2018-01-01</th>\n",
       "      <td>0.549859</td>\n",
       "      <td>1.120919</td>\n",
       "      <td>1.827231</td>\n",
       "      <td>2.580414</td>\n",
       "      <td>-2.639594</td>\n",
       "      <td>-4.766634</td>\n",
       "      <td>0.841220</td>\n",
       "      <td>-0.929752</td>\n",
       "      <td>3.484848</td>\n",
       "      <td>3.250189</td>\n",
       "      <td>1.712584</td>\n",
       "      <td>8.931419</td>\n",
       "      <td>-6.224215</td>\n",
       "    </tr>\n",
       "    <tr>\n",
       "      <th>2018-04-01</th>\n",
       "      <td>1.023867</td>\n",
       "      <td>1.579356</td>\n",
       "      <td>2.156263</td>\n",
       "      <td>2.869807</td>\n",
       "      <td>1.705115</td>\n",
       "      <td>5.956113</td>\n",
       "      <td>5.735141</td>\n",
       "      <td>2.944162</td>\n",
       "      <td>-0.944081</td>\n",
       "      <td>3.099017</td>\n",
       "      <td>-0.146413</td>\n",
       "      <td>3.333333</td>\n",
       "      <td>6.353354</td>\n",
       "    </tr>\n",
       "  </tbody>\n",
       "</table>\n",
       "</div>"
      ],
      "text/plain": [
       "              GDP_Q1    GDP_Q2    GDP_Q3    GDP_Q4    ICS_Q1     ICS_Q2  \\\n",
       "Date                                                                      \n",
       "2016-01-01  0.384671  0.484965  0.726245  1.556847  1.423877   2.888889   \n",
       "2016-04-01  0.565599  0.952445  1.053306  1.295951 -0.763359  -1.086957   \n",
       "2016-07-01  0.477906  1.046208  1.434904  1.536247 -1.267159   5.056180   \n",
       "2016-10-01  0.437574  0.917572  1.488361  1.878757  1.559020   1.333333   \n",
       "2017-01-01  0.443304  0.882818  1.364944  1.938263  4.690832  12.614679   \n",
       "2017-04-01  0.739668  1.186251  1.629016  2.114707  0.623053  -1.624365   \n",
       "2017-07-01  0.698483  1.443317  1.893019  2.338877 -2.162719  -2.061856   \n",
       "2017-10-01  0.567937  1.270387  2.019451  2.471707 -1.756198   1.820128   \n",
       "2018-01-01  0.549859  1.120919  1.827231  2.580414 -2.639594  -4.766634   \n",
       "2018-04-01  1.023867  1.579356  2.156263  2.869807  1.705115   5.956113   \n",
       "\n",
       "              ICS_Q3    ICS_Q4     BP_Q1     BP_Q2     BP_Q3     BP_Q4  \\\n",
       "Date                                                                     \n",
       "2016-01-01  6.192661  0.761697 -3.122432 -6.279809  1.462995  3.876652   \n",
       "2016-04-01 -1.727862 -0.328587  5.063291 -2.761506 -1.441900 -4.519310   \n",
       "2016-07-01  2.747253  1.962923 -0.753769 -0.587248  1.979346  7.142857   \n",
       "2016-10-01 -2.459893 -3.695882  0.000000  6.778243  7.679325  6.867672   \n",
       "2017-01-01  7.675439  9.354120  5.225653  6.405124  4.153605  4.153605   \n",
       "2017-04-01 -1.323829  3.304904 -1.876466  0.560897 -5.568096 -0.633413   \n",
       "2017-07-01 -1.960784 -1.349948 -4.115854  4.398340  0.239044 -1.641908   \n",
       "2017-10-01  0.105263 -2.059732  7.097289  3.307692  6.756757  2.362805   \n",
       "2018-01-01  0.841220 -0.929752  3.484848  3.250189  1.712584  8.931419   \n",
       "2018-04-01  5.735141  2.944162 -0.944081  3.099017 -0.146413  3.333333   \n",
       "\n",
       "            Adj Close  \n",
       "Date                   \n",
       "2016-01-01   6.445597  \n",
       "2016-04-01   5.243792  \n",
       "2016-07-01  -2.183023  \n",
       "2016-10-01   7.182947  \n",
       "2017-01-01   4.622020  \n",
       "2017-04-01   3.611278  \n",
       "2017-07-01   4.248875  \n",
       "2017-10-01   9.651455  \n",
       "2018-01-01  -6.224215  \n",
       "2018-04-01   6.353354  "
      ]
     },
     "execution_count": 90,
     "metadata": {},
     "output_type": "execute_result"
    }
   ],
   "source": [
    "df['Adj Close'] = df['Adj Close'].shift(-1)\n",
    "df = df.dropna()\n",
    "df.tail(10)"
   ]
  },
  {
   "cell_type": "code",
   "execution_count": 91,
   "metadata": {},
   "outputs": [],
   "source": [
    "basis_Y = df['Adj Close']\n",
    "df = df.drop(['Adj Close'], axis=1)\n",
    "basis_X = df"
   ]
  },
  {
   "cell_type": "code",
   "execution_count": 92,
   "metadata": {},
   "outputs": [],
   "source": [
    "from sklearn.model_selection import train_test_split"
   ]
  },
  {
   "cell_type": "code",
   "execution_count": 101,
   "metadata": {},
   "outputs": [
    {
     "name": "stdout",
     "output_type": "stream",
     "text": [
      "\n",
      "basis_X_train:\n",
      "\n",
      "              GDP_Q1    GDP_Q2    GDP_Q3    GDP_Q4  ICS_Q1    ICS_Q2  \\\n",
      "Date                                                                   \n",
      "1960-07-01  0.489275 -0.052751  2.193361  2.484652    -6.7 -0.533049   \n",
      "\n",
      "              ICS_Q3    ICS_Q4     BP_Q1     BP_Q2     BP_Q3    BP_Q4  \n",
      "Date                                                                   \n",
      "1960-07-01 -2.098636  2.753304  4.279749 -5.038023 -1.673228  4.60733  \n",
      "              GDP_Q1    GDP_Q2    GDP_Q3    GDP_Q4    ICS_Q1    ICS_Q2  \\\n",
      "Date                                                                     \n",
      "2006-07-01  0.154633  0.388694  1.724152  2.366502  7.332491 -2.860412   \n",
      "\n",
      "              ICS_Q3    ICS_Q4     BP_Q1     BP_Q2      BP_Q3      BP_Q4  \n",
      "Date                                                                      \n",
      "2006-07-01 -4.499438 -2.076125 -5.570434 -7.454068 -11.761762 -16.761095  \n",
      "(185, 12)\n",
      "\n",
      "basis_X_test:\n",
      "\n",
      "              GDP_Q1    GDP_Q2   GDP_Q3    GDP_Q4    ICS_Q1    ICS_Q2  \\\n",
      "Date                                                                    \n",
      "2006-10-01  0.851865  1.007815  1.24387  2.590704  4.146341  0.826446   \n",
      "\n",
      "              ICS_Q3    ICS_Q4     BP_Q1     BP_Q2      BP_Q3      BP_Q4  \n",
      "Date                                                                      \n",
      "2006-10-01  0.588928  7.964602 -5.135952 -8.826945 -10.947249 -15.907874  \n",
      "              GDP_Q1    GDP_Q2    GDP_Q3    GDP_Q4    ICS_Q1    ICS_Q2  \\\n",
      "Date                                                                     \n",
      "2018-04-01  1.023867  1.579356  2.156263  2.869807  1.705115  5.956113   \n",
      "\n",
      "              ICS_Q3    ICS_Q4     BP_Q1     BP_Q2     BP_Q3     BP_Q4  \n",
      "Date                                                                    \n",
      "2018-04-01  5.735141  2.944162 -0.944081  3.099017 -0.146413  3.333333  \n",
      "(47, 12)\n"
     ]
    }
   ],
   "source": [
    "basis_X_train, basis_X_test, basis_Y_train, basis_Y_test = train_test_split(basis_X, basis_Y, shuffle=False, test_size=0.2)\n",
    "print(\"\\nbasis_X_train:\\n\")\n",
    "print(basis_X_train.head(1))\n",
    "print(basis_X_train.tail(1))\n",
    "print(basis_X_train.shape)\n",
    "\n",
    "print(\"\\nbasis_X_test:\\n\")\n",
    "print(basis_X_test.head(1))\n",
    "print(basis_X_test.tail(1))\n",
    "print(basis_X_test.shape)"
   ]
  },
  {
   "cell_type": "code",
   "execution_count": 94,
   "metadata": {},
   "outputs": [
    {
     "name": "stdout",
     "output_type": "stream",
     "text": [
      "185 train + 47 test\n"
     ]
    }
   ],
   "source": [
    "print(len(basis_X_train), \"train +\", len(basis_Y_test), \"test\")"
   ]
  },
  {
   "cell_type": "code",
   "execution_count": 95,
   "metadata": {},
   "outputs": [
    {
     "name": "stdout",
     "output_type": "stream",
     "text": [
      "GDP_Q1\n",
      "GDP_Q2\n",
      "GDP_Q3\n",
      "GDP_Q4\n",
      "ICS_Q1\n",
      "ICS_Q2\n",
      "ICS_Q3\n",
      "ICS_Q4\n",
      "BP_Q1\n",
      "BP_Q2\n",
      "BP_Q3\n",
      "BP_Q4\n"
     ]
    }
   ],
   "source": [
    "for i in range(len(df.columns)):\n",
    "    print(df.columns[i])"
   ]
  },
  {
   "cell_type": "code",
   "execution_count": 96,
   "metadata": {},
   "outputs": [],
   "source": [
    "from sklearn import linear_model\n",
    "from sklearn.metrics import mean_squared_error, r2_score\n",
    "\n",
    "def linear_regression(basis_X_train, basis_Y_train, basis_X_test,basis_Y_test):\n",
    "    regr = linear_model.LinearRegression()\n",
    "    # Train the model using the training sets\n",
    "    regr.fit(basis_X_train, basis_Y_train)\n",
    "    # Make predictions using the testing set\n",
    "    basis_Y_pred = regr.predict(basis_X_test)\n",
    "\n",
    "    # The coefficients\n",
    "    print('Coefficients: \\n', regr.coef_)\n",
    "    # The mean squared error\n",
    "    print(\"Mean squared error: %.2f\"\n",
    "          % mean_squared_error(basis_Y_test, basis_Y_pred))\n",
    "    # Explained variance score: 1 is perfect prediction\n",
    "    print('Variance score: %.2f' % r2_score(basis_Y_test, basis_Y_pred))\n",
    "\n",
    "    # Plot outputs\n",
    "    plt.scatter(basis_Y_pred, basis_Y_test,  color='black')\n",
    "    plt.plot(basis_Y_test, basis_Y_test, color='blue', linewidth=3)\n",
    "\n",
    "    plt.xlabel('Y(actual)')\n",
    "    plt.ylabel('Y(Predicted)')\n",
    "\n",
    "    plt.show()\n",
    "    \n",
    "    return regr, basis_Y_pred"
   ]
  },
  {
   "cell_type": "code",
   "execution_count": 97,
   "metadata": {},
   "outputs": [
    {
     "name": "stdout",
     "output_type": "stream",
     "text": [
      "Coefficients: \n",
      " [-7.08860945e-02 -4.35517472e-02  4.19271249e-01 -6.59954906e-01\n",
      " -1.92052251e-01  1.04930349e-04  1.45252224e-01 -9.27466616e-02\n",
      "  6.04844245e-02 -3.58334165e-02 -3.38952027e-02  9.27668102e-02]\n",
      "Mean squared error: 48.53\n",
      "Variance score: -0.05\n"
     ]
    },
    {
     "data": {
      "image/png": "[encoded data removed]",
      "text/plain": [
       "<Figure size 432x288 with 1 Axes>"
      ]
     },
     "metadata": {
      "needs_background": "light"
     },
     "output_type": "display_data"
    }
   ],
   "source": [
    "_, basis_Y_pred = linear_regression(basis_X_train, basis_Y_train, basis_X_test, basis_Y_test)"
   ]
  },
  {
   "cell_type": "code",
   "execution_count": 51,
   "metadata": {},
   "outputs": [
    {
     "name": "stdout",
     "output_type": "stream",
     "text": [
      "Mean squared error: 54.80\n",
      "Variance score: -0.18\n"
     ]
    },
    {
     "data": {
      "image/png": "[encoded data removed]",
      "text/plain": [
       "<Figure size 432x288 with 1 Axes>"
      ]
     },
     "metadata": {
      "needs_background": "light"
     },
     "output_type": "display_data"
    }
   ],
   "source": [
    "from sklearn import neighbors\n",
    "n_neighbors = 5\n",
    "\n",
    "model = neighbors.KNeighborsRegressor(n_neighbors, weights='distance')\n",
    "model.fit(basis_X_train, basis_Y_train)\n",
    "basis_Y_pred = model.predict(basis_X_test)\n",
    "\n",
    "# The mean squared error\n",
    "print(\"Mean squared error: %.2f\"\n",
    "      % mean_squared_error(basis_Y_test, basis_Y_pred))\n",
    "# Explained variance score: 1 is perfect prediction\n",
    "print('Variance score: %.2f' % r2_score(basis_Y_test, basis_Y_pred))\n",
    "\n",
    "# Plot outputs\n",
    "plt.scatter(basis_Y_pred, basis_Y_test,  color='black')\n",
    "plt.plot(basis_Y_test, basis_Y_test, color='blue', linewidth=3)\n",
    "\n",
    "plt.xlabel('Y(actual)')\n",
    "plt.ylabel('Y(Predicted)')\n",
    "\n",
    "plt.show()\n",
    "\n",
    "basis_Y_knn = basis_Y_pred.copy()"
   ]
  },
  {
   "cell_type": "code",
   "execution_count": 100,
   "metadata": {},
   "outputs": [
    {
     "name": "stdout",
     "output_type": "stream",
     "text": [
      "Mean squared error: 46.44\n",
      "Variance score: -0.00\n"
     ]
    },
    {
     "data": {
      "image/png": "[encoded data removed]",
      "text/plain": [
       "<Figure size 432x288 with 1 Axes>"
      ]
     },
     "metadata": {
      "needs_background": "light"
     },
     "output_type": "display_data"
    }
   ],
   "source": [
    "from sklearn.svm import SVR\n",
    "\n",
    "model = SVR(kernel='rbf', C=1e3, gamma=0.1)\n",
    "\n",
    "model.fit(basis_X_train, basis_Y_train)\n",
    "basis_Y_pred = model.predict(basis_X_test)\n",
    "\n",
    "# The mean squared error\n",
    "print(\"Mean squared error: %.2f\"\n",
    "      % mean_squared_error(basis_Y_test, basis_Y_pred))\n",
    "# Explained variance score: 1 is perfect prediction\n",
    "print('Variance score: %.2f' % r2_score(basis_Y_test, basis_Y_pred))\n",
    "\n",
    "# Plot outputs\n",
    "plt.scatter(basis_Y_pred, basis_Y_test,  color='black')\n",
    "plt.plot(basis_Y_test, basis_Y_test, color='blue', linewidth=3)\n",
    "\n",
    "\n",
    "plt.xlabel('Y(actual)')\n",
    "plt.ylabel('Y(Predicted)')\n",
    "\n",
    "plt.show()\n",
    "\n",
    "basis_Y_svr = basis_Y_pred.copy()"
   ]
  },
  {
   "cell_type": "code",
   "execution_count": 99,
   "metadata": {},
   "outputs": [
    {
     "name": "stderr",
     "output_type": "stream",
     "text": [
      "C:\\Users\\AKINLOLU\\Anaconda3\\lib\\site-packages\\sklearn\\ensemble\\forest.py:246: FutureWarning: The default value of n_estimators will change from 10 in version 0.20 to 100 in 0.22.\n",
      "  \"10 in version 0.20 to 100 in 0.22.\", FutureWarning)\n"
     ]
    },
    {
     "name": "stdout",
     "output_type": "stream",
     "text": [
      "Mean squared error: 57.59\n",
      "Variance score: -0.24\n"
     ]
    },
    {
     "data": {
      "image/png": "[encoded data removed]",
      "text/plain": [
       "<Figure size 432x288 with 1 Axes>"
      ]
     },
     "metadata": {
      "needs_background": "light"
     },
     "output_type": "display_data"
    }
   ],
   "source": [
    "from sklearn import ensemble\n",
    "model=ensemble.ExtraTreesRegressor()\n",
    "model.fit(basis_X_train, basis_Y_train)\n",
    "basis_Y_pred = model.predict(basis_X_test)\n",
    "\n",
    "# The mean squared error\n",
    "print(\"Mean squared error: %.2f\"\n",
    "      % mean_squared_error(basis_Y_test, basis_Y_pred))\n",
    "# Explained variance score: 1 is perfect prediction\n",
    "print('Variance score: %.2f' % r2_score(basis_Y_test, basis_Y_pred))\n",
    "\n",
    "# Plot outputs\n",
    "plt.scatter(basis_Y_pred, basis_Y_test,  color='black')\n",
    "plt.plot(basis_Y_test, basis_Y_test, color='blue', linewidth=3)\n",
    "\n",
    "\n",
    "plt.xlabel('Y(actual)')\n",
    "plt.ylabel('Y(Predicted)')\n",
    "\n",
    "plt.show()\n",
    "\n",
    "basis_Y_trees = basis_Y_pred.copy()"
   ]
  },
  {
   "cell_type": "code",
   "execution_count": null,
   "metadata": {},
   "outputs": [],
   "source": []
  }
 ],
 "metadata": {
  "kernelspec": {
   "display_name": "Python 3",
   "language": "python",
   "name": "python3"
  },
  "language_info": {
   "codemirror_mode": {
    "name": "ipython",
    "version": 3
   },
   "file_extension": ".py",
   "mimetype": "text/x-python",
   "name": "python",
   "nbconvert_exporter": "python",
   "pygments_lexer": "ipython3",
   "version": "3.6.8"
  }
 },
 "nbformat": 4,
 "nbformat_minor": 2
}
