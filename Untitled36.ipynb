{
 "cells": [
  {
   "cell_type": "code",
   "execution_count": 138,
   "metadata": {},
   "outputs": [],
   "source": [
    "import numpy as np\n",
    "import pandas as pd\n",
    "import os\n",
    "import folium\n",
    "from folium import plugins\n",
    "import matplotlib.pyplot as plt\n",
    "import seaborn as sns\n",
    "\n",
    "%matplotlib inline"
   ]
  },
  {
   "cell_type": "code",
   "execution_count": 139,
   "metadata": {},
   "outputs": [],
   "source": [
    "entries = os.listdir('Desktop/Asheville/')\n",
    "#listings = pd.read_csv(\"Desktop/Asheville/listings.csv\", index_col=\"id\", low_memory=False)\n",
    "listings = pd.read_csv(\"Desktop/Asheville/listings.csv\", header=0,encoding = 'unicode_escape')"
   ]
  },
  {
   "cell_type": "code",
   "execution_count": 140,
   "metadata": {},
   "outputs": [],
   "source": [
    "reviews_per_listings = listings[['number_of_reviews','id']]"
   ]
  },
  {
   "cell_type": "code",
   "execution_count": 141,
   "metadata": {},
   "outputs": [
    {
     "data": {
      "text/html": [
       "<div>\n",
       "<style scoped>\n",
       "    .dataframe tbody tr th:only-of-type {\n",
       "        vertical-align: middle;\n",
       "    }\n",
       "\n",
       "    .dataframe tbody tr th {\n",
       "        vertical-align: top;\n",
       "    }\n",
       "\n",
       "    .dataframe thead th {\n",
       "        text-align: right;\n",
       "    }\n",
       "</style>\n",
       "<table border=\"1\" class=\"dataframe\">\n",
       "  <thead>\n",
       "    <tr style=\"text-align: right;\">\n",
       "      <th></th>\n",
       "      <th>number_of_reviews</th>\n",
       "      <th>id</th>\n",
       "    </tr>\n",
       "  </thead>\n",
       "  <tbody>\n",
       "    <tr>\n",
       "      <th>0</th>\n",
       "      <td>121</td>\n",
       "      <td>38585</td>\n",
       "    </tr>\n",
       "    <tr>\n",
       "      <th>1</th>\n",
       "      <td>92</td>\n",
       "      <td>80905</td>\n",
       "    </tr>\n",
       "    <tr>\n",
       "      <th>2</th>\n",
       "      <td>85</td>\n",
       "      <td>108061</td>\n",
       "    </tr>\n",
       "    <tr>\n",
       "      <th>3</th>\n",
       "      <td>195</td>\n",
       "      <td>155305</td>\n",
       "    </tr>\n",
       "    <tr>\n",
       "      <th>4</th>\n",
       "      <td>51</td>\n",
       "      <td>156805</td>\n",
       "    </tr>\n",
       "  </tbody>\n",
       "</table>\n",
       "</div>"
      ],
      "text/plain": [
       "   number_of_reviews      id\n",
       "0                121   38585\n",
       "1                 92   80905\n",
       "2                 85  108061\n",
       "3                195  155305\n",
       "4                 51  156805"
      ]
     },
     "execution_count": 141,
     "metadata": {},
     "output_type": "execute_result"
    }
   ],
   "source": [
    "reviews_per_listings.head()"
   ]
  },
  {
   "cell_type": "code",
   "execution_count": 142,
   "metadata": {},
   "outputs": [],
   "source": [
    "listings = listings.drop(columns=['name', 'host_id', 'host_name', 'neighbourhood_group', 'neighbourhood',\n",
    "       'latitude', 'longitude', 'last_review', 'reviews_per_month',])"
   ]
  },
  {
   "cell_type": "code",
   "execution_count": 143,
   "metadata": {},
   "outputs": [],
   "source": [
    "listings_details = pd.read_csv(\"Desktop/Asheville/listings_details.csv\", index_col=\"id\", low_memory=False)"
   ]
  },
  {
   "cell_type": "code",
   "execution_count": 144,
   "metadata": {},
   "outputs": [
    {
     "name": "stdout",
     "output_type": "stream",
     "text": [
      "<class 'pandas.core.frame.DataFrame'>\n",
      "Int64Index: 2053 entries, 0 to 2052\n",
      "Data columns (total 14 columns):\n",
      "id                                2053 non-null int64\n",
      "room_type                         2053 non-null object\n",
      "price                             2053 non-null int64\n",
      "minimum_nights                    2053 non-null int64\n",
      "number_of_reviews                 2053 non-null int64\n",
      "calculated_host_listings_count    2053 non-null int64\n",
      "availability_365                  2053 non-null int64\n",
      "accommodates                      2053 non-null int64\n",
      "amenities                         2053 non-null object\n",
      "host_response_rate                1846 non-null object\n",
      "availability_30                   2053 non-null int64\n",
      "availability_60                   2053 non-null int64\n",
      "availability_90                   2053 non-null int64\n",
      "property_type                     2053 non-null object\n",
      "dtypes: int64(10), object(4)\n",
      "memory usage: 240.6+ KB\n"
     ]
    }
   ],
   "source": [
    "target_columns = [\"accommodates\", \"amenities\", \"host_response_rate\", 'availability_30', \n",
    "                  'availability_60', 'availability_90','property_type']\n",
    "listings = pd.merge(listings, listings_details[target_columns], on='id', how='left')\n",
    "listings.info()"
   ]
  },
  {
   "cell_type": "code",
   "execution_count": 145,
   "metadata": {},
   "outputs": [
    {
     "data": {
      "text/html": [
       "<div>\n",
       "<style scoped>\n",
       "    .dataframe tbody tr th:only-of-type {\n",
       "        vertical-align: middle;\n",
       "    }\n",
       "\n",
       "    .dataframe tbody tr th {\n",
       "        vertical-align: top;\n",
       "    }\n",
       "\n",
       "    .dataframe thead th {\n",
       "        text-align: right;\n",
       "    }\n",
       "</style>\n",
       "<table border=\"1\" class=\"dataframe\">\n",
       "  <thead>\n",
       "    <tr style=\"text-align: right;\">\n",
       "      <th></th>\n",
       "      <th>id</th>\n",
       "      <th>room_type</th>\n",
       "      <th>price</th>\n",
       "      <th>minimum_nights</th>\n",
       "      <th>number_of_reviews</th>\n",
       "      <th>calculated_host_listings_count</th>\n",
       "      <th>availability_365</th>\n",
       "      <th>accommodates</th>\n",
       "      <th>amenities</th>\n",
       "      <th>host_response_rate</th>\n",
       "      <th>availability_30</th>\n",
       "      <th>availability_60</th>\n",
       "      <th>availability_90</th>\n",
       "      <th>property_type</th>\n",
       "    </tr>\n",
       "  </thead>\n",
       "  <tbody>\n",
       "    <tr>\n",
       "      <th>0</th>\n",
       "      <td>38585</td>\n",
       "      <td>Private room</td>\n",
       "      <td>45</td>\n",
       "      <td>1</td>\n",
       "      <td>121</td>\n",
       "      <td>1</td>\n",
       "      <td>60</td>\n",
       "      <td>2</td>\n",
       "      <td>{Internet,Wifi,\"Air conditioning\",Kitchen,\"Fre...</td>\n",
       "      <td>100.0</td>\n",
       "      <td>27</td>\n",
       "      <td>57</td>\n",
       "      <td>60</td>\n",
       "      <td>House</td>\n",
       "    </tr>\n",
       "    <tr>\n",
       "      <th>1</th>\n",
       "      <td>80905</td>\n",
       "      <td>Entire home/apt</td>\n",
       "      <td>765</td>\n",
       "      <td>1</td>\n",
       "      <td>92</td>\n",
       "      <td>12</td>\n",
       "      <td>361</td>\n",
       "      <td>12</td>\n",
       "      <td>{TV,Internet,Wifi,\"Air conditioning\",Kitchen,\"...</td>\n",
       "      <td>100.0</td>\n",
       "      <td>28</td>\n",
       "      <td>56</td>\n",
       "      <td>86</td>\n",
       "      <td>Loft</td>\n",
       "    </tr>\n",
       "    <tr>\n",
       "      <th>2</th>\n",
       "      <td>108061</td>\n",
       "      <td>Entire home/apt</td>\n",
       "      <td>75</td>\n",
       "      <td>2</td>\n",
       "      <td>85</td>\n",
       "      <td>2</td>\n",
       "      <td>9</td>\n",
       "      <td>2</td>\n",
       "      <td>{Wifi,\"Air conditioning\",Kitchen,\"Free parking...</td>\n",
       "      <td>93.0</td>\n",
       "      <td>4</td>\n",
       "      <td>5</td>\n",
       "      <td>5</td>\n",
       "      <td>Apartment</td>\n",
       "    </tr>\n",
       "    <tr>\n",
       "      <th>3</th>\n",
       "      <td>155305</td>\n",
       "      <td>Entire home/apt</td>\n",
       "      <td>107</td>\n",
       "      <td>1</td>\n",
       "      <td>195</td>\n",
       "      <td>7</td>\n",
       "      <td>339</td>\n",
       "      <td>2</td>\n",
       "      <td>{Internet,\"Air conditioning\",Kitchen,\"Free par...</td>\n",
       "      <td>100.0</td>\n",
       "      <td>21</td>\n",
       "      <td>42</td>\n",
       "      <td>70</td>\n",
       "      <td>Guesthouse</td>\n",
       "    </tr>\n",
       "    <tr>\n",
       "      <th>4</th>\n",
       "      <td>156805</td>\n",
       "      <td>Private room</td>\n",
       "      <td>71</td>\n",
       "      <td>1</td>\n",
       "      <td>51</td>\n",
       "      <td>7</td>\n",
       "      <td>349</td>\n",
       "      <td>2</td>\n",
       "      <td>{Internet,Wifi,Kitchen,\"Free parking on premis...</td>\n",
       "      <td>100.0</td>\n",
       "      <td>27</td>\n",
       "      <td>51</td>\n",
       "      <td>79</td>\n",
       "      <td>House</td>\n",
       "    </tr>\n",
       "  </tbody>\n",
       "</table>\n",
       "</div>"
      ],
      "text/plain": [
       "       id        room_type  price  minimum_nights  number_of_reviews  \\\n",
       "0   38585     Private room     45               1                121   \n",
       "1   80905  Entire home/apt    765               1                 92   \n",
       "2  108061  Entire home/apt     75               2                 85   \n",
       "3  155305  Entire home/apt    107               1                195   \n",
       "4  156805     Private room     71               1                 51   \n",
       "\n",
       "   calculated_host_listings_count  availability_365  accommodates  \\\n",
       "0                               1                60             2   \n",
       "1                              12               361            12   \n",
       "2                               2                 9             2   \n",
       "3                               7               339             2   \n",
       "4                               7               349             2   \n",
       "\n",
       "                                           amenities  host_response_rate  \\\n",
       "0  {Internet,Wifi,\"Air conditioning\",Kitchen,\"Fre...               100.0   \n",
       "1  {TV,Internet,Wifi,\"Air conditioning\",Kitchen,\"...               100.0   \n",
       "2  {Wifi,\"Air conditioning\",Kitchen,\"Free parking...                93.0   \n",
       "3  {Internet,\"Air conditioning\",Kitchen,\"Free par...               100.0   \n",
       "4  {Internet,Wifi,Kitchen,\"Free parking on premis...               100.0   \n",
       "\n",
       "   availability_30  availability_60  availability_90 property_type  \n",
       "0               27               57               60         House  \n",
       "1               28               56               86          Loft  \n",
       "2                4                5                5     Apartment  \n",
       "3               21               42               70    Guesthouse  \n",
       "4               27               51               79         House  "
      ]
     },
     "execution_count": 145,
     "metadata": {},
     "output_type": "execute_result"
    }
   ],
   "source": [
    "listings['host_response_rate'] = pd.to_numeric(listings['host_response_rate'].str.strip('%'))\n",
    "listings.head()"
   ]
  },
  {
   "cell_type": "code",
   "execution_count": 146,
   "metadata": {},
   "outputs": [
    {
     "data": {
      "image/png": "[encoded data removed]",
      "text/plain": [
       "<Figure size 1152x360 with 1 Axes>"
      ]
     },
     "metadata": {
      "needs_background": "light"
     },
     "output_type": "display_data"
    }
   ],
   "source": [
    "import matplotlib.pyplot as plt\n",
    "%matplotlib inline\n",
    "\n",
    "percentage_missing_data = listings.isnull().sum() / listings.shape[0]\n",
    "ax = percentage_missing_data.plot(kind = 'bar', color='#E35A5C', figsize = (16, 5))\n",
    "ax.set_xlabel('Feature')\n",
    "ax.set_ylabel('Percent Empty / NaN')\n",
    "ax.set_title('Feature Emptiness')\n",
    "plt.show()"
   ]
  },
  {
   "cell_type": "code",
   "execution_count": 147,
   "metadata": {},
   "outputs": [
    {
     "data": {
      "text/html": [
       "<div>\n",
       "<style scoped>\n",
       "    .dataframe tbody tr th:only-of-type {\n",
       "        vertical-align: middle;\n",
       "    }\n",
       "\n",
       "    .dataframe tbody tr th {\n",
       "        vertical-align: top;\n",
       "    }\n",
       "\n",
       "    .dataframe thead th {\n",
       "        text-align: right;\n",
       "    }\n",
       "</style>\n",
       "<table border=\"1\" class=\"dataframe\">\n",
       "  <thead>\n",
       "    <tr style=\"text-align: right;\">\n",
       "      <th></th>\n",
       "      <th>id</th>\n",
       "      <th>price</th>\n",
       "      <th>minimum_nights</th>\n",
       "      <th>number_of_reviews</th>\n",
       "      <th>calculated_host_listings_count</th>\n",
       "      <th>availability_365</th>\n",
       "      <th>accommodates</th>\n",
       "      <th>host_response_rate</th>\n",
       "      <th>availability_30</th>\n",
       "      <th>availability_60</th>\n",
       "      <th>availability_90</th>\n",
       "    </tr>\n",
       "  </thead>\n",
       "  <tbody>\n",
       "    <tr>\n",
       "      <th>count</th>\n",
       "      <td>2.053000e+03</td>\n",
       "      <td>2053.000000</td>\n",
       "      <td>2053.000000</td>\n",
       "      <td>2053.00000</td>\n",
       "      <td>2053.000000</td>\n",
       "      <td>2053.000000</td>\n",
       "      <td>2053.000000</td>\n",
       "      <td>1846.000000</td>\n",
       "      <td>2053.000000</td>\n",
       "      <td>2053.000000</td>\n",
       "      <td>2053.000000</td>\n",
       "    </tr>\n",
       "    <tr>\n",
       "      <th>mean</th>\n",
       "      <td>1.849427e+07</td>\n",
       "      <td>160.607891</td>\n",
       "      <td>4.103751</td>\n",
       "      <td>61.64491</td>\n",
       "      <td>2.765222</td>\n",
       "      <td>193.274233</td>\n",
       "      <td>3.991232</td>\n",
       "      <td>98.130553</td>\n",
       "      <td>16.457867</td>\n",
       "      <td>35.201656</td>\n",
       "      <td>55.401364</td>\n",
       "    </tr>\n",
       "    <tr>\n",
       "      <th>std</th>\n",
       "      <td>8.719698e+06</td>\n",
       "      <td>411.685034</td>\n",
       "      <td>9.151287</td>\n",
       "      <td>78.66738</td>\n",
       "      <td>4.055466</td>\n",
       "      <td>126.293978</td>\n",
       "      <td>2.572141</td>\n",
       "      <td>10.187179</td>\n",
       "      <td>10.384743</td>\n",
       "      <td>20.077561</td>\n",
       "      <td>29.474485</td>\n",
       "    </tr>\n",
       "    <tr>\n",
       "      <th>min</th>\n",
       "      <td>3.858500e+04</td>\n",
       "      <td>10.000000</td>\n",
       "      <td>1.000000</td>\n",
       "      <td>0.00000</td>\n",
       "      <td>1.000000</td>\n",
       "      <td>0.000000</td>\n",
       "      <td>1.000000</td>\n",
       "      <td>0.000000</td>\n",
       "      <td>0.000000</td>\n",
       "      <td>0.000000</td>\n",
       "      <td>0.000000</td>\n",
       "    </tr>\n",
       "    <tr>\n",
       "      <th>25%</th>\n",
       "      <td>1.296574e+07</td>\n",
       "      <td>75.000000</td>\n",
       "      <td>1.000000</td>\n",
       "      <td>7.00000</td>\n",
       "      <td>1.000000</td>\n",
       "      <td>79.000000</td>\n",
       "      <td>2.000000</td>\n",
       "      <td>100.000000</td>\n",
       "      <td>8.000000</td>\n",
       "      <td>21.000000</td>\n",
       "      <td>37.000000</td>\n",
       "    </tr>\n",
       "    <tr>\n",
       "      <th>50%</th>\n",
       "      <td>1.995256e+07</td>\n",
       "      <td>99.000000</td>\n",
       "      <td>2.000000</td>\n",
       "      <td>34.00000</td>\n",
       "      <td>1.000000</td>\n",
       "      <td>178.000000</td>\n",
       "      <td>4.000000</td>\n",
       "      <td>100.000000</td>\n",
       "      <td>18.000000</td>\n",
       "      <td>40.000000</td>\n",
       "      <td>63.000000</td>\n",
       "    </tr>\n",
       "    <tr>\n",
       "      <th>75%</th>\n",
       "      <td>2.525163e+07</td>\n",
       "      <td>150.000000</td>\n",
       "      <td>2.000000</td>\n",
       "      <td>87.00000</td>\n",
       "      <td>2.000000</td>\n",
       "      <td>323.000000</td>\n",
       "      <td>5.000000</td>\n",
       "      <td>100.000000</td>\n",
       "      <td>25.000000</td>\n",
       "      <td>53.000000</td>\n",
       "      <td>80.000000</td>\n",
       "    </tr>\n",
       "    <tr>\n",
       "      <th>max</th>\n",
       "      <td>3.235795e+07</td>\n",
       "      <td>10000.000000</td>\n",
       "      <td>180.000000</td>\n",
       "      <td>811.00000</td>\n",
       "      <td>22.000000</td>\n",
       "      <td>365.000000</td>\n",
       "      <td>22.000000</td>\n",
       "      <td>100.000000</td>\n",
       "      <td>30.000000</td>\n",
       "      <td>60.000000</td>\n",
       "      <td>90.000000</td>\n",
       "    </tr>\n",
       "  </tbody>\n",
       "</table>\n",
       "</div>"
      ],
      "text/plain": [
       "                 id         price  minimum_nights  number_of_reviews  \\\n",
       "count  2.053000e+03   2053.000000     2053.000000         2053.00000   \n",
       "mean   1.849427e+07    160.607891        4.103751           61.64491   \n",
       "std    8.719698e+06    411.685034        9.151287           78.66738   \n",
       "min    3.858500e+04     10.000000        1.000000            0.00000   \n",
       "25%    1.296574e+07     75.000000        1.000000            7.00000   \n",
       "50%    1.995256e+07     99.000000        2.000000           34.00000   \n",
       "75%    2.525163e+07    150.000000        2.000000           87.00000   \n",
       "max    3.235795e+07  10000.000000      180.000000          811.00000   \n",
       "\n",
       "       calculated_host_listings_count  availability_365  accommodates  \\\n",
       "count                     2053.000000       2053.000000   2053.000000   \n",
       "mean                         2.765222        193.274233      3.991232   \n",
       "std                          4.055466        126.293978      2.572141   \n",
       "min                          1.000000          0.000000      1.000000   \n",
       "25%                          1.000000         79.000000      2.000000   \n",
       "50%                          1.000000        178.000000      4.000000   \n",
       "75%                          2.000000        323.000000      5.000000   \n",
       "max                         22.000000        365.000000     22.000000   \n",
       "\n",
       "       host_response_rate  availability_30  availability_60  availability_90  \n",
       "count         1846.000000      2053.000000      2053.000000      2053.000000  \n",
       "mean            98.130553        16.457867        35.201656        55.401364  \n",
       "std             10.187179        10.384743        20.077561        29.474485  \n",
       "min              0.000000         0.000000         0.000000         0.000000  \n",
       "25%            100.000000         8.000000        21.000000        37.000000  \n",
       "50%            100.000000        18.000000        40.000000        63.000000  \n",
       "75%            100.000000        25.000000        53.000000        80.000000  \n",
       "max            100.000000        30.000000        60.000000        90.000000  "
      ]
     },
     "execution_count": 147,
     "metadata": {},
     "output_type": "execute_result"
    }
   ],
   "source": [
    "listings.describe()"
   ]
  },
  {
   "cell_type": "code",
   "execution_count": 148,
   "metadata": {},
   "outputs": [
    {
     "data": {
      "text/html": [
       "<div>\n",
       "<style scoped>\n",
       "    .dataframe tbody tr th:only-of-type {\n",
       "        vertical-align: middle;\n",
       "    }\n",
       "\n",
       "    .dataframe tbody tr th {\n",
       "        vertical-align: top;\n",
       "    }\n",
       "\n",
       "    .dataframe thead th {\n",
       "        text-align: right;\n",
       "    }\n",
       "</style>\n",
       "<table border=\"1\" class=\"dataframe\">\n",
       "  <thead>\n",
       "    <tr style=\"text-align: right;\">\n",
       "      <th></th>\n",
       "      <th>Entire home/apt</th>\n",
       "      <th>Private room</th>\n",
       "      <th>Shared room</th>\n",
       "    </tr>\n",
       "  </thead>\n",
       "  <tbody>\n",
       "    <tr>\n",
       "      <th>0</th>\n",
       "      <td>0</td>\n",
       "      <td>1</td>\n",
       "      <td>0</td>\n",
       "    </tr>\n",
       "    <tr>\n",
       "      <th>1</th>\n",
       "      <td>1</td>\n",
       "      <td>0</td>\n",
       "      <td>0</td>\n",
       "    </tr>\n",
       "    <tr>\n",
       "      <th>2</th>\n",
       "      <td>1</td>\n",
       "      <td>0</td>\n",
       "      <td>0</td>\n",
       "    </tr>\n",
       "    <tr>\n",
       "      <th>3</th>\n",
       "      <td>1</td>\n",
       "      <td>0</td>\n",
       "      <td>0</td>\n",
       "    </tr>\n",
       "    <tr>\n",
       "      <th>4</th>\n",
       "      <td>0</td>\n",
       "      <td>1</td>\n",
       "      <td>0</td>\n",
       "    </tr>\n",
       "  </tbody>\n",
       "</table>\n",
       "</div>"
      ],
      "text/plain": [
       "   Entire home/apt  Private room  Shared room\n",
       "0                0             1            0\n",
       "1                1             0            0\n",
       "2                1             0            0\n",
       "3                1             0            0\n",
       "4                0             1            0"
      ]
     },
     "execution_count": 148,
     "metadata": {},
     "output_type": "execute_result"
    }
   ],
   "source": [
    "room_type = pd.get_dummies(listings.room_type).astype(int)\n",
    "room_type.head()"
   ]
  },
  {
   "cell_type": "code",
   "execution_count": 149,
   "metadata": {},
   "outputs": [
    {
     "data": {
      "text/html": [
       "<div>\n",
       "<style scoped>\n",
       "    .dataframe tbody tr th:only-of-type {\n",
       "        vertical-align: middle;\n",
       "    }\n",
       "\n",
       "    .dataframe tbody tr th {\n",
       "        vertical-align: top;\n",
       "    }\n",
       "\n",
       "    .dataframe thead th {\n",
       "        text-align: right;\n",
       "    }\n",
       "</style>\n",
       "<table border=\"1\" class=\"dataframe\">\n",
       "  <thead>\n",
       "    <tr style=\"text-align: right;\">\n",
       "      <th></th>\n",
       "      <th>id</th>\n",
       "      <th>room_type</th>\n",
       "      <th>price</th>\n",
       "      <th>minimum_nights</th>\n",
       "      <th>number_of_reviews</th>\n",
       "      <th>calculated_host_listings_count</th>\n",
       "      <th>availability_365</th>\n",
       "      <th>accommodates</th>\n",
       "      <th>amenities</th>\n",
       "      <th>host_response_rate</th>\n",
       "      <th>availability_30</th>\n",
       "      <th>availability_60</th>\n",
       "      <th>availability_90</th>\n",
       "      <th>property_type</th>\n",
       "    </tr>\n",
       "  </thead>\n",
       "  <tbody>\n",
       "    <tr>\n",
       "      <th>0</th>\n",
       "      <td>38585</td>\n",
       "      <td>Private room</td>\n",
       "      <td>45</td>\n",
       "      <td>1</td>\n",
       "      <td>121</td>\n",
       "      <td>1</td>\n",
       "      <td>60</td>\n",
       "      <td>2</td>\n",
       "      <td>32</td>\n",
       "      <td>100.0</td>\n",
       "      <td>27</td>\n",
       "      <td>57</td>\n",
       "      <td>60</td>\n",
       "      <td>House</td>\n",
       "    </tr>\n",
       "    <tr>\n",
       "      <th>1</th>\n",
       "      <td>80905</td>\n",
       "      <td>Entire home/apt</td>\n",
       "      <td>765</td>\n",
       "      <td>1</td>\n",
       "      <td>92</td>\n",
       "      <td>12</td>\n",
       "      <td>361</td>\n",
       "      <td>12</td>\n",
       "      <td>34</td>\n",
       "      <td>100.0</td>\n",
       "      <td>28</td>\n",
       "      <td>56</td>\n",
       "      <td>86</td>\n",
       "      <td>Loft</td>\n",
       "    </tr>\n",
       "    <tr>\n",
       "      <th>2</th>\n",
       "      <td>108061</td>\n",
       "      <td>Entire home/apt</td>\n",
       "      <td>75</td>\n",
       "      <td>2</td>\n",
       "      <td>85</td>\n",
       "      <td>2</td>\n",
       "      <td>9</td>\n",
       "      <td>2</td>\n",
       "      <td>49</td>\n",
       "      <td>93.0</td>\n",
       "      <td>4</td>\n",
       "      <td>5</td>\n",
       "      <td>5</td>\n",
       "      <td>Apartment</td>\n",
       "    </tr>\n",
       "    <tr>\n",
       "      <th>3</th>\n",
       "      <td>155305</td>\n",
       "      <td>Entire home/apt</td>\n",
       "      <td>107</td>\n",
       "      <td>1</td>\n",
       "      <td>195</td>\n",
       "      <td>7</td>\n",
       "      <td>339</td>\n",
       "      <td>2</td>\n",
       "      <td>13</td>\n",
       "      <td>100.0</td>\n",
       "      <td>21</td>\n",
       "      <td>42</td>\n",
       "      <td>70</td>\n",
       "      <td>Guesthouse</td>\n",
       "    </tr>\n",
       "    <tr>\n",
       "      <th>4</th>\n",
       "      <td>156805</td>\n",
       "      <td>Private room</td>\n",
       "      <td>71</td>\n",
       "      <td>1</td>\n",
       "      <td>51</td>\n",
       "      <td>7</td>\n",
       "      <td>349</td>\n",
       "      <td>2</td>\n",
       "      <td>15</td>\n",
       "      <td>100.0</td>\n",
       "      <td>27</td>\n",
       "      <td>51</td>\n",
       "      <td>79</td>\n",
       "      <td>House</td>\n",
       "    </tr>\n",
       "  </tbody>\n",
       "</table>\n",
       "</div>"
      ],
      "text/plain": [
       "       id        room_type  price  minimum_nights  number_of_reviews  \\\n",
       "0   38585     Private room     45               1                121   \n",
       "1   80905  Entire home/apt    765               1                 92   \n",
       "2  108061  Entire home/apt     75               2                 85   \n",
       "3  155305  Entire home/apt    107               1                195   \n",
       "4  156805     Private room     71               1                 51   \n",
       "\n",
       "   calculated_host_listings_count  availability_365  accommodates  amenities  \\\n",
       "0                               1                60             2         32   \n",
       "1                              12               361            12         34   \n",
       "2                               2                 9             2         49   \n",
       "3                               7               339             2         13   \n",
       "4                               7               349             2         15   \n",
       "\n",
       "   host_response_rate  availability_30  availability_60  availability_90  \\\n",
       "0               100.0               27               57               60   \n",
       "1               100.0               28               56               86   \n",
       "2                93.0                4                5                5   \n",
       "3               100.0               21               42               70   \n",
       "4               100.0               27               51               79   \n",
       "\n",
       "  property_type  \n",
       "0         House  \n",
       "1          Loft  \n",
       "2     Apartment  \n",
       "3    Guesthouse  \n",
       "4         House  "
      ]
     },
     "execution_count": 149,
     "metadata": {},
     "output_type": "execute_result"
    }
   ],
   "source": [
    "# splitting the amenities list to count the number of amenities\n",
    "amenities_list = []\n",
    "\n",
    "for element in listings.amenities:\n",
    "    element = element[1:]\n",
    "    element = element[:-1]\n",
    "    x = element.split()\n",
    "    amenities_list.append(len(x))\n",
    "\n",
    "listings.amenities = amenities_list\n",
    "listings.head()"
   ]
  },
  {
   "cell_type": "code",
   "execution_count": 150,
   "metadata": {},
   "outputs": [
    {
     "data": {
      "text/html": [
       "<div>\n",
       "<style scoped>\n",
       "    .dataframe tbody tr th:only-of-type {\n",
       "        vertical-align: middle;\n",
       "    }\n",
       "\n",
       "    .dataframe tbody tr th {\n",
       "        vertical-align: top;\n",
       "    }\n",
       "\n",
       "    .dataframe thead th {\n",
       "        text-align: right;\n",
       "    }\n",
       "</style>\n",
       "<table border=\"1\" class=\"dataframe\">\n",
       "  <thead>\n",
       "    <tr style=\"text-align: right;\">\n",
       "      <th></th>\n",
       "      <th>id</th>\n",
       "      <th>room_type</th>\n",
       "      <th>price</th>\n",
       "      <th>minimum_nights</th>\n",
       "      <th>number_of_reviews</th>\n",
       "      <th>calculated_host_listings_count</th>\n",
       "      <th>availability_365</th>\n",
       "      <th>accommodates</th>\n",
       "      <th>amenities</th>\n",
       "      <th>host_response_rate</th>\n",
       "      <th>availability_30</th>\n",
       "      <th>availability_60</th>\n",
       "      <th>availability_90</th>\n",
       "      <th>property_type</th>\n",
       "    </tr>\n",
       "  </thead>\n",
       "  <tbody>\n",
       "    <tr>\n",
       "      <th>id</th>\n",
       "      <td>1.000000</td>\n",
       "      <td>-0.063277</td>\n",
       "      <td>0.131972</td>\n",
       "      <td>-0.075821</td>\n",
       "      <td>-0.625257</td>\n",
       "      <td>0.212840</td>\n",
       "      <td>-0.075663</td>\n",
       "      <td>0.135851</td>\n",
       "      <td>-0.115123</td>\n",
       "      <td>-0.015166</td>\n",
       "      <td>-0.029791</td>\n",
       "      <td>-0.024523</td>\n",
       "      <td>-0.015895</td>\n",
       "      <td>0.029636</td>\n",
       "    </tr>\n",
       "    <tr>\n",
       "      <th>room_type</th>\n",
       "      <td>-0.063277</td>\n",
       "      <td>1.000000</td>\n",
       "      <td>-0.408343</td>\n",
       "      <td>-0.204726</td>\n",
       "      <td>0.046686</td>\n",
       "      <td>-0.076338</td>\n",
       "      <td>-0.137654</td>\n",
       "      <td>-0.350487</td>\n",
       "      <td>-0.111135</td>\n",
       "      <td>-0.024949</td>\n",
       "      <td>0.096210</td>\n",
       "      <td>0.100442</td>\n",
       "      <td>0.080199</td>\n",
       "      <td>0.210437</td>\n",
       "    </tr>\n",
       "    <tr>\n",
       "      <th>price</th>\n",
       "      <td>0.131972</td>\n",
       "      <td>-0.408343</td>\n",
       "      <td>1.000000</td>\n",
       "      <td>-0.012406</td>\n",
       "      <td>-0.253883</td>\n",
       "      <td>0.423241</td>\n",
       "      <td>0.252875</td>\n",
       "      <td>0.646226</td>\n",
       "      <td>-0.024646</td>\n",
       "      <td>-0.037903</td>\n",
       "      <td>0.064560</td>\n",
       "      <td>0.018163</td>\n",
       "      <td>0.008497</td>\n",
       "      <td>0.035347</td>\n",
       "    </tr>\n",
       "    <tr>\n",
       "      <th>minimum_nights</th>\n",
       "      <td>-0.075821</td>\n",
       "      <td>-0.204726</td>\n",
       "      <td>-0.012406</td>\n",
       "      <td>1.000000</td>\n",
       "      <td>-0.181596</td>\n",
       "      <td>-0.072698</td>\n",
       "      <td>0.028586</td>\n",
       "      <td>0.036916</td>\n",
       "      <td>-0.069038</td>\n",
       "      <td>-0.080798</td>\n",
       "      <td>-0.141983</td>\n",
       "      <td>-0.145329</td>\n",
       "      <td>-0.118357</td>\n",
       "      <td>-0.017695</td>\n",
       "    </tr>\n",
       "    <tr>\n",
       "      <th>number_of_reviews</th>\n",
       "      <td>-0.625257</td>\n",
       "      <td>0.046686</td>\n",
       "      <td>-0.253883</td>\n",
       "      <td>-0.181596</td>\n",
       "      <td>1.000000</td>\n",
       "      <td>-0.182345</td>\n",
       "      <td>0.026964</td>\n",
       "      <td>-0.176151</td>\n",
       "      <td>0.190475</td>\n",
       "      <td>0.111299</td>\n",
       "      <td>-0.011101</td>\n",
       "      <td>-0.001316</td>\n",
       "      <td>-0.005819</td>\n",
       "      <td>-0.045765</td>\n",
       "    </tr>\n",
       "    <tr>\n",
       "      <th>calculated_host_listings_count</th>\n",
       "      <td>0.212840</td>\n",
       "      <td>-0.076338</td>\n",
       "      <td>0.423241</td>\n",
       "      <td>-0.072698</td>\n",
       "      <td>-0.182345</td>\n",
       "      <td>1.000000</td>\n",
       "      <td>0.250575</td>\n",
       "      <td>0.242274</td>\n",
       "      <td>-0.213295</td>\n",
       "      <td>-0.022127</td>\n",
       "      <td>0.072601</td>\n",
       "      <td>0.071803</td>\n",
       "      <td>0.074043</td>\n",
       "      <td>0.008422</td>\n",
       "    </tr>\n",
       "    <tr>\n",
       "      <th>availability_365</th>\n",
       "      <td>-0.075663</td>\n",
       "      <td>-0.137654</td>\n",
       "      <td>0.252875</td>\n",
       "      <td>0.028586</td>\n",
       "      <td>0.026964</td>\n",
       "      <td>0.250575</td>\n",
       "      <td>1.000000</td>\n",
       "      <td>0.166808</td>\n",
       "      <td>-0.051035</td>\n",
       "      <td>-0.020361</td>\n",
       "      <td>0.421275</td>\n",
       "      <td>0.473539</td>\n",
       "      <td>0.517285</td>\n",
       "      <td>-0.056194</td>\n",
       "    </tr>\n",
       "    <tr>\n",
       "      <th>accommodates</th>\n",
       "      <td>0.135851</td>\n",
       "      <td>-0.350487</td>\n",
       "      <td>0.646226</td>\n",
       "      <td>0.036916</td>\n",
       "      <td>-0.176151</td>\n",
       "      <td>0.242274</td>\n",
       "      <td>0.166808</td>\n",
       "      <td>1.000000</td>\n",
       "      <td>0.066571</td>\n",
       "      <td>-0.024401</td>\n",
       "      <td>0.014239</td>\n",
       "      <td>-0.024514</td>\n",
       "      <td>-0.033146</td>\n",
       "      <td>0.150386</td>\n",
       "    </tr>\n",
       "    <tr>\n",
       "      <th>amenities</th>\n",
       "      <td>-0.115123</td>\n",
       "      <td>-0.111135</td>\n",
       "      <td>-0.024646</td>\n",
       "      <td>-0.069038</td>\n",
       "      <td>0.190475</td>\n",
       "      <td>-0.213295</td>\n",
       "      <td>-0.051035</td>\n",
       "      <td>0.066571</td>\n",
       "      <td>1.000000</td>\n",
       "      <td>0.138369</td>\n",
       "      <td>-0.045539</td>\n",
       "      <td>-0.040378</td>\n",
       "      <td>-0.034660</td>\n",
       "      <td>-0.012948</td>\n",
       "    </tr>\n",
       "    <tr>\n",
       "      <th>host_response_rate</th>\n",
       "      <td>-0.015166</td>\n",
       "      <td>-0.024949</td>\n",
       "      <td>-0.037903</td>\n",
       "      <td>-0.080798</td>\n",
       "      <td>0.111299</td>\n",
       "      <td>-0.022127</td>\n",
       "      <td>-0.020361</td>\n",
       "      <td>-0.024401</td>\n",
       "      <td>0.138369</td>\n",
       "      <td>1.000000</td>\n",
       "      <td>-0.023189</td>\n",
       "      <td>-0.015027</td>\n",
       "      <td>-0.008142</td>\n",
       "      <td>-0.029655</td>\n",
       "    </tr>\n",
       "    <tr>\n",
       "      <th>availability_30</th>\n",
       "      <td>-0.029791</td>\n",
       "      <td>0.096210</td>\n",
       "      <td>0.064560</td>\n",
       "      <td>-0.141983</td>\n",
       "      <td>-0.011101</td>\n",
       "      <td>0.072601</td>\n",
       "      <td>0.421275</td>\n",
       "      <td>0.014239</td>\n",
       "      <td>-0.045539</td>\n",
       "      <td>-0.023189</td>\n",
       "      <td>1.000000</td>\n",
       "      <td>0.933364</td>\n",
       "      <td>0.866262</td>\n",
       "      <td>-0.000518</td>\n",
       "    </tr>\n",
       "    <tr>\n",
       "      <th>availability_60</th>\n",
       "      <td>-0.024523</td>\n",
       "      <td>0.100442</td>\n",
       "      <td>0.018163</td>\n",
       "      <td>-0.145329</td>\n",
       "      <td>-0.001316</td>\n",
       "      <td>0.071803</td>\n",
       "      <td>0.473539</td>\n",
       "      <td>-0.024514</td>\n",
       "      <td>-0.040378</td>\n",
       "      <td>-0.015027</td>\n",
       "      <td>0.933364</td>\n",
       "      <td>1.000000</td>\n",
       "      <td>0.968273</td>\n",
       "      <td>-0.012226</td>\n",
       "    </tr>\n",
       "    <tr>\n",
       "      <th>availability_90</th>\n",
       "      <td>-0.015895</td>\n",
       "      <td>0.080199</td>\n",
       "      <td>0.008497</td>\n",
       "      <td>-0.118357</td>\n",
       "      <td>-0.005819</td>\n",
       "      <td>0.074043</td>\n",
       "      <td>0.517285</td>\n",
       "      <td>-0.033146</td>\n",
       "      <td>-0.034660</td>\n",
       "      <td>-0.008142</td>\n",
       "      <td>0.866262</td>\n",
       "      <td>0.968273</td>\n",
       "      <td>1.000000</td>\n",
       "      <td>-0.018328</td>\n",
       "    </tr>\n",
       "    <tr>\n",
       "      <th>property_type</th>\n",
       "      <td>0.029636</td>\n",
       "      <td>0.210437</td>\n",
       "      <td>0.035347</td>\n",
       "      <td>-0.017695</td>\n",
       "      <td>-0.045765</td>\n",
       "      <td>0.008422</td>\n",
       "      <td>-0.056194</td>\n",
       "      <td>0.150386</td>\n",
       "      <td>-0.012948</td>\n",
       "      <td>-0.029655</td>\n",
       "      <td>-0.000518</td>\n",
       "      <td>-0.012226</td>\n",
       "      <td>-0.018328</td>\n",
       "      <td>1.000000</td>\n",
       "    </tr>\n",
       "  </tbody>\n",
       "</table>\n",
       "</div>"
      ],
      "text/plain": [
       "                                      id  room_type     price  minimum_nights  \\\n",
       "id                              1.000000  -0.063277  0.131972       -0.075821   \n",
       "room_type                      -0.063277   1.000000 -0.408343       -0.204726   \n",
       "price                           0.131972  -0.408343  1.000000       -0.012406   \n",
       "minimum_nights                 -0.075821  -0.204726 -0.012406        1.000000   \n",
       "number_of_reviews              -0.625257   0.046686 -0.253883       -0.181596   \n",
       "calculated_host_listings_count  0.212840  -0.076338  0.423241       -0.072698   \n",
       "availability_365               -0.075663  -0.137654  0.252875        0.028586   \n",
       "accommodates                    0.135851  -0.350487  0.646226        0.036916   \n",
       "amenities                      -0.115123  -0.111135 -0.024646       -0.069038   \n",
       "host_response_rate             -0.015166  -0.024949 -0.037903       -0.080798   \n",
       "availability_30                -0.029791   0.096210  0.064560       -0.141983   \n",
       "availability_60                -0.024523   0.100442  0.018163       -0.145329   \n",
       "availability_90                -0.015895   0.080199  0.008497       -0.118357   \n",
       "property_type                   0.029636   0.210437  0.035347       -0.017695   \n",
       "\n",
       "                                number_of_reviews  \\\n",
       "id                                      -0.625257   \n",
       "room_type                                0.046686   \n",
       "price                                   -0.253883   \n",
       "minimum_nights                          -0.181596   \n",
       "number_of_reviews                        1.000000   \n",
       "calculated_host_listings_count          -0.182345   \n",
       "availability_365                         0.026964   \n",
       "accommodates                            -0.176151   \n",
       "amenities                                0.190475   \n",
       "host_response_rate                       0.111299   \n",
       "availability_30                         -0.011101   \n",
       "availability_60                         -0.001316   \n",
       "availability_90                         -0.005819   \n",
       "property_type                           -0.045765   \n",
       "\n",
       "                                calculated_host_listings_count  \\\n",
       "id                                                    0.212840   \n",
       "room_type                                            -0.076338   \n",
       "price                                                 0.423241   \n",
       "minimum_nights                                       -0.072698   \n",
       "number_of_reviews                                    -0.182345   \n",
       "calculated_host_listings_count                        1.000000   \n",
       "availability_365                                      0.250575   \n",
       "accommodates                                          0.242274   \n",
       "amenities                                            -0.213295   \n",
       "host_response_rate                                   -0.022127   \n",
       "availability_30                                       0.072601   \n",
       "availability_60                                       0.071803   \n",
       "availability_90                                       0.074043   \n",
       "property_type                                         0.008422   \n",
       "\n",
       "                                availability_365  accommodates  amenities  \\\n",
       "id                                     -0.075663      0.135851  -0.115123   \n",
       "room_type                              -0.137654     -0.350487  -0.111135   \n",
       "price                                   0.252875      0.646226  -0.024646   \n",
       "minimum_nights                          0.028586      0.036916  -0.069038   \n",
       "number_of_reviews                       0.026964     -0.176151   0.190475   \n",
       "calculated_host_listings_count          0.250575      0.242274  -0.213295   \n",
       "availability_365                        1.000000      0.166808  -0.051035   \n",
       "accommodates                            0.166808      1.000000   0.066571   \n",
       "amenities                              -0.051035      0.066571   1.000000   \n",
       "host_response_rate                     -0.020361     -0.024401   0.138369   \n",
       "availability_30                         0.421275      0.014239  -0.045539   \n",
       "availability_60                         0.473539     -0.024514  -0.040378   \n",
       "availability_90                         0.517285     -0.033146  -0.034660   \n",
       "property_type                          -0.056194      0.150386  -0.012948   \n",
       "\n",
       "                                host_response_rate  availability_30  \\\n",
       "id                                       -0.015166        -0.029791   \n",
       "room_type                                -0.024949         0.096210   \n",
       "price                                    -0.037903         0.064560   \n",
       "minimum_nights                           -0.080798        -0.141983   \n",
       "number_of_reviews                         0.111299        -0.011101   \n",
       "calculated_host_listings_count           -0.022127         0.072601   \n",
       "availability_365                         -0.020361         0.421275   \n",
       "accommodates                             -0.024401         0.014239   \n",
       "amenities                                 0.138369        -0.045539   \n",
       "host_response_rate                        1.000000        -0.023189   \n",
       "availability_30                          -0.023189         1.000000   \n",
       "availability_60                          -0.015027         0.933364   \n",
       "availability_90                          -0.008142         0.866262   \n",
       "property_type                            -0.029655        -0.000518   \n",
       "\n",
       "                                availability_60  availability_90  \\\n",
       "id                                    -0.024523        -0.015895   \n",
       "room_type                              0.100442         0.080199   \n",
       "price                                  0.018163         0.008497   \n",
       "minimum_nights                        -0.145329        -0.118357   \n",
       "number_of_reviews                     -0.001316        -0.005819   \n",
       "calculated_host_listings_count         0.071803         0.074043   \n",
       "availability_365                       0.473539         0.517285   \n",
       "accommodates                          -0.024514        -0.033146   \n",
       "amenities                             -0.040378        -0.034660   \n",
       "host_response_rate                    -0.015027        -0.008142   \n",
       "availability_30                        0.933364         0.866262   \n",
       "availability_60                        1.000000         0.968273   \n",
       "availability_90                        0.968273         1.000000   \n",
       "property_type                         -0.012226        -0.018328   \n",
       "\n",
       "                                property_type  \n",
       "id                                   0.029636  \n",
       "room_type                            0.210437  \n",
       "price                                0.035347  \n",
       "minimum_nights                      -0.017695  \n",
       "number_of_reviews                   -0.045765  \n",
       "calculated_host_listings_count       0.008422  \n",
       "availability_365                    -0.056194  \n",
       "accommodates                         0.150386  \n",
       "amenities                           -0.012948  \n",
       "host_response_rate                  -0.029655  \n",
       "availability_30                     -0.000518  \n",
       "availability_60                     -0.012226  \n",
       "availability_90                     -0.018328  \n",
       "property_type                        1.000000  "
      ]
     },
     "execution_count": 150,
     "metadata": {},
     "output_type": "execute_result"
    }
   ],
   "source": [
    "import numpy as np\n",
    "from sklearn import preprocessing\n",
    "\n",
    "# Function to label encode categorical variables.\n",
    "# Input: array (array of values)\n",
    "# Output: array (array of encoded values)\n",
    "def encode_categorical(array):\n",
    "    if not array.dtype == np.dtype('float64'):\n",
    "        return preprocessing.LabelEncoder().fit_transform(array) \n",
    "    else:\n",
    "        return array\n",
    "    \n",
    "# Temporary dataframe\n",
    "temp_data = listings.copy()\n",
    "# Delete additional entries with NaN values\n",
    "temp_data = temp_data.dropna(axis=0)\n",
    "\n",
    "# Encode categorical data\n",
    "temp_data = temp_data.apply(encode_categorical)\n",
    "# Compute matrix of correlation coefficients\n",
    "corr_matrix = np.corrcoef(temp_data.T)\n",
    "\n",
    "corr_listings = pd.DataFrame(data = corr_matrix, columns = temp_data.columns, \n",
    "             index = temp_data.columns)\n",
    "\n",
    "corr_listings"
   ]
  },
  {
   "cell_type": "code",
   "execution_count": 151,
   "metadata": {},
   "outputs": [
    {
     "data": {
      "image/png": "[encoded data removed]",
      "text/plain": [
       "<Figure size 504x504 with 2 Axes>"
      ]
     },
     "metadata": {
      "needs_background": "light"
     },
     "output_type": "display_data"
    }
   ],
   "source": [
    "import matplotlib.pyplot as plt\n",
    "\n",
    "# Display heat map \n",
    "plt.figure(figsize=(7, 7))\n",
    "plt.pcolor(corr_matrix, cmap='RdBu')\n",
    "plt.xlabel('Predictor Index')\n",
    "plt.ylabel('Predictor Index')\n",
    "plt.title('Heatmap of Correlation Matrix')\n",
    "plt.colorbar()\n",
    "\n",
    "plt.show()"
   ]
  },
  {
   "cell_type": "code",
   "execution_count": 152,
   "metadata": {},
   "outputs": [
    {
     "name": "stderr",
     "output_type": "stream",
     "text": [
      "C:\\Users\\AKINLOLU\\Anaconda3\\lib\\site-packages\\scipy\\stats\\stats.py:1713: FutureWarning: Using a non-tuple sequence for multidimensional indexing is deprecated; use `arr[tuple(seq)]` instead of `arr[seq]`. In the future this will be interpreted as an array index, `arr[np.array(seq)]`, which will result either in an error or a different result.\n",
      "  return np.add.reduce(sorted[indexer] * weights, axis=axis) / sumval\n"
     ]
    },
    {
     "name": "stdout",
     "output_type": "stream",
     "text": [
      "Before cleaning, dataset has 1009 rows, 14 columns.\n",
      "After cleaning, dataset has 1009 rows, 13 columns.\n"
     ]
    },
    {
     "data": {
      "image/png": "[encoded data removed]",
      "text/plain": [
       "<Figure size 1152x288 with 2 Axes>"
      ]
     },
     "metadata": {
      "needs_background": "light"
     },
     "output_type": "display_data"
    }
   ],
   "source": [
    "#Distribution of availability_365\n",
    "%matplotlib inline\n",
    "\n",
    "fig, axs = plt.subplots(ncols=2, figsize=(16, 4))\n",
    "fig.suptitle('Distribution of availability (before and after removing part-time listings)')\n",
    "\n",
    "# Before cleaning\n",
    "x_axis=listings['availability_365'].dropna()\n",
    "sns.distplot(pd.Series(x_axis, name='Availability (before cleaning)'), ax=axs[0])\n",
    "\n",
    "# Remove where availability less than 60 days or greater than 300 days\n",
    "listings = listings.query('60 <= availability_365 <= 300')\n",
    "print(\"Before cleaning, dataset has {} rows, {} columns.\".format(*listings.shape))\n",
    "\n",
    "#After cleaning\n",
    "x_axis=listings['availability_365'].dropna()\n",
    "sns.distplot(pd.Series(x_axis, name='Availability (after cleaning)'), ax=axs[1])\n",
    "listings = listings.drop('availability_365', axis = 1)\n",
    "print(\"After cleaning, dataset has {} rows, {} columns.\".format(*listings.shape))"
   ]
  },
  {
   "cell_type": "code",
   "execution_count": 153,
   "metadata": {},
   "outputs": [
    {
     "name": "stdout",
     "output_type": "stream",
     "text": [
      "You dropped 35 rows.\n",
      "Dataset has 974 rows, 13 columns.\n"
     ]
    },
    {
     "data": {
      "text/plain": [
       "<matplotlib.axes._subplots.AxesSubplot at 0x89b1ee79e8>"
      ]
     },
     "execution_count": 153,
     "metadata": {},
     "output_type": "execute_result"
    },
    {
     "data": {
      "image/png": "[encoded data removed]",
      "text/plain": [
       "<Figure size 1152x288 with 2 Axes>"
      ]
     },
     "metadata": {
      "needs_background": "light"
     },
     "output_type": "display_data"
    }
   ],
   "source": [
    "#Distribution of price\n",
    "%matplotlib inline\n",
    "\n",
    "fig, axs = plt.subplots(ncols=2, figsize=(16, 4))\n",
    "fig.suptitle('Distribution of max guests (before and after removing large listings > 10)', weight='bold', fontsize=12)\n",
    "\n",
    "# Before cleaning\n",
    "x_axis=listings['accommodates'].dropna()\n",
    "sns.distplot(pd.Series(x_axis, name='Max guests (before cleaning)'), ax=axs[0])\n",
    "\n",
    "# Remove where price > 1000\n",
    "condition = listings[listings['accommodates'] > 10]\n",
    "rows_to_drop = condition.index\n",
    "print(\"You dropped {} rows.\".format(condition.shape[0]))\n",
    "listings = listings.drop(rows_to_drop, axis=0)\n",
    "print(\"Dataset has {} rows, {} columns.\".format(*listings.shape))\n",
    "\n",
    "#After cleaning\n",
    "x_axis=listings['accommodates'].dropna()\n",
    "sns.distplot(pd.Series(x_axis, name='Max guests (after cleaning)'), ax=axs[1])"
   ]
  },
  {
   "cell_type": "code",
   "execution_count": 154,
   "metadata": {},
   "outputs": [
    {
     "name": "stdout",
     "output_type": "stream",
     "text": [
      "You dropped 1 rows.\n",
      "Dataset has 973 rows, 13 columns.\n"
     ]
    },
    {
     "data": {
      "text/plain": [
       "<matplotlib.axes._subplots.AxesSubplot at 0x89af2e5208>"
      ]
     },
     "execution_count": 154,
     "metadata": {},
     "output_type": "execute_result"
    },
    {
     "data": {
      "image/png": "[encoded data removed]",
      "text/plain": [
       "<Figure size 1152x288 with 2 Axes>"
      ]
     },
     "metadata": {
      "needs_background": "light"
     },
     "output_type": "display_data"
    }
   ],
   "source": [
    "#Distribution of price\n",
    "%matplotlib inline\n",
    "\n",
    "fig, axs = plt.subplots(ncols=2, figsize=(16, 4))\n",
    "fig.suptitle('Distribution of price (before and after removing high-priced outliers)')\n",
    "\n",
    "# Before cleaning\n",
    "x_axis=listings['price'].dropna()\n",
    "sns.distplot(pd.Series(x_axis, name='Price (before cleaning)'), ax=axs[0])\n",
    "\n",
    "# Remove where price > 1000\n",
    "condition = listings[listings['price'] > 1000]\n",
    "rows_to_drop = condition.index\n",
    "print(\"You dropped {} rows.\".format(condition.shape[0]))\n",
    "listings = listings.drop(rows_to_drop, axis=0)\n",
    "print(\"Dataset has {} rows, {} columns.\".format(*listings.shape))\n",
    "\n",
    "#After cleaning\n",
    "x_axis=listings['price'].dropna()\n",
    "sns.distplot(pd.Series(x_axis, name='Price  (after cleaning)'), ax=axs[1])"
   ]
  },
  {
   "cell_type": "code",
   "execution_count": 155,
   "metadata": {},
   "outputs": [
    {
     "data": {
      "text/plain": [
       "House                389\n",
       "Apartment            184\n",
       "Guest suite          171\n",
       "Bungalow              54\n",
       "Guesthouse            44\n",
       "Cottage               33\n",
       "Cabin                 23\n",
       "Condominium           22\n",
       "Loft                  15\n",
       "Townhouse             13\n",
       "Campsite               5\n",
       "Tiny house             5\n",
       "Farm stay              4\n",
       "Chalet                 3\n",
       "Camper/RV              2\n",
       "Bed and breakfast      2\n",
       "Other                  1\n",
       "Tent                   1\n",
       "Yurt                   1\n",
       "Treehouse              1\n",
       "Name: property_type, dtype: int64"
      ]
     },
     "execution_count": 155,
     "metadata": {},
     "output_type": "execute_result"
    }
   ],
   "source": [
    "listings['property_type'].value_counts()"
   ]
  },
  {
   "cell_type": "code",
   "execution_count": 156,
   "metadata": {},
   "outputs": [
    {
     "name": "stderr",
     "output_type": "stream",
     "text": [
      "C:\\Users\\AKINLOLU\\Anaconda3\\lib\\site-packages\\pandas\\core\\indexing.py:189: SettingWithCopyWarning: \n",
      "A value is trying to be set on a copy of a slice from a DataFrame\n",
      "\n",
      "See the caveats in the documentation: http://pandas.pydata.org/pandas-docs/stable/indexing.html#indexing-view-versus-copy\n",
      "  self._setitem_with_indexer(indexer, value)\n"
     ]
    }
   ],
   "source": [
    "categories_to_rename = ['Loft','Guesthouse','Guest suite','Bungalow','Cottage',\n",
    "                        'Cabin','Farm stay','Campsite','Loft','Condominium','Chalet','Tiny house',\n",
    "                        'Tent','Yurt','Chalet','Camper/RV','Treehouse', 'Townhouse', 'Other']\n",
    "listings['property_type'].loc[listings['property_type'].isin(categories_to_rename)] = 'Other'"
   ]
  },
  {
   "cell_type": "code",
   "execution_count": 157,
   "metadata": {},
   "outputs": [
    {
     "data": {
      "text/plain": [
       "<matplotlib.axes._subplots.AxesSubplot at 0x89b1e5aeb8>"
      ]
     },
     "execution_count": 157,
     "metadata": {},
     "output_type": "execute_result"
    },
    {
     "data": {
      "image/png": "[encoded data removed]",
      "text/plain": [
       "<Figure size 1152x288 with 2 Axes>"
      ]
     },
     "metadata": {
      "needs_background": "light"
     },
     "output_type": "display_data"
    }
   ],
   "source": [
    "#Distribution of yield, availability_365, reviews_per_month\n",
    "%matplotlib inline\n",
    "\n",
    "fig, axs = plt.subplots(ncols=2, figsize=(16, 4))\n",
    "fig.suptitle('Distribution of variables for calculation of yield')\n",
    "x_axis=listings['price'].dropna()\n",
    "sns.distplot(pd.Series(x_axis, name=x_axis.name), ax=axs[0])\n",
    "x_axis=listings['number_of_reviews'].dropna()\n",
    "sns.distplot(pd.Series(x_axis, name=x_axis.name), ax=axs[1])"
   ]
  },
  {
   "cell_type": "code",
   "execution_count": 158,
   "metadata": {},
   "outputs": [
    {
     "name": "stdout",
     "output_type": "stream",
     "text": [
      "Dataset has 973 rows, 14 columns.\n"
     ]
    }
   ],
   "source": [
    "# Calculate yield\n",
    "\n",
    "# Average length of stay (by city) X Price ('price') X No. of reviews('reviews_per_month') / Review rate('50%')\n",
    "avg_length_of_stay_Asheville = 3\n",
    "review_rate = 0.5\n",
    "listings['yield'] = avg_length_of_stay_Asheville * listings['price'] * (listings['number_of_reviews'] / review_rate) * 12\n",
    "print(\"Dataset has {} rows, {} columns.\".format(*listings.shape))"
   ]
  },
  {
   "cell_type": "code",
   "execution_count": 159,
   "metadata": {},
   "outputs": [
    {
     "data": {
      "image/png": "[encoded data removed]",
      "text/plain": [
       "<Figure size 1080x432 with 1 Axes>"
      ]
     },
     "metadata": {
      "needs_background": "light"
     },
     "output_type": "display_data"
    }
   ],
   "source": [
    "%matplotlib inline\n",
    "fig, ax = plt.subplots(figsize=(15,6))\n",
    "fig.suptitle('Distribution of Yield')\n",
    "x_axes = listings['yield'].dropna()\n",
    "x = pd.Series(x_axis, name=x_axis.name)\n",
    "ax = sns.distplot(x)"
   ]
  },
  {
   "cell_type": "code",
   "execution_count": 160,
   "metadata": {},
   "outputs": [],
   "source": [
    "from sklearn.base import TransformerMixin\n",
    "\n",
    "class DataFrameImputer(TransformerMixin):\n",
    "\n",
    "    def __init__(self):\n",
    "        \"\"\"Impute missing values.\n",
    "\n",
    "        Columns of dtype object are imputed with the most frequent value \n",
    "        in column.\n",
    "\n",
    "        Columns of other types are imputed with mean of column.\n",
    "\n",
    "        \"\"\"\n",
    "    def fit(self, X, y=None):\n",
    "\n",
    "        self.fill = pd.Series([X[c].value_counts().index[0]\n",
    "            if X[c].dtype == np.dtype('O') else X[c].mean() for c in X],\n",
    "            index=X.columns)\n",
    "\n",
    "        return self\n",
    "\n",
    "    def transform(self, X, y=None):\n",
    "        return X.fillna(self.fill)"
   ]
  },
  {
   "cell_type": "code",
   "execution_count": 161,
   "metadata": {},
   "outputs": [],
   "source": [
    "def replace_missing_value(listings, number_features):\n",
    "\n",
    "    imputer = Imputer(strategy=\"median\")\n",
    "    listings_num = listtings[number_features]\n",
    "    imputer.fit(listings_num)\n",
    "    X = imputer.transform(listings_num)\n",
    "    res_def = pd.DataFrame(X, columns=listings_num.columns)\n",
    "    return res_def"
   ]
  },
  {
   "cell_type": "code",
   "execution_count": 162,
   "metadata": {},
   "outputs": [
    {
     "data": {
      "text/plain": [
       "(973, 14)"
      ]
     },
     "execution_count": 162,
     "metadata": {},
     "output_type": "execute_result"
    }
   ],
   "source": [
    "listings.shape"
   ]
  },
  {
   "cell_type": "code",
   "execution_count": 163,
   "metadata": {},
   "outputs": [
    {
     "data": {
      "text/plain": [
       "(973, 14)"
      ]
     },
     "execution_count": 163,
     "metadata": {},
     "output_type": "execute_result"
    }
   ],
   "source": [
    "# Remove missing yield values\n",
    "listings = listings.dropna(subset=['yield'])\n",
    "listings.shape"
   ]
  },
  {
   "cell_type": "code",
   "execution_count": 164,
   "metadata": {},
   "outputs": [],
   "source": [
    "listings= listings.dropna(axis=0, how='any')"
   ]
  },
  {
   "cell_type": "code",
   "execution_count": 165,
   "metadata": {},
   "outputs": [
    {
     "data": {
      "text/plain": [
       "(925, 14)"
      ]
     },
     "execution_count": 165,
     "metadata": {},
     "output_type": "execute_result"
    }
   ],
   "source": [
    "listings.shape"
   ]
  },
  {
   "cell_type": "code",
   "execution_count": 166,
   "metadata": {},
   "outputs": [],
   "source": [
    "from sklearn.utils import shuffle\n",
    "listings = shuffle(listings)"
   ]
  },
  {
   "cell_type": "code",
   "execution_count": 167,
   "metadata": {},
   "outputs": [
    {
     "data": {
      "text/html": [
       "<div>\n",
       "<style scoped>\n",
       "    .dataframe tbody tr th:only-of-type {\n",
       "        vertical-align: middle;\n",
       "    }\n",
       "\n",
       "    .dataframe tbody tr th {\n",
       "        vertical-align: top;\n",
       "    }\n",
       "\n",
       "    .dataframe thead th {\n",
       "        text-align: right;\n",
       "    }\n",
       "</style>\n",
       "<table border=\"1\" class=\"dataframe\">\n",
       "  <thead>\n",
       "    <tr style=\"text-align: right;\">\n",
       "      <th></th>\n",
       "      <th>id</th>\n",
       "      <th>room_type</th>\n",
       "      <th>price</th>\n",
       "      <th>minimum_nights</th>\n",
       "      <th>number_of_reviews</th>\n",
       "      <th>calculated_host_listings_count</th>\n",
       "      <th>accommodates</th>\n",
       "      <th>amenities</th>\n",
       "      <th>host_response_rate</th>\n",
       "      <th>availability_30</th>\n",
       "    </tr>\n",
       "  </thead>\n",
       "  <tbody>\n",
       "    <tr>\n",
       "      <th>1952</th>\n",
       "      <td>31194218</td>\n",
       "      <td>Entire home/apt</td>\n",
       "      <td>150</td>\n",
       "      <td>2</td>\n",
       "      <td>2</td>\n",
       "      <td>5</td>\n",
       "      <td>4</td>\n",
       "      <td>12</td>\n",
       "      <td>100.0</td>\n",
       "      <td>9</td>\n",
       "    </tr>\n",
       "    <tr>\n",
       "      <th>1189</th>\n",
       "      <td>21231387</td>\n",
       "      <td>Private room</td>\n",
       "      <td>49</td>\n",
       "      <td>1</td>\n",
       "      <td>55</td>\n",
       "      <td>9</td>\n",
       "      <td>2</td>\n",
       "      <td>38</td>\n",
       "      <td>100.0</td>\n",
       "      <td>22</td>\n",
       "    </tr>\n",
       "    <tr>\n",
       "      <th>752</th>\n",
       "      <td>16186167</td>\n",
       "      <td>Private room</td>\n",
       "      <td>40</td>\n",
       "      <td>1</td>\n",
       "      <td>77</td>\n",
       "      <td>2</td>\n",
       "      <td>2</td>\n",
       "      <td>10</td>\n",
       "      <td>100.0</td>\n",
       "      <td>18</td>\n",
       "    </tr>\n",
       "    <tr>\n",
       "      <th>1521</th>\n",
       "      <td>24942698</td>\n",
       "      <td>Entire home/apt</td>\n",
       "      <td>155</td>\n",
       "      <td>3</td>\n",
       "      <td>27</td>\n",
       "      <td>1</td>\n",
       "      <td>6</td>\n",
       "      <td>24</td>\n",
       "      <td>100.0</td>\n",
       "      <td>25</td>\n",
       "    </tr>\n",
       "    <tr>\n",
       "      <th>803</th>\n",
       "      <td>16937997</td>\n",
       "      <td>Entire home/apt</td>\n",
       "      <td>450</td>\n",
       "      <td>1</td>\n",
       "      <td>43</td>\n",
       "      <td>22</td>\n",
       "      <td>6</td>\n",
       "      <td>21</td>\n",
       "      <td>100.0</td>\n",
       "      <td>20</td>\n",
       "    </tr>\n",
       "    <tr>\n",
       "      <th>755</th>\n",
       "      <td>16267469</td>\n",
       "      <td>Entire home/apt</td>\n",
       "      <td>54</td>\n",
       "      <td>30</td>\n",
       "      <td>22</td>\n",
       "      <td>3</td>\n",
       "      <td>2</td>\n",
       "      <td>18</td>\n",
       "      <td>100.0</td>\n",
       "      <td>0</td>\n",
       "    </tr>\n",
       "  </tbody>\n",
       "</table>\n",
       "</div>"
      ],
      "text/plain": [
       "            id        room_type  price  minimum_nights  number_of_reviews  \\\n",
       "1952  31194218  Entire home/apt    150               2                  2   \n",
       "1189  21231387     Private room     49               1                 55   \n",
       "752   16186167     Private room     40               1                 77   \n",
       "1521  24942698  Entire home/apt    155               3                 27   \n",
       "803   16937997  Entire home/apt    450               1                 43   \n",
       "755   16267469  Entire home/apt     54              30                 22   \n",
       "\n",
       "      calculated_host_listings_count  accommodates  amenities  \\\n",
       "1952                               5             4         12   \n",
       "1189                               9             2         38   \n",
       "752                                2             2         10   \n",
       "1521                               1             6         24   \n",
       "803                               22             6         21   \n",
       "755                                3             2         18   \n",
       "\n",
       "      host_response_rate  availability_30  \n",
       "1952               100.0                9  \n",
       "1189               100.0               22  \n",
       "752                100.0               18  \n",
       "1521               100.0               25  \n",
       "803                100.0               20  \n",
       "755                100.0                0  "
      ]
     },
     "execution_count": 167,
     "metadata": {},
     "output_type": "execute_result"
    }
   ],
   "source": [
    "listings.iloc[0:6, 0:10]"
   ]
  },
  {
   "cell_type": "code",
   "execution_count": 168,
   "metadata": {},
   "outputs": [
    {
     "data": {
      "text/html": [
       "<div>\n",
       "<style scoped>\n",
       "    .dataframe tbody tr th:only-of-type {\n",
       "        vertical-align: middle;\n",
       "    }\n",
       "\n",
       "    .dataframe tbody tr th {\n",
       "        vertical-align: top;\n",
       "    }\n",
       "\n",
       "    .dataframe thead th {\n",
       "        text-align: right;\n",
       "    }\n",
       "</style>\n",
       "<table border=\"1\" class=\"dataframe\">\n",
       "  <thead>\n",
       "    <tr style=\"text-align: right;\">\n",
       "      <th></th>\n",
       "      <th>availability_90</th>\n",
       "      <th>property_type</th>\n",
       "      <th>yield</th>\n",
       "    </tr>\n",
       "  </thead>\n",
       "  <tbody>\n",
       "    <tr>\n",
       "      <th>1952</th>\n",
       "      <td>69</td>\n",
       "      <td>Apartment</td>\n",
       "      <td>21600.0</td>\n",
       "    </tr>\n",
       "    <tr>\n",
       "      <th>1189</th>\n",
       "      <td>82</td>\n",
       "      <td>House</td>\n",
       "      <td>194040.0</td>\n",
       "    </tr>\n",
       "    <tr>\n",
       "      <th>752</th>\n",
       "      <td>78</td>\n",
       "      <td>House</td>\n",
       "      <td>221760.0</td>\n",
       "    </tr>\n",
       "    <tr>\n",
       "      <th>1521</th>\n",
       "      <td>70</td>\n",
       "      <td>House</td>\n",
       "      <td>301320.0</td>\n",
       "    </tr>\n",
       "    <tr>\n",
       "      <th>803</th>\n",
       "      <td>47</td>\n",
       "      <td>Other</td>\n",
       "      <td>1393200.0</td>\n",
       "    </tr>\n",
       "    <tr>\n",
       "      <th>755</th>\n",
       "      <td>34</td>\n",
       "      <td>House</td>\n",
       "      <td>85536.0</td>\n",
       "    </tr>\n",
       "  </tbody>\n",
       "</table>\n",
       "</div>"
      ],
      "text/plain": [
       "      availability_90 property_type      yield\n",
       "1952               69     Apartment    21600.0\n",
       "1189               82         House   194040.0\n",
       "752                78         House   221760.0\n",
       "1521               70         House   301320.0\n",
       "803                47         Other  1393200.0\n",
       "755                34         House    85536.0"
      ]
     },
     "execution_count": 168,
     "metadata": {},
     "output_type": "execute_result"
    }
   ],
   "source": [
    "listings.iloc[0:6, 11:22]"
   ]
  },
  {
   "cell_type": "code",
   "execution_count": 169,
   "metadata": {},
   "outputs": [
    {
     "name": "stdout",
     "output_type": "stream",
     "text": [
      "(925, 19)\n"
     ]
    }
   ],
   "source": [
    "# One Hot Encoding for categorical variables\n",
    "listings = pd.get_dummies(listings)\n",
    "print(listings.shape)"
   ]
  },
  {
   "cell_type": "code",
   "execution_count": 170,
   "metadata": {},
   "outputs": [
    {
     "data": {
      "text/html": [
       "<div>\n",
       "<style scoped>\n",
       "    .dataframe tbody tr th:only-of-type {\n",
       "        vertical-align: middle;\n",
       "    }\n",
       "\n",
       "    .dataframe tbody tr th {\n",
       "        vertical-align: top;\n",
       "    }\n",
       "\n",
       "    .dataframe thead th {\n",
       "        text-align: right;\n",
       "    }\n",
       "</style>\n",
       "<table border=\"1\" class=\"dataframe\">\n",
       "  <thead>\n",
       "    <tr style=\"text-align: right;\">\n",
       "      <th></th>\n",
       "      <th>id</th>\n",
       "      <th>price</th>\n",
       "      <th>minimum_nights</th>\n",
       "      <th>number_of_reviews</th>\n",
       "      <th>calculated_host_listings_count</th>\n",
       "      <th>accommodates</th>\n",
       "      <th>amenities</th>\n",
       "      <th>host_response_rate</th>\n",
       "      <th>availability_30</th>\n",
       "      <th>availability_60</th>\n",
       "      <th>availability_90</th>\n",
       "      <th>yield</th>\n",
       "      <th>room_type_Entire home/apt</th>\n",
       "      <th>room_type_Private room</th>\n",
       "      <th>room_type_Shared room</th>\n",
       "      <th>property_type_Apartment</th>\n",
       "      <th>property_type_Bed and breakfast</th>\n",
       "      <th>property_type_House</th>\n",
       "      <th>property_type_Other</th>\n",
       "    </tr>\n",
       "  </thead>\n",
       "  <tbody>\n",
       "    <tr>\n",
       "      <th>1952</th>\n",
       "      <td>31194218</td>\n",
       "      <td>150</td>\n",
       "      <td>2</td>\n",
       "      <td>2</td>\n",
       "      <td>5</td>\n",
       "      <td>4</td>\n",
       "      <td>12</td>\n",
       "      <td>100.0</td>\n",
       "      <td>9</td>\n",
       "      <td>39</td>\n",
       "      <td>69</td>\n",
       "      <td>21600.0</td>\n",
       "      <td>1</td>\n",
       "      <td>0</td>\n",
       "      <td>0</td>\n",
       "      <td>1</td>\n",
       "      <td>0</td>\n",
       "      <td>0</td>\n",
       "      <td>0</td>\n",
       "    </tr>\n",
       "    <tr>\n",
       "      <th>1189</th>\n",
       "      <td>21231387</td>\n",
       "      <td>49</td>\n",
       "      <td>1</td>\n",
       "      <td>55</td>\n",
       "      <td>9</td>\n",
       "      <td>2</td>\n",
       "      <td>38</td>\n",
       "      <td>100.0</td>\n",
       "      <td>22</td>\n",
       "      <td>52</td>\n",
       "      <td>82</td>\n",
       "      <td>194040.0</td>\n",
       "      <td>0</td>\n",
       "      <td>1</td>\n",
       "      <td>0</td>\n",
       "      <td>0</td>\n",
       "      <td>0</td>\n",
       "      <td>1</td>\n",
       "      <td>0</td>\n",
       "    </tr>\n",
       "    <tr>\n",
       "      <th>752</th>\n",
       "      <td>16186167</td>\n",
       "      <td>40</td>\n",
       "      <td>1</td>\n",
       "      <td>77</td>\n",
       "      <td>2</td>\n",
       "      <td>2</td>\n",
       "      <td>10</td>\n",
       "      <td>100.0</td>\n",
       "      <td>18</td>\n",
       "      <td>48</td>\n",
       "      <td>78</td>\n",
       "      <td>221760.0</td>\n",
       "      <td>0</td>\n",
       "      <td>1</td>\n",
       "      <td>0</td>\n",
       "      <td>0</td>\n",
       "      <td>0</td>\n",
       "      <td>1</td>\n",
       "      <td>0</td>\n",
       "    </tr>\n",
       "    <tr>\n",
       "      <th>1521</th>\n",
       "      <td>24942698</td>\n",
       "      <td>155</td>\n",
       "      <td>3</td>\n",
       "      <td>27</td>\n",
       "      <td>1</td>\n",
       "      <td>6</td>\n",
       "      <td>24</td>\n",
       "      <td>100.0</td>\n",
       "      <td>25</td>\n",
       "      <td>43</td>\n",
       "      <td>70</td>\n",
       "      <td>301320.0</td>\n",
       "      <td>1</td>\n",
       "      <td>0</td>\n",
       "      <td>0</td>\n",
       "      <td>0</td>\n",
       "      <td>0</td>\n",
       "      <td>1</td>\n",
       "      <td>0</td>\n",
       "    </tr>\n",
       "    <tr>\n",
       "      <th>803</th>\n",
       "      <td>16937997</td>\n",
       "      <td>450</td>\n",
       "      <td>1</td>\n",
       "      <td>43</td>\n",
       "      <td>22</td>\n",
       "      <td>6</td>\n",
       "      <td>21</td>\n",
       "      <td>100.0</td>\n",
       "      <td>20</td>\n",
       "      <td>33</td>\n",
       "      <td>47</td>\n",
       "      <td>1393200.0</td>\n",
       "      <td>1</td>\n",
       "      <td>0</td>\n",
       "      <td>0</td>\n",
       "      <td>0</td>\n",
       "      <td>0</td>\n",
       "      <td>0</td>\n",
       "      <td>1</td>\n",
       "    </tr>\n",
       "  </tbody>\n",
       "</table>\n",
       "</div>"
      ],
      "text/plain": [
       "            id  price  minimum_nights  number_of_reviews  \\\n",
       "1952  31194218    150               2                  2   \n",
       "1189  21231387     49               1                 55   \n",
       "752   16186167     40               1                 77   \n",
       "1521  24942698    155               3                 27   \n",
       "803   16937997    450               1                 43   \n",
       "\n",
       "      calculated_host_listings_count  accommodates  amenities  \\\n",
       "1952                               5             4         12   \n",
       "1189                               9             2         38   \n",
       "752                                2             2         10   \n",
       "1521                               1             6         24   \n",
       "803                               22             6         21   \n",
       "\n",
       "      host_response_rate  availability_30  availability_60  availability_90  \\\n",
       "1952               100.0                9               39               69   \n",
       "1189               100.0               22               52               82   \n",
       "752                100.0               18               48               78   \n",
       "1521               100.0               25               43               70   \n",
       "803                100.0               20               33               47   \n",
       "\n",
       "          yield  room_type_Entire home/apt  room_type_Private room  \\\n",
       "1952    21600.0                          1                       0   \n",
       "1189   194040.0                          0                       1   \n",
       "752    221760.0                          0                       1   \n",
       "1521   301320.0                          1                       0   \n",
       "803   1393200.0                          1                       0   \n",
       "\n",
       "      room_type_Shared room  property_type_Apartment  \\\n",
       "1952                      0                        1   \n",
       "1189                      0                        0   \n",
       "752                       0                        0   \n",
       "1521                      0                        0   \n",
       "803                       0                        0   \n",
       "\n",
       "      property_type_Bed and breakfast  property_type_House  \\\n",
       "1952                                0                    0   \n",
       "1189                                0                    1   \n",
       "752                                 0                    1   \n",
       "1521                                0                    1   \n",
       "803                                 0                    0   \n",
       "\n",
       "      property_type_Other  \n",
       "1952                    0  \n",
       "1189                    0  \n",
       "752                     0  \n",
       "1521                    0  \n",
       "803                     1  "
      ]
     },
     "execution_count": 170,
     "metadata": {},
     "output_type": "execute_result"
    }
   ],
   "source": [
    "listings.head()"
   ]
  },
  {
   "cell_type": "code",
   "execution_count": 171,
   "metadata": {},
   "outputs": [],
   "source": [
    "# Extract features and labels\n",
    "y = listings['number_of_reviews']\n",
    "X = listings.drop('number_of_reviews', axis = 1)"
   ]
  },
  {
   "cell_type": "code",
   "execution_count": 172,
   "metadata": {},
   "outputs": [
    {
     "name": "stderr",
     "output_type": "stream",
     "text": [
      "C:\\Users\\AKINLOLU\\Anaconda3\\lib\\site-packages\\sklearn\\preprocessing\\data.py:625: DataConversionWarning: Data with input dtype uint8, int64, float64 were all converted to float64 by StandardScaler.\n",
      "  return self.partial_fit(X, y)\n",
      "C:\\Users\\AKINLOLU\\Anaconda3\\lib\\site-packages\\sklearn\\base.py:462: DataConversionWarning: Data with input dtype uint8, int64, float64 were all converted to float64 by StandardScaler.\n",
      "  return self.fit(X, **fit_params).transform(X)\n"
     ]
    }
   ],
   "source": [
    "from sklearn.preprocessing import StandardScaler\n",
    "mms = StandardScaler()\n",
    "X = pd.DataFrame(mms.fit_transform(X))"
   ]
  },
  {
   "cell_type": "code",
   "execution_count": 173,
   "metadata": {},
   "outputs": [
    {
     "data": {
      "text/plain": [
       "1952     2\n",
       "1189    55\n",
       "752     77\n",
       "1521    27\n",
       "803     43\n",
       "Name: number_of_reviews, dtype: int64"
      ]
     },
     "execution_count": 173,
     "metadata": {},
     "output_type": "execute_result"
    }
   ],
   "source": [
    "y.head()"
   ]
  },
  {
   "cell_type": "code",
   "execution_count": 174,
   "metadata": {},
   "outputs": [
    {
     "data": {
      "text/html": [
       "<div>\n",
       "<style scoped>\n",
       "    .dataframe tbody tr th:only-of-type {\n",
       "        vertical-align: middle;\n",
       "    }\n",
       "\n",
       "    .dataframe tbody tr th {\n",
       "        vertical-align: top;\n",
       "    }\n",
       "\n",
       "    .dataframe thead th {\n",
       "        text-align: right;\n",
       "    }\n",
       "</style>\n",
       "<table border=\"1\" class=\"dataframe\">\n",
       "  <thead>\n",
       "    <tr style=\"text-align: right;\">\n",
       "      <th></th>\n",
       "      <th>0</th>\n",
       "      <th>1</th>\n",
       "      <th>2</th>\n",
       "      <th>3</th>\n",
       "      <th>4</th>\n",
       "      <th>5</th>\n",
       "      <th>6</th>\n",
       "      <th>7</th>\n",
       "      <th>8</th>\n",
       "      <th>9</th>\n",
       "      <th>10</th>\n",
       "      <th>11</th>\n",
       "      <th>12</th>\n",
       "      <th>13</th>\n",
       "      <th>14</th>\n",
       "      <th>15</th>\n",
       "      <th>16</th>\n",
       "      <th>17</th>\n",
       "    </tr>\n",
       "  </thead>\n",
       "  <tbody>\n",
       "    <tr>\n",
       "      <th>0</th>\n",
       "      <td>1.460425</td>\n",
       "      <td>0.287125</td>\n",
       "      <td>-0.251573</td>\n",
       "      <td>1.043031</td>\n",
       "      <td>0.158042</td>\n",
       "      <td>-1.413006</td>\n",
       "      <td>0.143426</td>\n",
       "      <td>-0.875327</td>\n",
       "      <td>0.103963</td>\n",
       "      <td>0.402328</td>\n",
       "      <td>-0.825091</td>\n",
       "      <td>0.583592</td>\n",
       "      <td>-0.581928</td>\n",
       "      <td>-0.032898</td>\n",
       "      <td>2.048568</td>\n",
       "      <td>-0.032898</td>\n",
       "      <td>-0.798228</td>\n",
       "      <td>-0.846251</td>\n",
       "    </tr>\n",
       "    <tr>\n",
       "      <th>1</th>\n",
       "      <td>0.247683</td>\n",
       "      <td>-0.768381</td>\n",
       "      <td>-0.381213</td>\n",
       "      <td>2.458737</td>\n",
       "      <td>-0.882448</td>\n",
       "      <td>0.408737</td>\n",
       "      <td>0.143426</td>\n",
       "      <td>0.529050</td>\n",
       "      <td>0.856615</td>\n",
       "      <td>0.942223</td>\n",
       "      <td>-0.536110</td>\n",
       "      <td>-1.713526</td>\n",
       "      <td>1.718427</td>\n",
       "      <td>-0.032898</td>\n",
       "      <td>-0.488146</td>\n",
       "      <td>-0.032898</td>\n",
       "      <td>1.252775</td>\n",
       "      <td>-0.846251</td>\n",
       "    </tr>\n",
       "    <tr>\n",
       "      <th>2</th>\n",
       "      <td>-0.366455</td>\n",
       "      <td>-0.862436</td>\n",
       "      <td>-0.381213</td>\n",
       "      <td>-0.018749</td>\n",
       "      <td>-0.882448</td>\n",
       "      <td>-1.553140</td>\n",
       "      <td>0.143426</td>\n",
       "      <td>0.096934</td>\n",
       "      <td>0.625029</td>\n",
       "      <td>0.776102</td>\n",
       "      <td>-0.489656</td>\n",
       "      <td>-1.713526</td>\n",
       "      <td>1.718427</td>\n",
       "      <td>-0.032898</td>\n",
       "      <td>-0.488146</td>\n",
       "      <td>-0.032898</td>\n",
       "      <td>1.252775</td>\n",
       "      <td>-0.846251</td>\n",
       "    </tr>\n",
       "    <tr>\n",
       "      <th>3</th>\n",
       "      <td>0.699449</td>\n",
       "      <td>0.339378</td>\n",
       "      <td>-0.121932</td>\n",
       "      <td>-0.372675</td>\n",
       "      <td>1.198532</td>\n",
       "      <td>-0.572202</td>\n",
       "      <td>0.143426</td>\n",
       "      <td>0.853137</td>\n",
       "      <td>0.335548</td>\n",
       "      <td>0.443859</td>\n",
       "      <td>-0.356327</td>\n",
       "      <td>0.583592</td>\n",
       "      <td>-0.581928</td>\n",
       "      <td>-0.032898</td>\n",
       "      <td>-0.488146</td>\n",
       "      <td>-0.032898</td>\n",
       "      <td>1.252775</td>\n",
       "      <td>-0.846251</td>\n",
       "    </tr>\n",
       "    <tr>\n",
       "      <th>4</th>\n",
       "      <td>-0.274937</td>\n",
       "      <td>3.422291</td>\n",
       "      <td>-0.381213</td>\n",
       "      <td>7.059782</td>\n",
       "      <td>1.198532</td>\n",
       "      <td>-0.782403</td>\n",
       "      <td>0.143426</td>\n",
       "      <td>0.312992</td>\n",
       "      <td>-0.243415</td>\n",
       "      <td>-0.511340</td>\n",
       "      <td>1.473482</td>\n",
       "      <td>0.583592</td>\n",
       "      <td>-0.581928</td>\n",
       "      <td>-0.032898</td>\n",
       "      <td>-0.488146</td>\n",
       "      <td>-0.032898</td>\n",
       "      <td>-0.798228</td>\n",
       "      <td>1.181682</td>\n",
       "    </tr>\n",
       "  </tbody>\n",
       "</table>\n",
       "</div>"
      ],
      "text/plain": [
       "         0         1         2         3         4         5         6   \\\n",
       "0  1.460425  0.287125 -0.251573  1.043031  0.158042 -1.413006  0.143426   \n",
       "1  0.247683 -0.768381 -0.381213  2.458737 -0.882448  0.408737  0.143426   \n",
       "2 -0.366455 -0.862436 -0.381213 -0.018749 -0.882448 -1.553140  0.143426   \n",
       "3  0.699449  0.339378 -0.121932 -0.372675  1.198532 -0.572202  0.143426   \n",
       "4 -0.274937  3.422291 -0.381213  7.059782  1.198532 -0.782403  0.143426   \n",
       "\n",
       "         7         8         9         10        11        12        13  \\\n",
       "0 -0.875327  0.103963  0.402328 -0.825091  0.583592 -0.581928 -0.032898   \n",
       "1  0.529050  0.856615  0.942223 -0.536110 -1.713526  1.718427 -0.032898   \n",
       "2  0.096934  0.625029  0.776102 -0.489656 -1.713526  1.718427 -0.032898   \n",
       "3  0.853137  0.335548  0.443859 -0.356327  0.583592 -0.581928 -0.032898   \n",
       "4  0.312992 -0.243415 -0.511340  1.473482  0.583592 -0.581928 -0.032898   \n",
       "\n",
       "         14        15        16        17  \n",
       "0  2.048568 -0.032898 -0.798228 -0.846251  \n",
       "1 -0.488146 -0.032898  1.252775 -0.846251  \n",
       "2 -0.488146 -0.032898  1.252775 -0.846251  \n",
       "3 -0.488146 -0.032898  1.252775 -0.846251  \n",
       "4 -0.488146 -0.032898 -0.798228  1.181682  "
      ]
     },
     "execution_count": 174,
     "metadata": {},
     "output_type": "execute_result"
    }
   ],
   "source": [
    "X.head()"
   ]
  },
  {
   "cell_type": "code",
   "execution_count": 175,
   "metadata": {},
   "outputs": [],
   "source": [
    "y_cl = y"
   ]
  },
  {
   "cell_type": "code",
   "execution_count": 176,
   "metadata": {},
   "outputs": [
    {
     "name": "stderr",
     "output_type": "stream",
     "text": [
      "C:\\Users\\AKINLOLU\\Anaconda3\\lib\\site-packages\\ipykernel_launcher.py:1: SettingWithCopyWarning: \n",
      "A value is trying to be set on a copy of a slice from a DataFrame\n",
      "\n",
      "See the caveats in the documentation: http://pandas.pydata.org/pandas-docs/stable/indexing.html#indexing-view-versus-copy\n",
      "  \"\"\"Entry point for launching an IPython kernel.\n",
      "C:\\Users\\AKINLOLU\\Anaconda3\\lib\\site-packages\\ipykernel_launcher.py:2: SettingWithCopyWarning: \n",
      "A value is trying to be set on a copy of a slice from a DataFrame\n",
      "\n",
      "See the caveats in the documentation: http://pandas.pydata.org/pandas-docs/stable/indexing.html#indexing-view-versus-copy\n",
      "  \n"
     ]
    },
    {
     "data": {
      "text/plain": [
       "1952    1\n",
       "1189    1\n",
       "752     1\n",
       "1521    1\n",
       "803     1\n",
       "Name: number_of_reviews, dtype: int64"
      ]
     },
     "execution_count": 176,
     "metadata": {},
     "output_type": "execute_result"
    }
   ],
   "source": [
    "y_cl[y_cl < 0] = 0\n",
    "y_cl[y_cl > 0] = 1\n",
    "y_cl.head()"
   ]
  },
  {
   "cell_type": "code",
   "execution_count": 177,
   "metadata": {},
   "outputs": [],
   "source": [
    "# Training and Testing Sets\n",
    "from sklearn.model_selection import train_test_split\n",
    "train_X, test_X, train_y_cl, test_y_cl = train_test_split(X, y, random_state = 0)"
   ]
  },
  {
   "cell_type": "code",
   "execution_count": 178,
   "metadata": {},
   "outputs": [
    {
     "data": {
      "text/plain": [
       "((693, 18), (232, 18))"
      ]
     },
     "execution_count": 178,
     "metadata": {},
     "output_type": "execute_result"
    }
   ],
   "source": [
    "train_X.shape, test_X.shape"
   ]
  },
  {
   "cell_type": "code",
   "execution_count": 179,
   "metadata": {},
   "outputs": [
    {
     "name": "stderr",
     "output_type": "stream",
     "text": [
      "C:\\Users\\AKINLOLU\\Anaconda3\\lib\\site-packages\\sklearn\\linear_model\\logistic.py:433: FutureWarning: Default solver will be changed to 'lbfgs' in 0.22. Specify a solver to silence this warning.\n",
      "  FutureWarning)\n"
     ]
    },
    {
     "data": {
      "text/plain": [
       "array([1, 1, 1, 1, 1, 1, 1, 1, 1, 1, 1, 1, 1, 1, 1, 1, 1, 1, 1, 1, 1, 1,\n",
       "       1, 1, 1, 1, 1, 1, 1, 1, 1, 1, 1, 1, 1, 1, 0, 1, 1, 1, 1, 1, 1, 0,\n",
       "       1, 1, 1, 1, 1, 1, 1, 1, 1, 1, 1, 1, 1, 1, 1, 1, 1, 1, 1, 1, 1, 1,\n",
       "       1, 1, 1, 1, 1, 1, 1, 1, 1, 0, 1, 1, 1, 1, 1, 1, 0, 1, 1, 1, 1, 1,\n",
       "       1, 0, 1, 1, 1, 1, 1, 1, 1, 1, 1, 1, 1, 1, 1, 1, 1, 1, 1, 1, 1, 1,\n",
       "       1, 1, 1, 1, 1, 1, 1, 1, 1, 1, 1, 1, 0, 1, 1, 1, 1, 1, 1, 1, 1, 1,\n",
       "       1, 1, 1, 1, 1, 1, 1, 1, 1, 1, 1, 1, 1, 1, 1, 1, 1, 1, 1, 1, 1, 0,\n",
       "       1, 1, 1, 1, 0, 1, 1, 1, 0, 1, 1, 1, 1, 1, 1, 1, 1, 1, 1, 1, 1, 1,\n",
       "       1, 1, 1, 1, 1, 1, 1, 1, 0, 1, 1, 1, 1, 1, 1, 1, 1, 1, 1, 1, 1, 1,\n",
       "       1, 1, 1, 1, 1, 1, 1, 1, 1, 1, 1, 1, 1, 1, 1, 1, 1, 1, 1, 0, 1, 1,\n",
       "       1, 1, 1, 1, 1, 1, 1, 1, 1, 1, 0, 1], dtype=int64)"
      ]
     },
     "execution_count": 179,
     "metadata": {},
     "output_type": "execute_result"
    }
   ],
   "source": [
    "from sklearn.linear_model import LogisticRegression\n",
    "regr = LogisticRegression()\n",
    "    # Train the model using the training sets\n",
    "regr.fit(train_X, train_y_cl)\n",
    "    # Make predictions using the testing set\n",
    "pred = regr.predict(test_X)\n",
    "pred"
   ]
  },
  {
   "cell_type": "code",
   "execution_count": 180,
   "metadata": {},
   "outputs": [
    {
     "data": {
      "text/plain": [
       "0.9655172413793104"
      ]
     },
     "execution_count": 180,
     "metadata": {},
     "output_type": "execute_result"
    }
   ],
   "source": [
    "from sklearn.metrics import accuracy_score\n",
    "accuracy_score(test_y_cl, pred)"
   ]
  },
  {
   "cell_type": "code",
   "execution_count": 181,
   "metadata": {},
   "outputs": [
    {
     "name": "stdout",
     "output_type": "stream",
     "text": [
      "Accuracy of logistic regression classifier on test set: 0.97\n"
     ]
    }
   ],
   "source": [
    "print('Accuracy of logistic regression classifier on test set: {:.2f}'.format(regr.score(test_X, test_y_cl)))"
   ]
  },
  {
   "cell_type": "code",
   "execution_count": 182,
   "metadata": {},
   "outputs": [
    {
     "data": {
      "text/plain": [
       "array([1, 1, 1, 1, 1, 1, 1, 1, 1, 1, 1, 1, 1, 1, 1, 1, 1, 1, 1, 1, 1, 1,\n",
       "       1, 1, 1, 1, 1, 1, 1, 1, 1, 1, 1, 1, 1, 1, 0, 1, 1, 1, 1, 1, 1, 0,\n",
       "       1, 1, 1, 1, 1, 1, 1, 0, 1, 1, 1, 1, 1, 1, 1, 1, 1, 1, 1, 1, 1, 1,\n",
       "       1, 1, 1, 1, 1, 1, 1, 1, 1, 1, 1, 1, 1, 1, 1, 1, 0, 1, 1, 1, 1, 1,\n",
       "       1, 0, 1, 1, 1, 1, 1, 1, 1, 1, 1, 1, 1, 1, 1, 1, 1, 1, 1, 1, 1, 1,\n",
       "       1, 1, 1, 1, 1, 1, 1, 1, 1, 1, 1, 1, 0, 1, 1, 1, 1, 1, 1, 1, 1, 1,\n",
       "       1, 1, 1, 1, 1, 1, 1, 1, 1, 1, 1, 1, 1, 1, 1, 1, 1, 1, 1, 1, 1, 1,\n",
       "       1, 1, 1, 1, 0, 1, 1, 1, 1, 1, 1, 1, 1, 1, 1, 1, 1, 1, 1, 0, 1, 1,\n",
       "       1, 1, 1, 1, 1, 1, 1, 1, 1, 1, 1, 1, 1, 1, 1, 1, 1, 1, 1, 1, 1, 1,\n",
       "       1, 1, 1, 1, 1, 0, 1, 1, 1, 1, 1, 1, 1, 1, 1, 1, 1, 1, 1, 0, 1, 1,\n",
       "       1, 1, 1, 1, 1, 1, 1, 1, 1, 1, 1, 1], dtype=int64)"
      ]
     },
     "execution_count": 182,
     "metadata": {},
     "output_type": "execute_result"
    }
   ],
   "source": [
    "from sklearn import tree\n",
    "dec = tree.DecisionTreeClassifier()\n",
    "dec.fit(train_X, train_y_cl)\n",
    "pred = dec.predict(test_X)\n",
    "pred"
   ]
  },
  {
   "cell_type": "code",
   "execution_count": 183,
   "metadata": {},
   "outputs": [
    {
     "data": {
      "text/plain": [
       "1.0"
      ]
     },
     "execution_count": 183,
     "metadata": {},
     "output_type": "execute_result"
    }
   ],
   "source": [
    "accuracy_score(test_y_cl, pred)"
   ]
  },
  {
   "cell_type": "code",
   "execution_count": 184,
   "metadata": {},
   "outputs": [
    {
     "data": {
      "text/plain": [
       "array([1, 1, 1, 1, 1, 1, 1, 1, 1, 1, 1, 1, 1, 1, 1, 1, 1, 1, 1, 1, 1, 1,\n",
       "       1, 1, 1, 1, 1, 1, 1, 1, 1, 1, 1, 1, 1, 1, 0, 1, 1, 1, 1, 1, 1, 1,\n",
       "       1, 1, 1, 1, 1, 1, 1, 1, 1, 1, 1, 1, 1, 1, 1, 1, 1, 1, 1, 1, 1, 1,\n",
       "       1, 1, 1, 1, 1, 1, 1, 1, 1, 1, 1, 1, 1, 1, 1, 1, 1, 1, 1, 1, 1, 1,\n",
       "       1, 0, 1, 1, 1, 1, 1, 1, 1, 1, 1, 1, 1, 1, 1, 1, 1, 1, 1, 1, 1, 1,\n",
       "       1, 1, 1, 1, 1, 1, 1, 1, 1, 1, 1, 1, 0, 1, 1, 1, 1, 1, 1, 1, 1, 1,\n",
       "       1, 1, 1, 1, 1, 1, 1, 1, 1, 1, 1, 1, 1, 1, 1, 1, 1, 1, 1, 1, 1, 1,\n",
       "       1, 1, 1, 1, 0, 1, 1, 1, 1, 1, 1, 1, 1, 1, 1, 1, 1, 1, 1, 1, 1, 1,\n",
       "       1, 1, 1, 1, 1, 1, 1, 1, 0, 1, 1, 1, 1, 1, 1, 1, 1, 1, 1, 1, 1, 1,\n",
       "       0, 1, 1, 1, 1, 1, 1, 1, 1, 1, 1, 1, 1, 1, 1, 1, 1, 1, 1, 0, 1, 1,\n",
       "       1, 1, 1, 1, 1, 1, 1, 1, 1, 1, 1, 1], dtype=int64)"
      ]
     },
     "execution_count": 184,
     "metadata": {},
     "output_type": "execute_result"
    }
   ],
   "source": [
    "from sklearn.svm import SVC\n",
    "clf = SVC(gamma='auto')\n",
    "clf.fit(train_X, train_y_cl)\n",
    "pred = clf.predict(test_X)\n",
    "pred"
   ]
  },
  {
   "cell_type": "code",
   "execution_count": 185,
   "metadata": {},
   "outputs": [
    {
     "data": {
      "text/plain": [
       "0.9698275862068966"
      ]
     },
     "execution_count": 185,
     "metadata": {},
     "output_type": "execute_result"
    }
   ],
   "source": [
    "accuracy_score(test_y_cl, pred)"
   ]
  },
  {
   "cell_type": "code",
   "execution_count": 186,
   "metadata": {},
   "outputs": [
    {
     "data": {
      "text/plain": [
       "array([1, 1, 1, 1, 1, 1, 1, 1, 1, 1, 1, 1, 1, 1, 1, 1, 1, 1, 1, 1, 1, 1,\n",
       "       1, 1, 1, 1, 1, 1, 1, 1, 1, 0, 1, 1, 1, 1, 0, 1, 1, 1, 1, 1, 1, 1,\n",
       "       1, 1, 1, 1, 1, 1, 1, 1, 1, 1, 1, 1, 1, 0, 1, 1, 1, 1, 1, 1, 1, 1,\n",
       "       1, 1, 1, 1, 1, 1, 1, 1, 1, 0, 1, 1, 1, 1, 1, 1, 1, 1, 1, 1, 1, 1,\n",
       "       1, 1, 1, 1, 1, 1, 1, 1, 1, 1, 1, 1, 1, 1, 1, 1, 1, 1, 1, 1, 1, 1,\n",
       "       1, 1, 1, 1, 1, 1, 1, 1, 1, 1, 1, 1, 1, 1, 1, 1, 1, 1, 1, 1, 1, 1,\n",
       "       1, 1, 1, 1, 1, 1, 1, 1, 1, 1, 1, 1, 1, 1, 1, 1, 1, 1, 1, 1, 1, 1,\n",
       "       1, 1, 1, 1, 0, 1, 1, 1, 1, 1, 1, 1, 1, 1, 1, 1, 0, 1, 1, 1, 1, 1,\n",
       "       1, 1, 1, 1, 1, 1, 1, 1, 0, 1, 1, 1, 1, 1, 1, 1, 1, 1, 1, 1, 1, 1,\n",
       "       1, 1, 1, 1, 1, 1, 1, 1, 1, 1, 1, 1, 1, 1, 1, 1, 1, 1, 1, 0, 1, 1,\n",
       "       1, 1, 1, 1, 1, 1, 1, 1, 1, 1, 0, 1], dtype=int64)"
      ]
     },
     "execution_count": 186,
     "metadata": {},
     "output_type": "execute_result"
    }
   ],
   "source": [
    "from sklearn.neighbors import KNeighborsClassifier\n",
    "neigh = KNeighborsClassifier()\n",
    "neigh.fit(train_X, train_y_cl)\n",
    "pred = neigh.predict(test_X)\n",
    "pred"
   ]
  },
  {
   "cell_type": "code",
   "execution_count": 187,
   "metadata": {},
   "outputs": [
    {
     "data": {
      "text/plain": [
       "0.9439655172413793"
      ]
     },
     "execution_count": 187,
     "metadata": {},
     "output_type": "execute_result"
    }
   ],
   "source": [
    "accuracy_score(test_y_cl, pred)"
   ]
  },
  {
   "cell_type": "code",
   "execution_count": 188,
   "metadata": {},
   "outputs": [],
   "source": [
    "from sklearn.model_selection import cross_val_score\n",
    "res = cross_val_score(neigh, X, y_cl, cv=3, scoring=\"accuracy\")"
   ]
  },
  {
   "cell_type": "code",
   "execution_count": 189,
   "metadata": {},
   "outputs": [
    {
     "data": {
      "text/plain": [
       "0.9502651191718584"
      ]
     },
     "execution_count": 189,
     "metadata": {},
     "output_type": "execute_result"
    }
   ],
   "source": [
    "res.mean()"
   ]
  },
  {
   "cell_type": "code",
   "execution_count": 190,
   "metadata": {},
   "outputs": [],
   "source": [
    "res = cross_val_score(clf, X, y_cl, cv=3, scoring=\"accuracy\")"
   ]
  },
  {
   "cell_type": "code",
   "execution_count": 191,
   "metadata": {},
   "outputs": [
    {
     "data": {
      "text/plain": [
       "0.9545941691351386"
      ]
     },
     "execution_count": 191,
     "metadata": {},
     "output_type": "execute_result"
    }
   ],
   "source": [
    "res.mean()"
   ]
  },
  {
   "cell_type": "code",
   "execution_count": 192,
   "metadata": {},
   "outputs": [],
   "source": [
    "res = cross_val_score(dec, X, y_cl, cv=3, scoring=\"accuracy\")"
   ]
  },
  {
   "cell_type": "code",
   "execution_count": 193,
   "metadata": {},
   "outputs": [
    {
     "data": {
      "text/plain": [
       "1.0"
      ]
     },
     "execution_count": 193,
     "metadata": {},
     "output_type": "execute_result"
    }
   ],
   "source": [
    "res.mean()"
   ]
  },
  {
   "cell_type": "code",
   "execution_count": 194,
   "metadata": {},
   "outputs": [
    {
     "name": "stderr",
     "output_type": "stream",
     "text": [
      "C:\\Users\\AKINLOLU\\Anaconda3\\lib\\site-packages\\sklearn\\linear_model\\logistic.py:433: FutureWarning: Default solver will be changed to 'lbfgs' in 0.22. Specify a solver to silence this warning.\n",
      "  FutureWarning)\n",
      "C:\\Users\\AKINLOLU\\Anaconda3\\lib\\site-packages\\sklearn\\linear_model\\logistic.py:433: FutureWarning: Default solver will be changed to 'lbfgs' in 0.22. Specify a solver to silence this warning.\n",
      "  FutureWarning)\n",
      "C:\\Users\\AKINLOLU\\Anaconda3\\lib\\site-packages\\sklearn\\linear_model\\logistic.py:433: FutureWarning: Default solver will be changed to 'lbfgs' in 0.22. Specify a solver to silence this warning.\n",
      "  FutureWarning)\n"
     ]
    }
   ],
   "source": [
    "res = cross_val_score(regr, X, y_cl, cv=3, scoring=\"accuracy\")"
   ]
  },
  {
   "cell_type": "code",
   "execution_count": 195,
   "metadata": {},
   "outputs": [
    {
     "data": {
      "text/plain": [
       "0.9513719785374698"
      ]
     },
     "execution_count": 195,
     "metadata": {},
     "output_type": "execute_result"
    }
   ],
   "source": [
    "res.mean()"
   ]
  },
  {
   "cell_type": "code",
   "execution_count": 196,
   "metadata": {},
   "outputs": [
    {
     "data": {
      "text/plain": [
       "GridSearchCV(cv=3, error_score='raise-deprecating',\n",
       "       estimator=LogisticRegression(C=1.0, class_weight=None, dual=False, fit_intercept=True,\n",
       "          intercept_scaling=1, max_iter=100, multi_class='warn',\n",
       "          n_jobs=None, penalty='l2', random_state=None, solver='liblinear',\n",
       "          tol=0.0001, verbose=0, warm_start=False),\n",
       "       fit_params=None, iid='warn', n_jobs=None,\n",
       "       param_grid={'C': [0.1, 0.5, 1, 5, 10, 50, 100]},\n",
       "       pre_dispatch='2*n_jobs', refit=True, return_train_score='warn',\n",
       "       scoring='accuracy', verbose=0)"
      ]
     },
     "execution_count": 196,
     "metadata": {},
     "output_type": "execute_result"
    }
   ],
   "source": [
    "from sklearn.model_selection import GridSearchCV\n",
    "tuned_parameters = {'C': [0.1, 0.5, 1, 5, 10, 50, 100]}\n",
    "regr = GridSearchCV(LogisticRegression(solver='liblinear'), tuned_parameters, cv=3, scoring=\"accuracy\")\n",
    "regr.fit(X, y_cl)"
   ]
  },
  {
   "cell_type": "code",
   "execution_count": 197,
   "metadata": {},
   "outputs": [
    {
     "name": "stdout",
     "output_type": "stream",
     "text": [
      "{'C': 50}\n",
      "0.961081081081081\n"
     ]
    }
   ],
   "source": [
    "print(regr.best_params_)\n",
    "print(regr.best_score_)"
   ]
  },
  {
   "cell_type": "code",
   "execution_count": 198,
   "metadata": {},
   "outputs": [
    {
     "name": "stdout",
     "output_type": "stream",
     "text": [
      "0.9525862068965517\n"
     ]
    }
   ],
   "source": [
    "predictions = regr.predict(test_X)\n",
    "print(accuracy_score(pred, predictions))"
   ]
  },
  {
   "cell_type": "code",
   "execution_count": 199,
   "metadata": {},
   "outputs": [
    {
     "data": {
      "text/plain": [
       "GridSearchCV(cv=5, error_score='raise-deprecating',\n",
       "       estimator=DecisionTreeClassifier(class_weight=None, criterion='gini', max_depth=None,\n",
       "            max_features=None, max_leaf_nodes=None,\n",
       "            min_impurity_decrease=0.0, min_impurity_split=None,\n",
       "            min_samples_leaf=1, min_samples_split=2,\n",
       "            min_weight_fraction_leaf=0.0, presort=False, random_state=None,\n",
       "            splitter='best'),\n",
       "       fit_params=None, iid='warn', n_jobs=None,\n",
       "       param_grid={'criterion': ['gini', 'entropy'], 'max_depth': [1, 2, 3, 4, 5, 6]},\n",
       "       pre_dispatch='2*n_jobs', refit=True, return_train_score='warn',\n",
       "       scoring=None, verbose=0)"
      ]
     },
     "execution_count": 199,
     "metadata": {},
     "output_type": "execute_result"
    }
   ],
   "source": [
    "from sklearn.tree import DecisionTreeClassifier\n",
    "tree_para = {'criterion':['gini','entropy'],'max_depth':[1,2,3,4,5,6]}\n",
    "dec = GridSearchCV(DecisionTreeClassifier(), tree_para, cv=5)\n",
    "dec.fit(X, y_cl)"
   ]
  },
  {
   "cell_type": "code",
   "execution_count": 200,
   "metadata": {},
   "outputs": [
    {
     "name": "stdout",
     "output_type": "stream",
     "text": [
      "{'criterion': 'gini', 'max_depth': 1}\n",
      "1.0\n"
     ]
    }
   ],
   "source": [
    "print(dec.best_params_)\n",
    "print(dec.best_score_)"
   ]
  },
  {
   "cell_type": "code",
   "execution_count": 201,
   "metadata": {},
   "outputs": [
    {
     "name": "stdout",
     "output_type": "stream",
     "text": [
      "0.9439655172413793\n"
     ]
    }
   ],
   "source": [
    "predictions = dec.predict(test_X)\n",
    "print(accuracy_score(pred, predictions))"
   ]
  },
  {
   "cell_type": "code",
   "execution_count": 202,
   "metadata": {},
   "outputs": [
    {
     "name": "stderr",
     "output_type": "stream",
     "text": [
      "C:\\Users\\AKINLOLU\\Anaconda3\\lib\\site-packages\\sklearn\\model_selection\\_split.py:2053: FutureWarning: You should specify a value for 'cv' instead of relying on the default value. The default value will change from 3 to 5 in version 0.22.\n",
      "  warnings.warn(CV_WARNING, FutureWarning)\n"
     ]
    },
    {
     "data": {
      "text/plain": [
       "GridSearchCV(cv='warn', error_score='raise-deprecating',\n",
       "       estimator=SVC(C=1.0, cache_size=200, class_weight=None, coef0=0.0,\n",
       "  decision_function_shape='ovr', degree=3, gamma='auto_deprecated',\n",
       "  kernel='rbf', max_iter=-1, probability=False, random_state=None,\n",
       "  shrinking=True, tol=0.001, verbose=False),\n",
       "       fit_params=None, iid='warn', n_jobs=None,\n",
       "       param_grid={'C': array([1.0000e-06, 1.1112e-02, 2.2223e-02, 3.3334e-02, 4.4445e-02,\n",
       "       5.5556e-02, 6.6667e-02, 7.7778e-02, 8.8889e-02, 1.0000e-01]), 'gamma': array([1.0000e-04, 1.1112e+00, 2.2223e+00, 3.3334e+00, 4.4445e+00,\n",
       "       5.5556e+00, 6.6667e+00, 7.7778e+00, 8.8889e+00, 1.0000e+01])},\n",
       "       pre_dispatch='2*n_jobs', refit=True, return_train_score='warn',\n",
       "       scoring=None, verbose=0)"
      ]
     },
     "execution_count": 202,
     "metadata": {},
     "output_type": "execute_result"
    }
   ],
   "source": [
    "from sklearn.model_selection import GridSearchCV\n",
    "\n",
    "# Create my estimator and prepare the parameter grid dictionary\n",
    "params_dict = {\"C\": np.linspace(0.000001, 0.1, 10), \"gamma\": np.linspace(0.0001, 10, 10)}\n",
    "svm = SVC(kernel=\"rbf\")\n",
    "\n",
    "clf = GridSearchCV(estimator=svm, param_grid=params_dict)\n",
    "clf.fit(X, y_cl)"
   ]
  },
  {
   "cell_type": "code",
   "execution_count": 203,
   "metadata": {},
   "outputs": [
    {
     "name": "stdout",
     "output_type": "stream",
     "text": [
      "{'C': 1e-06, 'gamma': 0.0001}\n",
      "0.9427027027027027\n"
     ]
    }
   ],
   "source": [
    "print(clf.best_params_)\n",
    "print(clf.best_score_)"
   ]
  },
  {
   "cell_type": "code",
   "execution_count": 204,
   "metadata": {},
   "outputs": [
    {
     "name": "stdout",
     "output_type": "stream",
     "text": [
      "0.9612068965517241\n"
     ]
    }
   ],
   "source": [
    "predictions = clf.predict(test_X)\n",
    "print(accuracy_score(pred, predictions))"
   ]
  },
  {
   "cell_type": "code",
   "execution_count": 205,
   "metadata": {},
   "outputs": [
    {
     "data": {
      "text/plain": [
       "GridSearchCV(cv=10, error_score='raise-deprecating',\n",
       "       estimator=KNeighborsClassifier(algorithm='auto', leaf_size=30, metric='minkowski',\n",
       "           metric_params=None, n_jobs=None, n_neighbors=5, p=2,\n",
       "           weights='uniform'),\n",
       "       fit_params=None, iid='warn', n_jobs=None,\n",
       "       param_grid={'n_neighbors': [19, 20, 25, 30, 35, 40, 45, 60], 'weights': ['uniform', 'distance'], 'metric': ['euclidean', 'manhattan']},\n",
       "       pre_dispatch='2*n_jobs', refit=True, return_train_score='warn',\n",
       "       scoring='accuracy', verbose=0)"
      ]
     },
     "execution_count": 205,
     "metadata": {},
     "output_type": "execute_result"
    }
   ],
   "source": [
    "from sklearn.model_selection import GridSearchCV\n",
    "from sklearn.neighbors import KNeighborsClassifier\n",
    "neigh = KNeighborsClassifier()\n",
    "grid_params = {\n",
    "    'n_neighbors':[19,20,25,30,35,40, 45, 60],\n",
    "    'weights':['uniform', 'distance'],\n",
    "    'metric':['euclidean','manhattan']\n",
    "    }\n",
    "neigh = GridSearchCV(KNeighborsClassifier(), grid_params, cv = 10, scoring = 'accuracy')\n",
    "neigh.fit(X, y_cl)"
   ]
  },
  {
   "cell_type": "code",
   "execution_count": 206,
   "metadata": {},
   "outputs": [
    {
     "name": "stdout",
     "output_type": "stream",
     "text": [
      "{'metric': 'manhattan', 'n_neighbors': 19, 'weights': 'distance'}\n",
      "0.9524324324324325\n"
     ]
    }
   ],
   "source": [
    "print(neigh.best_params_)\n",
    "print(neigh.best_score_)"
   ]
  },
  {
   "cell_type": "code",
   "execution_count": 207,
   "metadata": {},
   "outputs": [
    {
     "name": "stdout",
     "output_type": "stream",
     "text": [
      "0.9439655172413793\n"
     ]
    }
   ],
   "source": [
    "predictions = neigh.predict(test_X)\n",
    "print(accuracy_score(pred, predictions))"
   ]
  },
  {
   "cell_type": "code",
   "execution_count": 208,
   "metadata": {},
   "outputs": [
    {
     "name": "stderr",
     "output_type": "stream",
     "text": [
      "C:\\Users\\AKINLOLU\\Anaconda3\\lib\\site-packages\\sklearn\\linear_model\\logistic.py:433: FutureWarning: Default solver will be changed to 'lbfgs' in 0.22. Specify a solver to silence this warning.\n",
      "  FutureWarning)\n",
      "C:\\Users\\AKINLOLU\\Anaconda3\\lib\\site-packages\\sklearn\\ensemble\\forest.py:246: FutureWarning: The default value of n_estimators will change from 10 in version 0.20 to 100 in 0.22.\n",
      "  \"10 in version 0.20 to 100 in 0.22.\", FutureWarning)\n",
      "C:\\Users\\AKINLOLU\\Anaconda3\\lib\\site-packages\\sklearn\\linear_model\\logistic.py:433: FutureWarning: Default solver will be changed to 'lbfgs' in 0.22. Specify a solver to silence this warning.\n",
      "  FutureWarning)\n",
      "C:\\Users\\AKINLOLU\\Anaconda3\\lib\\site-packages\\sklearn\\ensemble\\forest.py:246: FutureWarning: The default value of n_estimators will change from 10 in version 0.20 to 100 in 0.22.\n",
      "  \"10 in version 0.20 to 100 in 0.22.\", FutureWarning)\n",
      "C:\\Users\\AKINLOLU\\Anaconda3\\lib\\site-packages\\sklearn\\linear_model\\logistic.py:433: FutureWarning: Default solver will be changed to 'lbfgs' in 0.22. Specify a solver to silence this warning.\n",
      "  FutureWarning)\n",
      "C:\\Users\\AKINLOLU\\Anaconda3\\lib\\site-packages\\sklearn\\ensemble\\forest.py:246: FutureWarning: The default value of n_estimators will change from 10 in version 0.20 to 100 in 0.22.\n",
      "  \"10 in version 0.20 to 100 in 0.22.\", FutureWarning)\n"
     ]
    },
    {
     "data": {
      "text/plain": [
       "array([0.95469256, 0.95469256, 0.95114007])"
      ]
     },
     "execution_count": 208,
     "metadata": {},
     "output_type": "execute_result"
    }
   ],
   "source": [
    "from sklearn.ensemble import RandomForestClassifier\n",
    "from sklearn.ensemble import VotingClassifier\n",
    "from sklearn.linear_model import LogisticRegression\n",
    "from sklearn.neighbors import KNeighborsClassifier\n",
    "from sklearn.svm import SVC\n",
    "log_clf = LogisticRegression(C = 50)\n",
    "rnd_clf = RandomForestClassifier(max_depth = 1)\n",
    "svm_clf = SVC(gamma = 0.0001, C = 1e-06)\n",
    "neigh_clf = KNeighborsClassifier(n_neighbors = 25)\n",
    "voting_clf = VotingClassifier(\n",
    "    estimators=[('lr', log_clf), ('rf', rnd_clf), ('svc', svm_clf),('knn',neigh_clf)],\n",
    "    voting='hard')\n",
    "#voting_clf.fit(basis_X_train, basis_Y_cl_train)\n",
    "cross_val_score(voting_clf, X, y_cl, cv=3, scoring=\"accuracy\")"
   ]
  },
  {
   "cell_type": "code",
   "execution_count": 217,
   "metadata": {},
   "outputs": [
    {
     "name": "stdout",
     "output_type": "stream",
     "text": [
      "LogisticRegression 0.9741379310344828\n",
      "RandomForestClassifier 0.978448275862069\n",
      "SVC 0.9568965517241379\n",
      "VotingClassifier 0.9568965517241379\n",
      "KNeighborsClassifier 0.9568965517241379\n"
     ]
    },
    {
     "name": "stderr",
     "output_type": "stream",
     "text": [
      "C:\\Users\\AKINLOLU\\Anaconda3\\lib\\site-packages\\sklearn\\linear_model\\logistic.py:433: FutureWarning: Default solver will be changed to 'lbfgs' in 0.22. Specify a solver to silence this warning.\n",
      "  FutureWarning)\n",
      "C:\\Users\\AKINLOLU\\Anaconda3\\lib\\site-packages\\sklearn\\linear_model\\logistic.py:433: FutureWarning: Default solver will be changed to 'lbfgs' in 0.22. Specify a solver to silence this warning.\n",
      "  FutureWarning)\n"
     ]
    }
   ],
   "source": [
    "from sklearn.metrics import accuracy_score\n",
    "for clf in (log_clf, rnd_clf, svm_clf, voting_clf, neigh_clf):\n",
    "    clf.fit(train_X, train_y_cl)\n",
    "    pred = clf.predict(test_X)\n",
    "    print(clf.__class__.__name__, accuracy_score(test_y_cl, pred))"
   ]
  },
  {
   "cell_type": "code",
   "execution_count": 218,
   "metadata": {},
   "outputs": [
    {
     "data": {
      "image/png": "[encoded data removed]",
      "text/plain": [
       "<Figure size 864x576 with 1 Axes>"
      ]
     },
     "metadata": {
      "needs_background": "light"
     },
     "output_type": "display_data"
    }
   ],
   "source": [
    "# Graph x and y axis values\n",
    "import numpy as np\n",
    "labels = np.array(['LogisticRegression','RandomForestClassifier','SVC', 'VotingClassifier', 'KNeighborsClassifier'])\n",
    "accuracy_score = np.array([0.97, 0.98, 0.96, 0.96, 0.96])\n",
    "\n",
    "# Arrange bars\n",
    "pos = np.arange(accuracy_score.shape[0])\n",
    "srt = np.argsort(accuracy_score)\n",
    "\n",
    "# Plots Mean Absolute Variance bars across functions\n",
    "import matplotlib.pyplot as plt\n",
    "plt.figure(figsize=(12,8))\n",
    "plt.bar(pos, accuracy_score[srt], align = 'center', color='#E35A5C')\n",
    "plt.xticks(pos, labels[srt])\n",
    "plt.xlabel('Model')\n",
    "plt.ylabel('Accuracy score in (reviews)')\n",
    "plt.title('Model Comparison')\n",
    "plt.ylim(0,6)\n",
    "plt.show()"
   ]
  },
  {
   "cell_type": "code",
   "execution_count": null,
   "metadata": {},
   "outputs": [],
   "source": []
  }
 ],
 "metadata": {
  "kernelspec": {
   "display_name": "Python 3",
   "language": "python",
   "name": "python3"
  },
  "language_info": {
   "codemirror_mode": {
    "name": "ipython",
    "version": 3
   },
   "file_extension": ".py",
   "mimetype": "text/x-python",
   "name": "python",
   "nbconvert_exporter": "python",
   "pygments_lexer": "ipython3",
   "version": "3.6.8"
  }
 },
 "nbformat": 4,
 "nbformat_minor": 2
}
