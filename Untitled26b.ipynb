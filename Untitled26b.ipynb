{
 "cells": [
  {
   "cell_type": "code",
   "execution_count": 1,
   "metadata": {},
   "outputs": [],
   "source": [
    "import quandl\n",
    "import numpy as np\n",
    "import pandas as pd\n",
    "import matplotlib.pyplot as plt\n",
    "from statsmodels.tsa.stattools import adfuller"
   ]
  },
  {
   "cell_type": "code",
   "execution_count": 2,
   "metadata": {},
   "outputs": [],
   "source": [
    "quandl.ApiConfig.api_key = \"uCTgSRuMQd--79XBCzhz\""
   ]
  },
  {
   "cell_type": "code",
   "execution_count": 3,
   "metadata": {},
   "outputs": [],
   "source": [
    "df_gdp = quandl.get(\"FRED/GDPC1\")"
   ]
  },
  {
   "cell_type": "code",
   "execution_count": 4,
   "metadata": {},
   "outputs": [
    {
     "data": {
      "text/html": [
       "<div>\n",
       "<style scoped>\n",
       "    .dataframe tbody tr th:only-of-type {\n",
       "        vertical-align: middle;\n",
       "    }\n",
       "\n",
       "    .dataframe tbody tr th {\n",
       "        vertical-align: top;\n",
       "    }\n",
       "\n",
       "    .dataframe thead th {\n",
       "        text-align: right;\n",
       "    }\n",
       "</style>\n",
       "<table border=\"1\" class=\"dataframe\">\n",
       "  <thead>\n",
       "    <tr style=\"text-align: right;\">\n",
       "      <th></th>\n",
       "      <th>Value</th>\n",
       "    </tr>\n",
       "    <tr>\n",
       "      <th>Date</th>\n",
       "      <th></th>\n",
       "    </tr>\n",
       "  </thead>\n",
       "  <tbody>\n",
       "    <tr>\n",
       "      <th>2017-07-01</th>\n",
       "      <td>18120.843</td>\n",
       "    </tr>\n",
       "    <tr>\n",
       "      <th>2017-10-01</th>\n",
       "      <td>18223.758</td>\n",
       "    </tr>\n",
       "    <tr>\n",
       "      <th>2018-01-01</th>\n",
       "      <td>18323.963</td>\n",
       "    </tr>\n",
       "    <tr>\n",
       "      <th>2018-04-01</th>\n",
       "      <td>18511.576</td>\n",
       "    </tr>\n",
       "    <tr>\n",
       "      <th>2018-07-01</th>\n",
       "      <td>18664.973</td>\n",
       "    </tr>\n",
       "  </tbody>\n",
       "</table>\n",
       "</div>"
      ],
      "text/plain": [
       "                Value\n",
       "Date                 \n",
       "2017-07-01  18120.843\n",
       "2017-10-01  18223.758\n",
       "2018-01-01  18323.963\n",
       "2018-04-01  18511.576\n",
       "2018-07-01  18664.973"
      ]
     },
     "execution_count": 4,
     "metadata": {},
     "output_type": "execute_result"
    }
   ],
   "source": [
    "df_gdp.tail()"
   ]
  },
  {
   "cell_type": "code",
   "execution_count": 5,
   "metadata": {},
   "outputs": [],
   "source": [
    "df_ics = quandl.get(\"UMICH/SOC1\")"
   ]
  },
  {
   "cell_type": "code",
   "execution_count": 6,
   "metadata": {},
   "outputs": [
    {
     "data": {
      "text/html": [
       "<div>\n",
       "<style scoped>\n",
       "    .dataframe tbody tr th:only-of-type {\n",
       "        vertical-align: middle;\n",
       "    }\n",
       "\n",
       "    .dataframe tbody tr th {\n",
       "        vertical-align: top;\n",
       "    }\n",
       "\n",
       "    .dataframe thead th {\n",
       "        text-align: right;\n",
       "    }\n",
       "</style>\n",
       "<table border=\"1\" class=\"dataframe\">\n",
       "  <thead>\n",
       "    <tr style=\"text-align: right;\">\n",
       "      <th></th>\n",
       "      <th>Index</th>\n",
       "    </tr>\n",
       "    <tr>\n",
       "      <th>Date</th>\n",
       "      <th></th>\n",
       "    </tr>\n",
       "  </thead>\n",
       "  <tbody>\n",
       "    <tr>\n",
       "      <th>2018-08-31</th>\n",
       "      <td>96.2</td>\n",
       "    </tr>\n",
       "    <tr>\n",
       "      <th>2018-09-30</th>\n",
       "      <td>100.1</td>\n",
       "    </tr>\n",
       "    <tr>\n",
       "      <th>2018-10-31</th>\n",
       "      <td>98.6</td>\n",
       "    </tr>\n",
       "    <tr>\n",
       "      <th>2018-11-30</th>\n",
       "      <td>97.5</td>\n",
       "    </tr>\n",
       "    <tr>\n",
       "      <th>2018-12-31</th>\n",
       "      <td>98.3</td>\n",
       "    </tr>\n",
       "  </tbody>\n",
       "</table>\n",
       "</div>"
      ],
      "text/plain": [
       "            Index\n",
       "Date             \n",
       "2018-08-31   96.2\n",
       "2018-09-30  100.1\n",
       "2018-10-31   98.6\n",
       "2018-11-30   97.5\n",
       "2018-12-31   98.3"
      ]
     },
     "execution_count": 6,
     "metadata": {},
     "output_type": "execute_result"
    }
   ],
   "source": [
    "df_ics.tail()"
   ]
  },
  {
   "cell_type": "code",
   "execution_count": 7,
   "metadata": {},
   "outputs": [],
   "source": [
    "df_bp = quandl.get(\"FRED/PERMIT\")"
   ]
  },
  {
   "cell_type": "code",
   "execution_count": 8,
   "metadata": {},
   "outputs": [
    {
     "data": {
      "text/html": [
       "<div>\n",
       "<style scoped>\n",
       "    .dataframe tbody tr th:only-of-type {\n",
       "        vertical-align: middle;\n",
       "    }\n",
       "\n",
       "    .dataframe tbody tr th {\n",
       "        vertical-align: top;\n",
       "    }\n",
       "\n",
       "    .dataframe thead th {\n",
       "        text-align: right;\n",
       "    }\n",
       "</style>\n",
       "<table border=\"1\" class=\"dataframe\">\n",
       "  <thead>\n",
       "    <tr style=\"text-align: right;\">\n",
       "      <th></th>\n",
       "      <th>Value</th>\n",
       "    </tr>\n",
       "    <tr>\n",
       "      <th>Date</th>\n",
       "      <th></th>\n",
       "    </tr>\n",
       "  </thead>\n",
       "  <tbody>\n",
       "    <tr>\n",
       "      <th>2018-08-01</th>\n",
       "      <td>1249.0</td>\n",
       "    </tr>\n",
       "    <tr>\n",
       "      <th>2018-09-01</th>\n",
       "      <td>1270.0</td>\n",
       "    </tr>\n",
       "    <tr>\n",
       "      <th>2018-10-01</th>\n",
       "      <td>1265.0</td>\n",
       "    </tr>\n",
       "    <tr>\n",
       "      <th>2018-11-01</th>\n",
       "      <td>1322.0</td>\n",
       "    </tr>\n",
       "    <tr>\n",
       "      <th>2018-12-01</th>\n",
       "      <td>1326.0</td>\n",
       "    </tr>\n",
       "  </tbody>\n",
       "</table>\n",
       "</div>"
      ],
      "text/plain": [
       "             Value\n",
       "Date              \n",
       "2018-08-01  1249.0\n",
       "2018-09-01  1270.0\n",
       "2018-10-01  1265.0\n",
       "2018-11-01  1322.0\n",
       "2018-12-01  1326.0"
      ]
     },
     "execution_count": 8,
     "metadata": {},
     "output_type": "execute_result"
    }
   ],
   "source": [
    "df_bp.tail()"
   ]
  },
  {
   "cell_type": "code",
   "execution_count": 9,
   "metadata": {},
   "outputs": [],
   "source": [
    "df_gdp3 = (df_gdp / df_gdp.shift(1) - 1) * 100"
   ]
  },
  {
   "cell_type": "code",
   "execution_count": 10,
   "metadata": {},
   "outputs": [],
   "source": [
    "df_gdp3.rename(columns={'Value':'GDP_Q1'},inplace=True)"
   ]
  },
  {
   "cell_type": "code",
   "execution_count": 11,
   "metadata": {},
   "outputs": [
    {
     "data": {
      "text/html": [
       "<div>\n",
       "<style scoped>\n",
       "    .dataframe tbody tr th:only-of-type {\n",
       "        vertical-align: middle;\n",
       "    }\n",
       "\n",
       "    .dataframe tbody tr th {\n",
       "        vertical-align: top;\n",
       "    }\n",
       "\n",
       "    .dataframe thead th {\n",
       "        text-align: right;\n",
       "    }\n",
       "</style>\n",
       "<table border=\"1\" class=\"dataframe\">\n",
       "  <thead>\n",
       "    <tr style=\"text-align: right;\">\n",
       "      <th></th>\n",
       "      <th>GDP_Q1</th>\n",
       "    </tr>\n",
       "    <tr>\n",
       "      <th>Date</th>\n",
       "      <th></th>\n",
       "    </tr>\n",
       "  </thead>\n",
       "  <tbody>\n",
       "    <tr>\n",
       "      <th>1947-01-01</th>\n",
       "      <td>NaN</td>\n",
       "    </tr>\n",
       "    <tr>\n",
       "      <th>1947-04-01</th>\n",
       "      <td>-0.266691</td>\n",
       "    </tr>\n",
       "    <tr>\n",
       "      <th>1947-07-01</th>\n",
       "      <td>-0.206496</td>\n",
       "    </tr>\n",
       "    <tr>\n",
       "      <th>1947-10-01</th>\n",
       "      <td>1.564208</td>\n",
       "    </tr>\n",
       "    <tr>\n",
       "      <th>1948-01-01</th>\n",
       "      <td>1.504256</td>\n",
       "    </tr>\n",
       "  </tbody>\n",
       "</table>\n",
       "</div>"
      ],
      "text/plain": [
       "              GDP_Q1\n",
       "Date                \n",
       "1947-01-01       NaN\n",
       "1947-04-01 -0.266691\n",
       "1947-07-01 -0.206496\n",
       "1947-10-01  1.564208\n",
       "1948-01-01  1.504256"
      ]
     },
     "execution_count": 11,
     "metadata": {},
     "output_type": "execute_result"
    }
   ],
   "source": [
    "df_gdp3.head()"
   ]
  },
  {
   "cell_type": "code",
   "execution_count": 12,
   "metadata": {},
   "outputs": [],
   "source": [
    "df_gdp6 = (df_gdp / df_gdp.shift (2) - 1) * 100"
   ]
  },
  {
   "cell_type": "code",
   "execution_count": 13,
   "metadata": {},
   "outputs": [],
   "source": [
    "df_gdp6.rename(columns={'Value':'GDP_Q2'},inplace=True)"
   ]
  },
  {
   "cell_type": "code",
   "execution_count": 14,
   "metadata": {},
   "outputs": [],
   "source": [
    "df_gdp9 = (df_gdp / df_gdp.shift (3) - 1) * 100"
   ]
  },
  {
   "cell_type": "code",
   "execution_count": 15,
   "metadata": {},
   "outputs": [],
   "source": [
    "df_gdp9.rename(columns={'Value':'GDP_Q3'},inplace=True)"
   ]
  },
  {
   "cell_type": "code",
   "execution_count": 16,
   "metadata": {},
   "outputs": [],
   "source": [
    "df_gdp12 = (df_gdp / df_gdp.shift (4) - 1) * 100"
   ]
  },
  {
   "cell_type": "code",
   "execution_count": 17,
   "metadata": {},
   "outputs": [],
   "source": [
    "df_gdp12.rename(columns={'Value':'GDP_Q4'},inplace=True)"
   ]
  },
  {
   "cell_type": "code",
   "execution_count": 18,
   "metadata": {},
   "outputs": [],
   "source": [
    "df_ics3 = (df_ics / df_ics.shift (1) - 1) * 100"
   ]
  },
  {
   "cell_type": "code",
   "execution_count": 19,
   "metadata": {},
   "outputs": [],
   "source": [
    "df_ics3.rename(columns={'Index':'ICS_Q1'},inplace=True)"
   ]
  },
  {
   "cell_type": "code",
   "execution_count": 20,
   "metadata": {},
   "outputs": [],
   "source": [
    "df_ics6 = (df_ics / df_ics.shift (2) - 1) * 100"
   ]
  },
  {
   "cell_type": "code",
   "execution_count": 21,
   "metadata": {},
   "outputs": [],
   "source": [
    "df_ics6.rename(columns={'Index':'ICS_Q2'},inplace=True)"
   ]
  },
  {
   "cell_type": "code",
   "execution_count": 22,
   "metadata": {},
   "outputs": [],
   "source": [
    "df_ics9 = (df_ics / df_ics.shift (3) - 1) * 100"
   ]
  },
  {
   "cell_type": "code",
   "execution_count": 23,
   "metadata": {},
   "outputs": [],
   "source": [
    "df_ics9.rename(columns={'Index':'ICS_Q3'},inplace=True)"
   ]
  },
  {
   "cell_type": "code",
   "execution_count": 24,
   "metadata": {},
   "outputs": [],
   "source": [
    "df_ics12 = (df_ics / df_ics.shift (4) - 1) * 100"
   ]
  },
  {
   "cell_type": "code",
   "execution_count": 25,
   "metadata": {},
   "outputs": [],
   "source": [
    "df_ics12.rename(columns={'Index':'ICS_Q4'},inplace=True)"
   ]
  },
  {
   "cell_type": "code",
   "execution_count": 26,
   "metadata": {},
   "outputs": [],
   "source": [
    "df_bp3 = (df_bp / df_bp.shift (1) - 1) * 100"
   ]
  },
  {
   "cell_type": "code",
   "execution_count": 27,
   "metadata": {},
   "outputs": [],
   "source": [
    "df_bp3.rename(columns={'Value':'BP_Q1'},inplace=True)"
   ]
  },
  {
   "cell_type": "code",
   "execution_count": 28,
   "metadata": {},
   "outputs": [],
   "source": [
    "df_bp6 = (df_bp / df_bp.shift (2) - 1) * 100"
   ]
  },
  {
   "cell_type": "code",
   "execution_count": 29,
   "metadata": {},
   "outputs": [],
   "source": [
    "df_bp6.rename(columns={'Value':'BP_Q2'},inplace=True)"
   ]
  },
  {
   "cell_type": "code",
   "execution_count": 30,
   "metadata": {},
   "outputs": [],
   "source": [
    "df_bp9 = (df_bp / df_bp.shift (3) - 1) * 100"
   ]
  },
  {
   "cell_type": "code",
   "execution_count": 31,
   "metadata": {},
   "outputs": [],
   "source": [
    "df_bp9.rename(columns={'Value':'BP_Q3'},inplace=True)"
   ]
  },
  {
   "cell_type": "code",
   "execution_count": 32,
   "metadata": {},
   "outputs": [],
   "source": [
    "df_bp12 = (df_bp / df_bp.shift (4) - 1) * 100"
   ]
  },
  {
   "cell_type": "code",
   "execution_count": 33,
   "metadata": {},
   "outputs": [],
   "source": [
    "df_bp12.rename(columns={'Value':'BP_Q4'},inplace=True)"
   ]
  },
  {
   "cell_type": "code",
   "execution_count": 34,
   "metadata": {},
   "outputs": [
    {
     "data": {
      "text/html": [
       "<div>\n",
       "<style scoped>\n",
       "    .dataframe tbody tr th:only-of-type {\n",
       "        vertical-align: middle;\n",
       "    }\n",
       "\n",
       "    .dataframe tbody tr th {\n",
       "        vertical-align: top;\n",
       "    }\n",
       "\n",
       "    .dataframe thead th {\n",
       "        text-align: right;\n",
       "    }\n",
       "</style>\n",
       "<table border=\"1\" class=\"dataframe\">\n",
       "  <thead>\n",
       "    <tr style=\"text-align: right;\">\n",
       "      <th></th>\n",
       "      <th>GDP_Q1</th>\n",
       "      <th>GDP_Q2</th>\n",
       "      <th>GDP_Q3</th>\n",
       "      <th>GDP_Q4</th>\n",
       "      <th>ICS_Q1</th>\n",
       "      <th>ICS_Q2</th>\n",
       "      <th>ICS_Q3</th>\n",
       "      <th>ICS_Q4</th>\n",
       "      <th>BP_Q1</th>\n",
       "      <th>BP_Q2</th>\n",
       "      <th>BP_Q3</th>\n",
       "      <th>BP_Q4</th>\n",
       "    </tr>\n",
       "    <tr>\n",
       "      <th>Date</th>\n",
       "      <th></th>\n",
       "      <th></th>\n",
       "      <th></th>\n",
       "      <th></th>\n",
       "      <th></th>\n",
       "      <th></th>\n",
       "      <th></th>\n",
       "      <th></th>\n",
       "      <th></th>\n",
       "      <th></th>\n",
       "      <th></th>\n",
       "      <th></th>\n",
       "    </tr>\n",
       "  </thead>\n",
       "  <tbody>\n",
       "    <tr>\n",
       "      <th>2017-07-01</th>\n",
       "      <td>0.698483</td>\n",
       "      <td>1.443317</td>\n",
       "      <td>1.893019</td>\n",
       "      <td>2.338877</td>\n",
       "      <td>-2.162719</td>\n",
       "      <td>-2.061856</td>\n",
       "      <td>-1.960784</td>\n",
       "      <td>-1.349948</td>\n",
       "      <td>-4.115854</td>\n",
       "      <td>4.398340</td>\n",
       "      <td>0.239044</td>\n",
       "      <td>-1.641908</td>\n",
       "    </tr>\n",
       "    <tr>\n",
       "      <th>2017-10-01</th>\n",
       "      <td>0.567937</td>\n",
       "      <td>1.270387</td>\n",
       "      <td>2.019451</td>\n",
       "      <td>2.471707</td>\n",
       "      <td>-1.756198</td>\n",
       "      <td>1.820128</td>\n",
       "      <td>0.105263</td>\n",
       "      <td>-2.059732</td>\n",
       "      <td>7.097289</td>\n",
       "      <td>3.307692</td>\n",
       "      <td>6.756757</td>\n",
       "      <td>2.362805</td>\n",
       "    </tr>\n",
       "    <tr>\n",
       "      <th>2018-01-01</th>\n",
       "      <td>0.549859</td>\n",
       "      <td>1.120919</td>\n",
       "      <td>1.827231</td>\n",
       "      <td>2.580414</td>\n",
       "      <td>-2.639594</td>\n",
       "      <td>-4.766634</td>\n",
       "      <td>0.841220</td>\n",
       "      <td>-0.929752</td>\n",
       "      <td>3.484848</td>\n",
       "      <td>3.250189</td>\n",
       "      <td>1.712584</td>\n",
       "      <td>8.931419</td>\n",
       "    </tr>\n",
       "    <tr>\n",
       "      <th>2018-04-01</th>\n",
       "      <td>1.023867</td>\n",
       "      <td>1.579356</td>\n",
       "      <td>2.156263</td>\n",
       "      <td>2.869807</td>\n",
       "      <td>1.705115</td>\n",
       "      <td>5.956113</td>\n",
       "      <td>5.735141</td>\n",
       "      <td>2.944162</td>\n",
       "      <td>-0.944081</td>\n",
       "      <td>3.099017</td>\n",
       "      <td>-0.146413</td>\n",
       "      <td>3.333333</td>\n",
       "    </tr>\n",
       "    <tr>\n",
       "      <th>2018-07-01</th>\n",
       "      <td>0.828654</td>\n",
       "      <td>1.861006</td>\n",
       "      <td>2.421098</td>\n",
       "      <td>3.002785</td>\n",
       "      <td>0.204082</td>\n",
       "      <td>-0.607287</td>\n",
       "      <td>-3.155819</td>\n",
       "      <td>-1.504514</td>\n",
       "      <td>0.851393</td>\n",
       "      <td>0.153728</td>\n",
       "      <td>-4.472141</td>\n",
       "      <td>-5.374001</td>\n",
       "    </tr>\n",
       "  </tbody>\n",
       "</table>\n",
       "</div>"
      ],
      "text/plain": [
       "              GDP_Q1    GDP_Q2    GDP_Q3    GDP_Q4    ICS_Q1    ICS_Q2  \\\n",
       "Date                                                                     \n",
       "2017-07-01  0.698483  1.443317  1.893019  2.338877 -2.162719 -2.061856   \n",
       "2017-10-01  0.567937  1.270387  2.019451  2.471707 -1.756198  1.820128   \n",
       "2018-01-01  0.549859  1.120919  1.827231  2.580414 -2.639594 -4.766634   \n",
       "2018-04-01  1.023867  1.579356  2.156263  2.869807  1.705115  5.956113   \n",
       "2018-07-01  0.828654  1.861006  2.421098  3.002785  0.204082 -0.607287   \n",
       "\n",
       "              ICS_Q3    ICS_Q4     BP_Q1     BP_Q2     BP_Q3     BP_Q4  \n",
       "Date                                                                    \n",
       "2017-07-01 -1.960784 -1.349948 -4.115854  4.398340  0.239044 -1.641908  \n",
       "2017-10-01  0.105263 -2.059732  7.097289  3.307692  6.756757  2.362805  \n",
       "2018-01-01  0.841220 -0.929752  3.484848  3.250189  1.712584  8.931419  \n",
       "2018-04-01  5.735141  2.944162 -0.944081  3.099017 -0.146413  3.333333  \n",
       "2018-07-01 -3.155819 -1.504514  0.851393  0.153728 -4.472141 -5.374001  "
      ]
     },
     "execution_count": 34,
     "metadata": {},
     "output_type": "execute_result"
    }
   ],
   "source": [
    "df = df_gdp3.join(df_gdp6)\n",
    "df = df.join(df_gdp9)\n",
    "df = df.join(df_gdp12)\n",
    "df = df.join(df_ics3, how='outer')\n",
    "df['ICS_Q1'] = df['ICS_Q1'].fillna(method='ffill')\n",
    "df = df.join(df_ics6, how='outer')\n",
    "df['ICS_Q2'] = df['ICS_Q2'].fillna(method='ffill')\n",
    "df = df.join(df_ics9, how='outer')\n",
    "df['ICS_Q3'] = df['ICS_Q3'].fillna(method='ffill')\n",
    "df = df.join(df_ics12, how='outer')\n",
    "df['ICS_Q4'] = df['ICS_Q4'].fillna(method='ffill')\n",
    "df = df.join(df_bp3)\n",
    "df = df.join(df_bp6)\n",
    "df = df.join(df_bp9)\n",
    "df = df.join(df_bp12)\n",
    "df=df.dropna()\n",
    "df.tail()"
   ]
  },
  {
   "cell_type": "code",
   "execution_count": 35,
   "metadata": {},
   "outputs": [],
   "source": [
    "df1 = pd.read_csv('Desktop/G_blog/Sp500.csv', usecols=['Date', 'Adj Close'], index_col = 'Date', parse_dates=True)"
   ]
  },
  {
   "cell_type": "code",
   "execution_count": 36,
   "metadata": {},
   "outputs": [
    {
     "data": {
      "text/html": [
       "<div>\n",
       "<style scoped>\n",
       "    .dataframe tbody tr th:only-of-type {\n",
       "        vertical-align: middle;\n",
       "    }\n",
       "\n",
       "    .dataframe tbody tr th {\n",
       "        vertical-align: top;\n",
       "    }\n",
       "\n",
       "    .dataframe thead th {\n",
       "        text-align: right;\n",
       "    }\n",
       "</style>\n",
       "<table border=\"1\" class=\"dataframe\">\n",
       "  <thead>\n",
       "    <tr style=\"text-align: right;\">\n",
       "      <th></th>\n",
       "      <th>Adj Close</th>\n",
       "    </tr>\n",
       "    <tr>\n",
       "      <th>Date</th>\n",
       "      <th></th>\n",
       "    </tr>\n",
       "  </thead>\n",
       "  <tbody>\n",
       "    <tr>\n",
       "      <th>1951-01-01</th>\n",
       "      <td>21.660000</td>\n",
       "    </tr>\n",
       "    <tr>\n",
       "      <th>1951-02-01</th>\n",
       "      <td>21.799999</td>\n",
       "    </tr>\n",
       "    <tr>\n",
       "      <th>1951-03-01</th>\n",
       "      <td>21.400000</td>\n",
       "    </tr>\n",
       "    <tr>\n",
       "      <th>1951-04-01</th>\n",
       "      <td>22.430000</td>\n",
       "    </tr>\n",
       "    <tr>\n",
       "      <th>1951-05-01</th>\n",
       "      <td>21.520000</td>\n",
       "    </tr>\n",
       "  </tbody>\n",
       "</table>\n",
       "</div>"
      ],
      "text/plain": [
       "            Adj Close\n",
       "Date                 \n",
       "1951-01-01  21.660000\n",
       "1951-02-01  21.799999\n",
       "1951-03-01  21.400000\n",
       "1951-04-01  22.430000\n",
       "1951-05-01  21.520000"
      ]
     },
     "execution_count": 36,
     "metadata": {},
     "output_type": "execute_result"
    }
   ],
   "source": [
    "df1.head()"
   ]
  },
  {
   "cell_type": "code",
   "execution_count": 37,
   "metadata": {},
   "outputs": [],
   "source": [
    "df = df.join(df1, how='outer')\n",
    "df['Adj Close'] = df['Adj Close'].fillna(method='ffill')\n",
    "df = df.dropna()"
   ]
  },
  {
   "cell_type": "code",
   "execution_count": 38,
   "metadata": {},
   "outputs": [
    {
     "data": {
      "text/html": [
       "<div>\n",
       "<style scoped>\n",
       "    .dataframe tbody tr th:only-of-type {\n",
       "        vertical-align: middle;\n",
       "    }\n",
       "\n",
       "    .dataframe tbody tr th {\n",
       "        vertical-align: top;\n",
       "    }\n",
       "\n",
       "    .dataframe thead th {\n",
       "        text-align: right;\n",
       "    }\n",
       "</style>\n",
       "<table border=\"1\" class=\"dataframe\">\n",
       "  <thead>\n",
       "    <tr style=\"text-align: right;\">\n",
       "      <th></th>\n",
       "      <th>GDP_Q1</th>\n",
       "      <th>GDP_Q2</th>\n",
       "      <th>GDP_Q3</th>\n",
       "      <th>GDP_Q4</th>\n",
       "      <th>ICS_Q1</th>\n",
       "      <th>ICS_Q2</th>\n",
       "      <th>ICS_Q3</th>\n",
       "      <th>ICS_Q4</th>\n",
       "      <th>BP_Q1</th>\n",
       "      <th>BP_Q2</th>\n",
       "      <th>BP_Q3</th>\n",
       "      <th>BP_Q4</th>\n",
       "      <th>Adj Close</th>\n",
       "    </tr>\n",
       "    <tr>\n",
       "      <th>Date</th>\n",
       "      <th></th>\n",
       "      <th></th>\n",
       "      <th></th>\n",
       "      <th></th>\n",
       "      <th></th>\n",
       "      <th></th>\n",
       "      <th></th>\n",
       "      <th></th>\n",
       "      <th></th>\n",
       "      <th></th>\n",
       "      <th></th>\n",
       "      <th></th>\n",
       "      <th></th>\n",
       "    </tr>\n",
       "  </thead>\n",
       "  <tbody>\n",
       "    <tr>\n",
       "      <th>2016-04-01</th>\n",
       "      <td>0.565599</td>\n",
       "      <td>0.952445</td>\n",
       "      <td>1.053306</td>\n",
       "      <td>1.295951</td>\n",
       "      <td>-0.763359</td>\n",
       "      <td>-1.086957</td>\n",
       "      <td>-1.727862</td>\n",
       "      <td>-0.328587</td>\n",
       "      <td>5.063291</td>\n",
       "      <td>-2.761506</td>\n",
       "      <td>-1.441900</td>\n",
       "      <td>-4.519310</td>\n",
       "      <td>6.445597</td>\n",
       "    </tr>\n",
       "    <tr>\n",
       "      <th>2016-07-01</th>\n",
       "      <td>0.477906</td>\n",
       "      <td>1.046208</td>\n",
       "      <td>1.434904</td>\n",
       "      <td>1.536247</td>\n",
       "      <td>-1.267159</td>\n",
       "      <td>5.056180</td>\n",
       "      <td>2.747253</td>\n",
       "      <td>1.962923</td>\n",
       "      <td>-0.753769</td>\n",
       "      <td>-0.587248</td>\n",
       "      <td>1.979346</td>\n",
       "      <td>7.142857</td>\n",
       "      <td>5.243792</td>\n",
       "    </tr>\n",
       "    <tr>\n",
       "      <th>2016-10-01</th>\n",
       "      <td>0.437574</td>\n",
       "      <td>0.917572</td>\n",
       "      <td>1.488361</td>\n",
       "      <td>1.878757</td>\n",
       "      <td>1.559020</td>\n",
       "      <td>1.333333</td>\n",
       "      <td>-2.459893</td>\n",
       "      <td>-3.695882</td>\n",
       "      <td>0.000000</td>\n",
       "      <td>6.778243</td>\n",
       "      <td>7.679325</td>\n",
       "      <td>6.867672</td>\n",
       "      <td>-2.183023</td>\n",
       "    </tr>\n",
       "    <tr>\n",
       "      <th>2017-01-01</th>\n",
       "      <td>0.443304</td>\n",
       "      <td>0.882818</td>\n",
       "      <td>1.364944</td>\n",
       "      <td>1.938263</td>\n",
       "      <td>4.690832</td>\n",
       "      <td>12.614679</td>\n",
       "      <td>7.675439</td>\n",
       "      <td>9.354120</td>\n",
       "      <td>5.225653</td>\n",
       "      <td>6.405124</td>\n",
       "      <td>4.153605</td>\n",
       "      <td>4.153605</td>\n",
       "      <td>7.182947</td>\n",
       "    </tr>\n",
       "    <tr>\n",
       "      <th>2017-04-01</th>\n",
       "      <td>0.739668</td>\n",
       "      <td>1.186251</td>\n",
       "      <td>1.629016</td>\n",
       "      <td>2.114707</td>\n",
       "      <td>0.623053</td>\n",
       "      <td>-1.624365</td>\n",
       "      <td>-1.323829</td>\n",
       "      <td>3.304904</td>\n",
       "      <td>-1.876466</td>\n",
       "      <td>0.560897</td>\n",
       "      <td>-5.568096</td>\n",
       "      <td>-0.633413</td>\n",
       "      <td>4.622020</td>\n",
       "    </tr>\n",
       "    <tr>\n",
       "      <th>2017-07-01</th>\n",
       "      <td>0.698483</td>\n",
       "      <td>1.443317</td>\n",
       "      <td>1.893019</td>\n",
       "      <td>2.338877</td>\n",
       "      <td>-2.162719</td>\n",
       "      <td>-2.061856</td>\n",
       "      <td>-1.960784</td>\n",
       "      <td>-1.349948</td>\n",
       "      <td>-4.115854</td>\n",
       "      <td>4.398340</td>\n",
       "      <td>0.239044</td>\n",
       "      <td>-1.641908</td>\n",
       "      <td>3.611278</td>\n",
       "    </tr>\n",
       "    <tr>\n",
       "      <th>2017-10-01</th>\n",
       "      <td>0.567937</td>\n",
       "      <td>1.270387</td>\n",
       "      <td>2.019451</td>\n",
       "      <td>2.471707</td>\n",
       "      <td>-1.756198</td>\n",
       "      <td>1.820128</td>\n",
       "      <td>0.105263</td>\n",
       "      <td>-2.059732</td>\n",
       "      <td>7.097289</td>\n",
       "      <td>3.307692</td>\n",
       "      <td>6.756757</td>\n",
       "      <td>2.362805</td>\n",
       "      <td>4.248875</td>\n",
       "    </tr>\n",
       "    <tr>\n",
       "      <th>2018-01-01</th>\n",
       "      <td>0.549859</td>\n",
       "      <td>1.120919</td>\n",
       "      <td>1.827231</td>\n",
       "      <td>2.580414</td>\n",
       "      <td>-2.639594</td>\n",
       "      <td>-4.766634</td>\n",
       "      <td>0.841220</td>\n",
       "      <td>-0.929752</td>\n",
       "      <td>3.484848</td>\n",
       "      <td>3.250189</td>\n",
       "      <td>1.712584</td>\n",
       "      <td>8.931419</td>\n",
       "      <td>9.651455</td>\n",
       "    </tr>\n",
       "    <tr>\n",
       "      <th>2018-04-01</th>\n",
       "      <td>1.023867</td>\n",
       "      <td>1.579356</td>\n",
       "      <td>2.156263</td>\n",
       "      <td>2.869807</td>\n",
       "      <td>1.705115</td>\n",
       "      <td>5.956113</td>\n",
       "      <td>5.735141</td>\n",
       "      <td>2.944162</td>\n",
       "      <td>-0.944081</td>\n",
       "      <td>3.099017</td>\n",
       "      <td>-0.146413</td>\n",
       "      <td>3.333333</td>\n",
       "      <td>-6.224215</td>\n",
       "    </tr>\n",
       "    <tr>\n",
       "      <th>2018-07-01</th>\n",
       "      <td>0.828654</td>\n",
       "      <td>1.861006</td>\n",
       "      <td>2.421098</td>\n",
       "      <td>3.002785</td>\n",
       "      <td>0.204082</td>\n",
       "      <td>-0.607287</td>\n",
       "      <td>-3.155819</td>\n",
       "      <td>-1.504514</td>\n",
       "      <td>0.851393</td>\n",
       "      <td>0.153728</td>\n",
       "      <td>-4.472141</td>\n",
       "      <td>-5.374001</td>\n",
       "      <td>6.353354</td>\n",
       "    </tr>\n",
       "  </tbody>\n",
       "</table>\n",
       "</div>"
      ],
      "text/plain": [
       "              GDP_Q1    GDP_Q2    GDP_Q3    GDP_Q4    ICS_Q1     ICS_Q2  \\\n",
       "Date                                                                      \n",
       "2016-04-01  0.565599  0.952445  1.053306  1.295951 -0.763359  -1.086957   \n",
       "2016-07-01  0.477906  1.046208  1.434904  1.536247 -1.267159   5.056180   \n",
       "2016-10-01  0.437574  0.917572  1.488361  1.878757  1.559020   1.333333   \n",
       "2017-01-01  0.443304  0.882818  1.364944  1.938263  4.690832  12.614679   \n",
       "2017-04-01  0.739668  1.186251  1.629016  2.114707  0.623053  -1.624365   \n",
       "2017-07-01  0.698483  1.443317  1.893019  2.338877 -2.162719  -2.061856   \n",
       "2017-10-01  0.567937  1.270387  2.019451  2.471707 -1.756198   1.820128   \n",
       "2018-01-01  0.549859  1.120919  1.827231  2.580414 -2.639594  -4.766634   \n",
       "2018-04-01  1.023867  1.579356  2.156263  2.869807  1.705115   5.956113   \n",
       "2018-07-01  0.828654  1.861006  2.421098  3.002785  0.204082  -0.607287   \n",
       "\n",
       "              ICS_Q3    ICS_Q4     BP_Q1     BP_Q2     BP_Q3     BP_Q4  \\\n",
       "Date                                                                     \n",
       "2016-04-01 -1.727862 -0.328587  5.063291 -2.761506 -1.441900 -4.519310   \n",
       "2016-07-01  2.747253  1.962923 -0.753769 -0.587248  1.979346  7.142857   \n",
       "2016-10-01 -2.459893 -3.695882  0.000000  6.778243  7.679325  6.867672   \n",
       "2017-01-01  7.675439  9.354120  5.225653  6.405124  4.153605  4.153605   \n",
       "2017-04-01 -1.323829  3.304904 -1.876466  0.560897 -5.568096 -0.633413   \n",
       "2017-07-01 -1.960784 -1.349948 -4.115854  4.398340  0.239044 -1.641908   \n",
       "2017-10-01  0.105263 -2.059732  7.097289  3.307692  6.756757  2.362805   \n",
       "2018-01-01  0.841220 -0.929752  3.484848  3.250189  1.712584  8.931419   \n",
       "2018-04-01  5.735141  2.944162 -0.944081  3.099017 -0.146413  3.333333   \n",
       "2018-07-01 -3.155819 -1.504514  0.851393  0.153728 -4.472141 -5.374001   \n",
       "\n",
       "            Adj Close  \n",
       "Date                   \n",
       "2016-04-01   6.445597  \n",
       "2016-07-01   5.243792  \n",
       "2016-10-01  -2.183023  \n",
       "2017-01-01   7.182947  \n",
       "2017-04-01   4.622020  \n",
       "2017-07-01   3.611278  \n",
       "2017-10-01   4.248875  \n",
       "2018-01-01   9.651455  \n",
       "2018-04-01  -6.224215  \n",
       "2018-07-01   6.353354  "
      ]
     },
     "execution_count": 38,
     "metadata": {},
     "output_type": "execute_result"
    }
   ],
   "source": [
    "df['Adj Close'] = (df['Adj Close'] / df['Adj Close'].shift(1) - 1) * 100\n",
    "df.tail(10)"
   ]
  },
  {
   "cell_type": "code",
   "execution_count": 39,
   "metadata": {},
   "outputs": [
    {
     "data": {
      "text/html": [
       "<div>\n",
       "<style scoped>\n",
       "    .dataframe tbody tr th:only-of-type {\n",
       "        vertical-align: middle;\n",
       "    }\n",
       "\n",
       "    .dataframe tbody tr th {\n",
       "        vertical-align: top;\n",
       "    }\n",
       "\n",
       "    .dataframe thead th {\n",
       "        text-align: right;\n",
       "    }\n",
       "</style>\n",
       "<table border=\"1\" class=\"dataframe\">\n",
       "  <thead>\n",
       "    <tr style=\"text-align: right;\">\n",
       "      <th></th>\n",
       "      <th>GDP_Q1</th>\n",
       "      <th>GDP_Q2</th>\n",
       "      <th>GDP_Q3</th>\n",
       "      <th>GDP_Q4</th>\n",
       "      <th>ICS_Q1</th>\n",
       "      <th>ICS_Q2</th>\n",
       "      <th>ICS_Q3</th>\n",
       "      <th>ICS_Q4</th>\n",
       "      <th>BP_Q1</th>\n",
       "      <th>BP_Q2</th>\n",
       "      <th>BP_Q3</th>\n",
       "      <th>BP_Q4</th>\n",
       "      <th>Adj Close</th>\n",
       "    </tr>\n",
       "    <tr>\n",
       "      <th>Date</th>\n",
       "      <th></th>\n",
       "      <th></th>\n",
       "      <th></th>\n",
       "      <th></th>\n",
       "      <th></th>\n",
       "      <th></th>\n",
       "      <th></th>\n",
       "      <th></th>\n",
       "      <th></th>\n",
       "      <th></th>\n",
       "      <th></th>\n",
       "      <th></th>\n",
       "      <th></th>\n",
       "    </tr>\n",
       "  </thead>\n",
       "  <tbody>\n",
       "    <tr>\n",
       "      <th>1960-07-01</th>\n",
       "      <td>0.489275</td>\n",
       "      <td>-0.052751</td>\n",
       "      <td>2.193361</td>\n",
       "      <td>2.484652</td>\n",
       "      <td>-6.700000</td>\n",
       "      <td>-0.533049</td>\n",
       "      <td>-2.098636</td>\n",
       "      <td>2.753304</td>\n",
       "      <td>4.279749</td>\n",
       "      <td>-5.038023</td>\n",
       "      <td>-1.673228</td>\n",
       "      <td>4.607330</td>\n",
       "      <td>-3.819130</td>\n",
       "    </tr>\n",
       "    <tr>\n",
       "      <th>1960-10-01</th>\n",
       "      <td>-1.283434</td>\n",
       "      <td>-0.800439</td>\n",
       "      <td>-1.335508</td>\n",
       "      <td>0.881777</td>\n",
       "      <td>4.180064</td>\n",
       "      <td>-2.800000</td>\n",
       "      <td>3.624733</td>\n",
       "      <td>1.993704</td>\n",
       "      <td>-1.219512</td>\n",
       "      <td>-2.213280</td>\n",
       "      <td>-2.702703</td>\n",
       "      <td>1.461378</td>\n",
       "      <td>15.714554</td>\n",
       "    </tr>\n",
       "    <tr>\n",
       "      <th>1961-01-01</th>\n",
       "      <td>0.675029</td>\n",
       "      <td>-0.617068</td>\n",
       "      <td>-0.130813</td>\n",
       "      <td>-0.669494</td>\n",
       "      <td>-7.304527</td>\n",
       "      <td>-3.429796</td>\n",
       "      <td>-9.900000</td>\n",
       "      <td>-3.944563</td>\n",
       "      <td>1.892744</td>\n",
       "      <td>-1.021450</td>\n",
       "      <td>-0.308642</td>\n",
       "      <td>-1.524390</td>\n",
       "      <td>5.713822</td>\n",
       "    </tr>\n",
       "    <tr>\n",
       "      <th>1961-04-01</th>\n",
       "      <td>1.697479</td>\n",
       "      <td>2.383966</td>\n",
       "      <td>1.069936</td>\n",
       "      <td>1.564445</td>\n",
       "      <td>1.664817</td>\n",
       "      <td>-5.761317</td>\n",
       "      <td>-1.822079</td>\n",
       "      <td>-8.400000</td>\n",
       "      <td>0.200000</td>\n",
       "      <td>4.266389</td>\n",
       "      <td>3.405573</td>\n",
       "      <td>5.362776</td>\n",
       "      <td>2.220187</td>\n",
       "    </tr>\n",
       "    <tr>\n",
       "      <th>1961-07-01</th>\n",
       "      <td>1.919639</td>\n",
       "      <td>3.649703</td>\n",
       "      <td>4.349369</td>\n",
       "      <td>3.010114</td>\n",
       "      <td>0.982533</td>\n",
       "      <td>2.663707</td>\n",
       "      <td>-4.835391</td>\n",
       "      <td>-0.857449</td>\n",
       "      <td>1.214953</td>\n",
       "      <td>5.452775</td>\n",
       "      <td>8.083832</td>\n",
       "      <td>8.300000</td>\n",
       "      <td>2.786101</td>\n",
       "    </tr>\n",
       "    <tr>\n",
       "      <th>1961-10-01</th>\n",
       "      <td>1.961109</td>\n",
       "      <td>3.918395</td>\n",
       "      <td>5.682387</td>\n",
       "      <td>6.395774</td>\n",
       "      <td>7.243243</td>\n",
       "      <td>8.296943</td>\n",
       "      <td>10.099889</td>\n",
       "      <td>2.057613</td>\n",
       "      <td>2.276867</td>\n",
       "      <td>-3.106126</td>\n",
       "      <td>3.693444</td>\n",
       "      <td>4.953271</td>\n",
       "      <td>0.320596</td>\n",
       "    </tr>\n",
       "    <tr>\n",
       "      <th>1962-01-01</th>\n",
       "      <td>1.783599</td>\n",
       "      <td>3.779687</td>\n",
       "      <td>5.771883</td>\n",
       "      <td>7.567338</td>\n",
       "      <td>-6.250000</td>\n",
       "      <td>0.540541</td>\n",
       "      <td>1.528384</td>\n",
       "      <td>3.218646</td>\n",
       "      <td>-3.359173</td>\n",
       "      <td>-2.604167</td>\n",
       "      <td>-0.089047</td>\n",
       "      <td>2.185792</td>\n",
       "      <td>-5.229515</td>\n",
       "    </tr>\n",
       "    <tr>\n",
       "      <th>1962-04-01</th>\n",
       "      <td>0.903672</td>\n",
       "      <td>2.703389</td>\n",
       "      <td>4.717515</td>\n",
       "      <td>6.727713</td>\n",
       "      <td>7.419355</td>\n",
       "      <td>0.705645</td>\n",
       "      <td>8.000000</td>\n",
       "      <td>9.061135</td>\n",
       "      <td>8.906526</td>\n",
       "      <td>3.433836</td>\n",
       "      <td>10.071301</td>\n",
       "      <td>6.373816</td>\n",
       "      <td>-10.744939</td>\n",
       "    </tr>\n",
       "    <tr>\n",
       "      <th>1962-07-01</th>\n",
       "      <td>1.228508</td>\n",
       "      <td>2.143281</td>\n",
       "      <td>3.965108</td>\n",
       "      <td>6.003977</td>\n",
       "      <td>-4.504505</td>\n",
       "      <td>2.580645</td>\n",
       "      <td>-3.830645</td>\n",
       "      <td>3.135135</td>\n",
       "      <td>3.032929</td>\n",
       "      <td>4.115587</td>\n",
       "      <td>-3.724696</td>\n",
       "      <td>4.850088</td>\n",
       "      <td>-2.936631</td>\n",
       "    </tr>\n",
       "    <tr>\n",
       "      <th>1962-10-01</th>\n",
       "      <td>0.328861</td>\n",
       "      <td>1.561409</td>\n",
       "      <td>2.479190</td>\n",
       "      <td>4.307008</td>\n",
       "      <td>-3.983229</td>\n",
       "      <td>-8.308308</td>\n",
       "      <td>-1.505376</td>\n",
       "      <td>-7.661290</td>\n",
       "      <td>-3.434178</td>\n",
       "      <td>-1.583333</td>\n",
       "      <td>-0.672834</td>\n",
       "      <td>2.339688</td>\n",
       "      <td>17.126676</td>\n",
       "    </tr>\n",
       "  </tbody>\n",
       "</table>\n",
       "</div>"
      ],
      "text/plain": [
       "              GDP_Q1    GDP_Q2    GDP_Q3    GDP_Q4    ICS_Q1    ICS_Q2  \\\n",
       "Date                                                                     \n",
       "1960-07-01  0.489275 -0.052751  2.193361  2.484652 -6.700000 -0.533049   \n",
       "1960-10-01 -1.283434 -0.800439 -1.335508  0.881777  4.180064 -2.800000   \n",
       "1961-01-01  0.675029 -0.617068 -0.130813 -0.669494 -7.304527 -3.429796   \n",
       "1961-04-01  1.697479  2.383966  1.069936  1.564445  1.664817 -5.761317   \n",
       "1961-07-01  1.919639  3.649703  4.349369  3.010114  0.982533  2.663707   \n",
       "1961-10-01  1.961109  3.918395  5.682387  6.395774  7.243243  8.296943   \n",
       "1962-01-01  1.783599  3.779687  5.771883  7.567338 -6.250000  0.540541   \n",
       "1962-04-01  0.903672  2.703389  4.717515  6.727713  7.419355  0.705645   \n",
       "1962-07-01  1.228508  2.143281  3.965108  6.003977 -4.504505  2.580645   \n",
       "1962-10-01  0.328861  1.561409  2.479190  4.307008 -3.983229 -8.308308   \n",
       "\n",
       "               ICS_Q3    ICS_Q4     BP_Q1     BP_Q2      BP_Q3     BP_Q4  \\\n",
       "Date                                                                       \n",
       "1960-07-01  -2.098636  2.753304  4.279749 -5.038023  -1.673228  4.607330   \n",
       "1960-10-01   3.624733  1.993704 -1.219512 -2.213280  -2.702703  1.461378   \n",
       "1961-01-01  -9.900000 -3.944563  1.892744 -1.021450  -0.308642 -1.524390   \n",
       "1961-04-01  -1.822079 -8.400000  0.200000  4.266389   3.405573  5.362776   \n",
       "1961-07-01  -4.835391 -0.857449  1.214953  5.452775   8.083832  8.300000   \n",
       "1961-10-01  10.099889  2.057613  2.276867 -3.106126   3.693444  4.953271   \n",
       "1962-01-01   1.528384  3.218646 -3.359173 -2.604167  -0.089047  2.185792   \n",
       "1962-04-01   8.000000  9.061135  8.906526  3.433836  10.071301  6.373816   \n",
       "1962-07-01  -3.830645  3.135135  3.032929  4.115587  -3.724696  4.850088   \n",
       "1962-10-01  -1.505376 -7.661290 -3.434178 -1.583333  -0.672834  2.339688   \n",
       "\n",
       "            Adj Close  \n",
       "Date                   \n",
       "1960-07-01  -3.819130  \n",
       "1960-10-01  15.714554  \n",
       "1961-01-01   5.713822  \n",
       "1961-04-01   2.220187  \n",
       "1961-07-01   2.786101  \n",
       "1961-10-01   0.320596  \n",
       "1962-01-01  -5.229515  \n",
       "1962-04-01 -10.744939  \n",
       "1962-07-01  -2.936631  \n",
       "1962-10-01  17.126676  "
      ]
     },
     "execution_count": 39,
     "metadata": {},
     "output_type": "execute_result"
    }
   ],
   "source": [
    "df['Adj Close'] = df['Adj Close'].shift(-1)\n",
    "df = df.dropna()\n",
    "df.head(10)"
   ]
  },
  {
   "cell_type": "code",
   "execution_count": 40,
   "metadata": {},
   "outputs": [
    {
     "data": {
      "text/html": [
       "<div>\n",
       "<style scoped>\n",
       "    .dataframe tbody tr th:only-of-type {\n",
       "        vertical-align: middle;\n",
       "    }\n",
       "\n",
       "    .dataframe tbody tr th {\n",
       "        vertical-align: top;\n",
       "    }\n",
       "\n",
       "    .dataframe thead th {\n",
       "        text-align: right;\n",
       "    }\n",
       "</style>\n",
       "<table border=\"1\" class=\"dataframe\">\n",
       "  <thead>\n",
       "    <tr style=\"text-align: right;\">\n",
       "      <th></th>\n",
       "      <th>GDP_Q1</th>\n",
       "      <th>GDP_Q2</th>\n",
       "      <th>GDP_Q3</th>\n",
       "      <th>GDP_Q4</th>\n",
       "      <th>ICS_Q1</th>\n",
       "      <th>ICS_Q2</th>\n",
       "      <th>ICS_Q3</th>\n",
       "      <th>ICS_Q4</th>\n",
       "      <th>BP_Q1</th>\n",
       "      <th>BP_Q2</th>\n",
       "      <th>BP_Q3</th>\n",
       "      <th>BP_Q4</th>\n",
       "      <th>Adj Close</th>\n",
       "    </tr>\n",
       "    <tr>\n",
       "      <th>Date</th>\n",
       "      <th></th>\n",
       "      <th></th>\n",
       "      <th></th>\n",
       "      <th></th>\n",
       "      <th></th>\n",
       "      <th></th>\n",
       "      <th></th>\n",
       "      <th></th>\n",
       "      <th></th>\n",
       "      <th></th>\n",
       "      <th></th>\n",
       "      <th></th>\n",
       "      <th></th>\n",
       "    </tr>\n",
       "  </thead>\n",
       "  <tbody>\n",
       "    <tr>\n",
       "      <th>1960-07-01</th>\n",
       "      <td>0.489275</td>\n",
       "      <td>-0.052751</td>\n",
       "      <td>2.193361</td>\n",
       "      <td>2.484652</td>\n",
       "      <td>-6.700000</td>\n",
       "      <td>-0.533049</td>\n",
       "      <td>-2.098636</td>\n",
       "      <td>2.753304</td>\n",
       "      <td>4.279749</td>\n",
       "      <td>-5.038023</td>\n",
       "      <td>-1.673228</td>\n",
       "      <td>4.607330</td>\n",
       "      <td>-3.819130</td>\n",
       "    </tr>\n",
       "    <tr>\n",
       "      <th>1960-10-01</th>\n",
       "      <td>-1.283434</td>\n",
       "      <td>-0.800439</td>\n",
       "      <td>-1.335508</td>\n",
       "      <td>0.881777</td>\n",
       "      <td>4.180064</td>\n",
       "      <td>-2.800000</td>\n",
       "      <td>3.624733</td>\n",
       "      <td>1.993704</td>\n",
       "      <td>-1.219512</td>\n",
       "      <td>-2.213280</td>\n",
       "      <td>-2.702703</td>\n",
       "      <td>1.461378</td>\n",
       "      <td>15.714554</td>\n",
       "    </tr>\n",
       "    <tr>\n",
       "      <th>1961-01-01</th>\n",
       "      <td>0.675029</td>\n",
       "      <td>-0.617068</td>\n",
       "      <td>-0.130813</td>\n",
       "      <td>-0.669494</td>\n",
       "      <td>-7.304527</td>\n",
       "      <td>-3.429796</td>\n",
       "      <td>-9.900000</td>\n",
       "      <td>-3.944563</td>\n",
       "      <td>1.892744</td>\n",
       "      <td>-1.021450</td>\n",
       "      <td>-0.308642</td>\n",
       "      <td>-1.524390</td>\n",
       "      <td>5.713822</td>\n",
       "    </tr>\n",
       "    <tr>\n",
       "      <th>1961-04-01</th>\n",
       "      <td>1.697479</td>\n",
       "      <td>2.383966</td>\n",
       "      <td>1.069936</td>\n",
       "      <td>1.564445</td>\n",
       "      <td>1.664817</td>\n",
       "      <td>-5.761317</td>\n",
       "      <td>-1.822079</td>\n",
       "      <td>-8.400000</td>\n",
       "      <td>0.200000</td>\n",
       "      <td>4.266389</td>\n",
       "      <td>3.405573</td>\n",
       "      <td>5.362776</td>\n",
       "      <td>2.220187</td>\n",
       "    </tr>\n",
       "    <tr>\n",
       "      <th>1961-07-01</th>\n",
       "      <td>1.919639</td>\n",
       "      <td>3.649703</td>\n",
       "      <td>4.349369</td>\n",
       "      <td>3.010114</td>\n",
       "      <td>0.982533</td>\n",
       "      <td>2.663707</td>\n",
       "      <td>-4.835391</td>\n",
       "      <td>-0.857449</td>\n",
       "      <td>1.214953</td>\n",
       "      <td>5.452775</td>\n",
       "      <td>8.083832</td>\n",
       "      <td>8.300000</td>\n",
       "      <td>2.786101</td>\n",
       "    </tr>\n",
       "  </tbody>\n",
       "</table>\n",
       "</div>"
      ],
      "text/plain": [
       "              GDP_Q1    GDP_Q2    GDP_Q3    GDP_Q4    ICS_Q1    ICS_Q2  \\\n",
       "Date                                                                     \n",
       "1960-07-01  0.489275 -0.052751  2.193361  2.484652 -6.700000 -0.533049   \n",
       "1960-10-01 -1.283434 -0.800439 -1.335508  0.881777  4.180064 -2.800000   \n",
       "1961-01-01  0.675029 -0.617068 -0.130813 -0.669494 -7.304527 -3.429796   \n",
       "1961-04-01  1.697479  2.383966  1.069936  1.564445  1.664817 -5.761317   \n",
       "1961-07-01  1.919639  3.649703  4.349369  3.010114  0.982533  2.663707   \n",
       "\n",
       "              ICS_Q3    ICS_Q4     BP_Q1     BP_Q2     BP_Q3     BP_Q4  \\\n",
       "Date                                                                     \n",
       "1960-07-01 -2.098636  2.753304  4.279749 -5.038023 -1.673228  4.607330   \n",
       "1960-10-01  3.624733  1.993704 -1.219512 -2.213280 -2.702703  1.461378   \n",
       "1961-01-01 -9.900000 -3.944563  1.892744 -1.021450 -0.308642 -1.524390   \n",
       "1961-04-01 -1.822079 -8.400000  0.200000  4.266389  3.405573  5.362776   \n",
       "1961-07-01 -4.835391 -0.857449  1.214953  5.452775  8.083832  8.300000   \n",
       "\n",
       "            Adj Close  \n",
       "Date                   \n",
       "1960-07-01  -3.819130  \n",
       "1960-10-01  15.714554  \n",
       "1961-01-01   5.713822  \n",
       "1961-04-01   2.220187  \n",
       "1961-07-01   2.786101  "
      ]
     },
     "execution_count": 40,
     "metadata": {},
     "output_type": "execute_result"
    }
   ],
   "source": [
    "df.head()"
   ]
  },
  {
   "cell_type": "code",
   "execution_count": 41,
   "metadata": {},
   "outputs": [],
   "source": [
    "basis_Y = df['Adj Close']\n",
    "df = df.drop(['Adj Close'], axis=1)\n",
    "basis_X = df"
   ]
  },
  {
   "cell_type": "code",
   "execution_count": 42,
   "metadata": {},
   "outputs": [],
   "source": [
    "from sklearn.preprocessing import StandardScaler\n",
    "mms = StandardScaler()\n",
    "basis_X = pd.DataFrame(mms.fit_transform(basis_X))"
   ]
  },
  {
   "cell_type": "code",
   "execution_count": 43,
   "metadata": {},
   "outputs": [
    {
     "name": "stdout",
     "output_type": "stream",
     "text": [
      "(232, 12)\n"
     ]
    }
   ],
   "source": [
    "print (basis_X.shape)"
   ]
  },
  {
   "cell_type": "code",
   "execution_count": 44,
   "metadata": {},
   "outputs": [],
   "source": [
    "from sklearn.model_selection import train_test_split"
   ]
  },
  {
   "cell_type": "code",
   "execution_count": 45,
   "metadata": {},
   "outputs": [
    {
     "name": "stdout",
     "output_type": "stream",
     "text": [
      "\n",
      "basis_X_train:\n",
      "\n",
      "         0         1         2         3        4         5         6   \\\n",
      "0 -0.324049 -1.161734 -0.048333 -0.254286 -1.17298 -0.085854 -0.275139   \n",
      "\n",
      "         7         8         9         10        11  \n",
      "0  0.217552  0.690601 -0.630727 -0.227982  0.346361  \n",
      "          0         1         2         3         4         5        6   \\\n",
      "184 -0.73219 -0.833785 -0.304096 -0.306665  1.199607 -0.390865 -0.54503   \n",
      "\n",
      "           7         8         9         10        11  \n",
      "184 -0.258286 -0.790187 -0.918477 -1.217423 -1.407121  \n",
      "(185, 12)\n",
      "\n",
      "basis_X_test:\n",
      "\n",
      "           0         1         2        3         4         5         6   \\\n",
      "185  0.118179 -0.373841 -0.565894 -0.20727  0.660899  0.092315  0.026989   \n",
      "\n",
      "           7         8         9         10        11  \n",
      "185  0.731015 -0.724871 -1.081985 -1.137539 -1.337106  \n",
      "           0         1         2         3         4         5         6   \\\n",
      "231  0.327958  0.050755 -0.068555 -0.083537  0.248141  0.764581  0.605511   \n",
      "\n",
      "           7         8         9         10        11  \n",
      "231  0.236357 -0.094703  0.338389 -0.078238  0.241817  \n",
      "(47, 12)\n"
     ]
    }
   ],
   "source": [
    "basis_X_train, basis_X_test, basis_Y_train, basis_Y_test = train_test_split(basis_X, basis_Y, shuffle=False, test_size=0.2)\n",
    "print(\"\\nbasis_X_train:\\n\")\n",
    "print(basis_X_train.head(1))\n",
    "print(basis_X_train.tail(1))\n",
    "print(basis_X_train.shape)\n",
    "\n",
    "print(\"\\nbasis_X_test:\\n\")\n",
    "print(basis_X_test.head(1))\n",
    "print(basis_X_test.tail(1))\n",
    "print(basis_X_test.shape)"
   ]
  },
  {
   "cell_type": "code",
   "execution_count": 46,
   "metadata": {},
   "outputs": [
    {
     "data": {
      "text/plain": [
       "(185, 12)"
      ]
     },
     "execution_count": 46,
     "metadata": {},
     "output_type": "execute_result"
    }
   ],
   "source": [
    "basis_X_train.shape"
   ]
  },
  {
   "cell_type": "code",
   "execution_count": 47,
   "metadata": {},
   "outputs": [
    {
     "name": "stdout",
     "output_type": "stream",
     "text": [
      "[90.37547614396786, 58.71094440845587, 60.60663604227088, 64.42857750480023, 60.32656406586592, 60.33543253288216, 57.004585961711754, 57.29367111233544, 57.30520338816999, 52.52187222491647, 54.34205496995005, 53.289615222979435, 52.84932219475144, 51.64384457543474, 49.53200518643626, 50.09224932887145, 50.665813224637404, 51.521707019660504, 50.2125022512881, 50.45482142679574, 49.28468005896904, 48.48038961828328, 48.90491567660608, 48.54413656501458, 48.706874726265056, 48.081639839254045, 48.902122717316885, 49.58094126368444, 50.03118671542882, 49.384913258711116, 49.481110751631945, 48.91050755938452, 49.375033719218685, 49.66268919031718, 50.37553761371121, 49.71630428838323, 49.68998377935914, 49.246614063485, 49.0620330344145, 48.70476419622655, 48.88163575041362, 48.27901902228104, 48.602656984808625, 48.677773980215555, 48.72065191593769, 48.99096524427054, 49.15952469304131, 49.11525989845265, 48.81355568957346, 48.79898396374405]\n",
      "[0.0, 22.626450151974115, 30.39421913247149, 32.93789919056992, 36.156882302100094, 37.2444122151963, 39.139526583090706, 40.8452436991738, 41.67438467367638, 42.14202365412811, 41.690190254102745, 41.03112235637604, 41.5612860974301, 42.18531798313529, 42.985824049950004, 43.31736281621507, 43.9889122437412, 44.12817251536341, 44.20643879133665, 44.545204649913956, 44.94095406894736, 45.365356702693155, 45.35136949685522, 45.523341234271456, 45.623968591411945, 45.46493755102931, 45.51878813588091, 45.62873868660096, 45.35987831870648, 45.17625156844255, 45.01193128563881, 44.83359457509069, 45.20374258102407, 45.159434756711434, 45.24669552700198, 45.15473600893041, 44.830046958873865, 44.494831286070344, 44.4663151684035, 44.63025368336559, 44.55939340030734, 44.53346613734228, 44.67768074584068, 44.58425841321448, 44.65685385963014, 44.856172278749334, 45.04601429202875, 45.24855508941675, 45.278006075879404, 45.24951849271778]\n"
     ]
    }
   ],
   "source": [
    "from sklearn.metrics import mean_squared_error \n",
    "from sklearn import neighbors\n",
    "rmse_val = [] #to store rmse values for different k\n",
    "rmse_val_train = []\n",
    "for K in range(50):\n",
    "    K = K+1\n",
    "    model = neighbors.KNeighborsRegressor(n_neighbors = K)\n",
    "\n",
    "    model.fit(basis_X_train, basis_Y_train)  #fit the model\n",
    "    \n",
    "    pred=model.predict(basis_X_test) #make prediction on test set\n",
    "    error = mean_squared_error(basis_Y_test,pred) #calculate rmse\n",
    "    rmse_val.append(error) #store rmse values\n",
    "    \n",
    "    pred=model.predict(basis_X_train) #make prediction on test set\n",
    "    error = mean_squared_error(basis_Y_train,pred) #calculate rmse\n",
    "    rmse_val_train.append(error) #store rmse values\n",
    "    \n",
    "    #print('RMSE value for k= ' , K , 'is:', error)\n",
    "\n",
    "print(rmse_val)\n",
    "print(rmse_val_train)"
   ]
  },
  {
   "cell_type": "code",
   "execution_count": 48,
   "metadata": {},
   "outputs": [
    {
     "data": {
      "image/png": "[encoded data removed]",
      "text/plain": [
       "<Figure size 432x288 with 1 Axes>"
      ]
     },
     "metadata": {
      "needs_background": "light"
     },
     "output_type": "display_data"
    }
   ],
   "source": [
    "import matplotlib.pyplot as plt\n",
    "%matplotlib inline\n",
    "from matplotlib import pyplot as plt\n",
    "\n",
    "plt.xlabel('n-neighbours', fontsize=18)\n",
    "plt.ylabel('Errors', fontsize=16)\n",
    "\n",
    "plt.plot(rmse_val)\n",
    "plt.plot(rmse_val_train)\n",
    "\n",
    "plt.show()"
   ]
  },
  {
   "cell_type": "code",
   "execution_count": 49,
   "metadata": {},
   "outputs": [
    {
     "name": "stdout",
     "output_type": "stream",
     "text": [
      "[70.6564037522142, 80.55308124289134, 62.40796785269119, 88.35055695593886, 79.05888522986582, 72.67056404960402, 72.90294525815423, 82.8176076280469, 101.18021082211084, 103.5412689740293, 107.21256390102148, 132.93151186852515, 107.48511700799052, 102.0281704616777, 125.19752504243141, 87.61868466579716, 118.43890484229365, 105.09502391460582, 121.96294813476894, 133.7988422599878, 128.1889835835282, 135.44411946637481, 135.79104847647034, 127.73191903951636, 103.51787542794332, 107.98973779672677, 138.7623180370584, 111.39460559771851, 107.31052362642613, 129.05979238861133, 96.3167978840779, 113.23331084640888, 101.3520605148504, 131.53445333858699, 97.6697451857943, 106.07687553750763, 114.71187881423762, 117.34610109371272, 117.84748095743242, 86.13381910410492, 101.47585726959149, 106.71506296714352, 112.03935118059682, 129.57476990657827, 111.44656748344974, 113.67033853384888, 92.4917271226869, 134.18123447936097, 98.14845186533074, 130.38533873539174]\n",
      "[43.25465067364289, 40.94804339489444, 38.73141172438152, 35.55968586457326, 33.15047196708425, 27.419787447267108, 22.875714356029462, 17.064609568831813, 12.46391195225007, 10.45670193268316, 6.659007438827396, 4.497551690648266, 2.22399736693892, 0.9721694655432137, 0.4594538200464248, 0.17566703253575833, 0.04246161662684353, 0.007597756567879011, 0.0003749350552698874, 0.0, 0.0, 0.0, 0.0, 0.0, 0.0, 0.0, 0.0, 0.0, 0.0, 0.0, 0.0, 0.0, 0.0, 0.0, 0.0, 0.0, 0.0, 0.0, 0.0, 0.0, 0.0, 0.0, 0.0, 0.0, 0.0, 0.0, 0.0, 0.0, 0.0, 0.0]\n"
     ]
    }
   ],
   "source": [
    "from sklearn import tree \n",
    "from sklearn.tree import DecisionTreeRegressor\n",
    "from sklearn.metrics import mean_squared_error\n",
    "from sklearn.model_selection import cross_val_score\n",
    "rmse_val = [] #to store rmse values for different k\n",
    "rmse_val_train = []\n",
    "for max_depth in range(1,51):\n",
    "    \n",
    "    clf = DecisionTreeRegressor(max_depth=max_depth)\n",
    "\n",
    "    clf.fit(basis_X_train, basis_Y_train)\n",
    "\n",
    "    pred=clf.predict(basis_X_test) #make prediction on test set\n",
    "    error = mean_squared_error(basis_Y_test,pred) #calculate rmse\n",
    "    rmse_val.append(error) #store rmse values\n",
    "    \n",
    "    pred=clf.predict(basis_X_train) #make prediction on test set\n",
    "    error = mean_squared_error(basis_Y_train,pred) #calculate rmse\n",
    "    rmse_val_train.append(error) #store rmse values\n",
    "    \n",
    "    #print('RMSE value for k= ' , K , 'is:', error)\n",
    "\n",
    "print(rmse_val)\n",
    "print(rmse_val_train)"
   ]
  },
  {
   "cell_type": "code",
   "execution_count": 50,
   "metadata": {},
   "outputs": [
    {
     "data": {
      "image/png": "[encoded data removed]",
      "text/plain": [
       "<Figure size 432x288 with 1 Axes>"
      ]
     },
     "metadata": {
      "needs_background": "light"
     },
     "output_type": "display_data"
    }
   ],
   "source": [
    "import matplotlib.pyplot as plt\n",
    "%matplotlib inline\n",
    "from matplotlib import pyplot as plt\n",
    "\n",
    "plt.xlabel('n-trees', fontsize=18)\n",
    "plt.ylabel('Errors', fontsize=16)\n",
    "\n",
    "plt.plot(rmse_val)\n",
    "plt.plot(rmse_val_train)\n",
    "\n",
    "plt.show()"
   ]
  },
  {
   "cell_type": "code",
   "execution_count": 51,
   "metadata": {},
   "outputs": [
    {
     "data": {
      "text/plain": [
       "Date\n",
       "1960-07-01    -3.819130\n",
       "1960-10-01    15.714554\n",
       "1961-01-01     5.713822\n",
       "1961-04-01     2.220187\n",
       "1961-07-01     2.786101\n",
       "Name: Adj Close, dtype: float64"
      ]
     },
     "execution_count": 51,
     "metadata": {},
     "output_type": "execute_result"
    }
   ],
   "source": [
    "basis_Y_train.head()"
   ]
  },
  {
   "cell_type": "code",
   "execution_count": 52,
   "metadata": {},
   "outputs": [
    {
     "data": {
      "text/plain": [
       "0     -0.324049\n",
       "1     -2.486107\n",
       "2     -0.097497\n",
       "3      1.149518\n",
       "4      1.420473\n",
       "5      1.471051\n",
       "6      1.254554\n",
       "7      0.181364\n",
       "8      0.577545\n",
       "9     -0.519696\n",
       "10     0.410574\n",
       "11     0.447795\n",
       "12     1.760491\n",
       "13    -0.121198\n",
       "14     1.650544\n",
       "15     0.407036\n",
       "16     0.984651\n",
       "17    -0.544049\n",
       "18     2.030444\n",
       "19     0.619943\n",
       "20     1.790789\n",
       "21     1.889306\n",
       "22     2.048088\n",
       "23    -0.504138\n",
       "24     0.112129\n",
       "25     0.079769\n",
       "26     0.159306\n",
       "27    -0.846058\n",
       "28     0.233150\n",
       "29    -0.001157\n",
       "         ...   \n",
       "155    0.017307\n",
       "156    0.676527\n",
       "157    1.152087\n",
       "158   -0.479571\n",
       "159    1.312566\n",
       "160   -0.757897\n",
       "161   -0.161088\n",
       "162   -1.268599\n",
       "163   -0.207841\n",
       "164   -1.426981\n",
       "165   -0.588592\n",
       "166    0.145802\n",
       "167   -0.182013\n",
       "168   -0.378571\n",
       "169   -0.731959\n",
       "170   -0.244173\n",
       "171    0.128417\n",
       "172    1.150409\n",
       "173    0.479559\n",
       "174   -0.269809\n",
       "175    0.008669\n",
       "176    0.232169\n",
       "177    0.300891\n",
       "178    0.429305\n",
       "179   -0.357850\n",
       "180    0.166316\n",
       "181   -0.150632\n",
       "182    0.701679\n",
       "183   -0.635758\n",
       "184   -0.732190\n",
       "Name: 0, Length: 185, dtype: float64"
      ]
     },
     "execution_count": 52,
     "metadata": {},
     "output_type": "execute_result"
    }
   ],
   "source": [
    "from sklearn.preprocessing import PolynomialFeatures\n",
    "from sklearn import linear_model\n",
    "\n",
    "poly_features = PolynomialFeatures(degree=2, include_bias=False)\n",
    "basis_X_train_poly = poly_features.fit_transform(basis_X_train)\n",
    "basis_X_train[0]"
   ]
  },
  {
   "cell_type": "code",
   "execution_count": 53,
   "metadata": {},
   "outputs": [
    {
     "data": {
      "text/plain": [
       "array([-0.32404948, -1.16173366, -0.0483328 , -0.25428605, -1.17297984,\n",
       "       -0.08585361, -0.27513875,  0.21755186,  0.69060098, -0.63072715,\n",
       "       -0.22798204,  0.3463608 ,  0.10500807,  0.37645919,  0.01566222,\n",
       "        0.08240126,  0.38010351,  0.02782082,  0.08915857, -0.07049757,\n",
       "       -0.22378889,  0.2043868 ,  0.07387746, -0.11223804,  1.34962509,\n",
       "        0.05614984,  0.29541266,  1.36269016,  0.09973903,  0.31963795,\n",
       "       -0.25273732, -0.80229441,  0.73273695,  0.2648544 , -0.402379  ,\n",
       "        0.00233606,  0.01229036,  0.0566934 ,  0.00414955,  0.01329823,\n",
       "       -0.01051489, -0.03337868,  0.03048481,  0.01101901, -0.01674059,\n",
       "        0.06466139,  0.2982724 ,  0.02183137,  0.06996395, -0.0553204 ,\n",
       "       -0.17561019,  0.16038511,  0.05797265, -0.08807472,  1.3758817 ,\n",
       "        0.10070455,  0.32273221, -0.25518394, -0.81006103,  0.73983022,\n",
       "        0.26741833, -0.40627424,  0.00737084,  0.02362165, -0.01867761,\n",
       "       -0.05929059,  0.0541502 ,  0.01957308, -0.02973632,  0.07570133,\n",
       "       -0.05985695, -0.19001109,  0.17353748,  0.06272669, -0.09529728,\n",
       "        0.04732881,  0.15024153, -0.13721586, -0.04959792,  0.07535144,\n",
       "        0.47692972, -0.43558079, -0.15744462,  0.23919711,  0.39781673,\n",
       "        0.14379446, -0.21845916,  0.05197581, -0.07896404,  0.11996581])"
      ]
     },
     "execution_count": 53,
     "metadata": {},
     "output_type": "execute_result"
    }
   ],
   "source": [
    "basis_X_train_poly[0]"
   ]
  },
  {
   "cell_type": "code",
   "execution_count": 54,
   "metadata": {},
   "outputs": [],
   "source": [
    "mms = StandardScaler()\n",
    "basis_X_train_poly = pd.DataFrame(mms.fit_transform(basis_X_train_poly))"
   ]
  },
  {
   "cell_type": "code",
   "execution_count": 55,
   "metadata": {},
   "outputs": [
    {
     "data": {
      "text/plain": [
       "0     -0.421064\n",
       "1     -2.525129\n",
       "2     -0.200589\n",
       "3      1.012978\n",
       "4      1.276665\n",
       "5      1.325887\n",
       "6      1.115196\n",
       "7      0.070792\n",
       "8      0.456347\n",
       "9     -0.611463\n",
       "10     0.293855\n",
       "11     0.330078\n",
       "12     1.607563\n",
       "13    -0.223654\n",
       "14     1.500565\n",
       "15     0.290412\n",
       "16     0.852533\n",
       "17    -0.635163\n",
       "18     1.870275\n",
       "19     0.497608\n",
       "20     1.637049\n",
       "21     1.732922\n",
       "22     1.887446\n",
       "23    -0.596323\n",
       "24     0.003415\n",
       "25    -0.028078\n",
       "26     0.049327\n",
       "27    -0.929071\n",
       "28     0.121190\n",
       "29    -0.106832\n",
       "         ...   \n",
       "155   -0.088864\n",
       "156    0.552674\n",
       "157    1.015478\n",
       "158   -0.572414\n",
       "159    1.171653\n",
       "160   -0.843275\n",
       "161   -0.262474\n",
       "162   -1.340278\n",
       "163   -0.307973\n",
       "164   -1.494412\n",
       "165   -0.678511\n",
       "166    0.036184\n",
       "167   -0.282838\n",
       "168   -0.474124\n",
       "169   -0.818033\n",
       "170   -0.343330\n",
       "171    0.019266\n",
       "172    1.013846\n",
       "173    0.360989\n",
       "174   -0.368279\n",
       "175   -0.097270\n",
       "176    0.120235\n",
       "177    0.187113\n",
       "178    0.312083\n",
       "179   -0.453958\n",
       "180    0.056148\n",
       "181   -0.252298\n",
       "182    0.577151\n",
       "183   -0.724412\n",
       "184   -0.818258\n",
       "Name: 0, Length: 185, dtype: float64"
      ]
     },
     "execution_count": 55,
     "metadata": {},
     "output_type": "execute_result"
    }
   ],
   "source": [
    "basis_X_train_poly[0]"
   ]
  },
  {
   "cell_type": "code",
   "execution_count": 57,
   "metadata": {},
   "outputs": [
    {
     "data": {
      "text/plain": [
       "LinearRegression(copy_X=True, fit_intercept=True, n_jobs=None,\n",
       "         normalize=False)"
      ]
     },
     "execution_count": 57,
     "metadata": {},
     "output_type": "execute_result"
    }
   ],
   "source": [
    "from sklearn.linear_model import LinearRegression\n",
    "lin_reg = LinearRegression()\n",
    "lin_reg.fit(basis_X_train_poly, basis_Y_train)"
   ]
  },
  {
   "cell_type": "code",
   "execution_count": 70,
   "metadata": {},
   "outputs": [
    {
     "name": "stdout",
     "output_type": "stream",
     "text": [
      "[48.5260898119265, 120.8088521557255, 10728.587011224432, 4396.563645103197, 3116.098192317212]\n",
      "[44.17360568786727, 21.171062734281872, 1.9348098264586926e-26, 1.2765486018466015e-25, 1.0989612806369609e-24]\n"
     ]
    }
   ],
   "source": [
    "from sklearn.pipeline import Pipeline\n",
    "\n",
    "rmse_val = [] #to store rmse values for different m\n",
    "rmse_val_train = []\n",
    "for m in range(1, 6):\n",
    "    pipeline = Pipeline([\n",
    "        ('poly', PolynomialFeatures(degree=m, include_bias=False)),\n",
    "        ('std', StandardScaler()),\n",
    "        ('lin', linear_model.LinearRegression()),\n",
    "    ])\n",
    "    \n",
    "    pipeline.fit(basis_X_train, basis_Y_train)\n",
    "\n",
    "    pred=pipeline.predict(basis_X_test) #make prediction on test set\n",
    "    error = mean_squared_error(basis_Y_test,pred) #calculate rmse\n",
    "    rmse_val.append(error) #store rmse values\n",
    "    \n",
    "    pred=pipeline.predict(basis_X_train) #make prediction on test set\n",
    "    error = mean_squared_error(basis_Y_train,pred) #calculate rmse\n",
    "    rmse_val_train.append(error) #store rmse values\n",
    "    \n",
    "    #print('RMSE value for k= ' , K , 'is:', error)\n",
    "\n",
    "print(rmse_val)\n",
    "print(rmse_val_train)"
   ]
  },
  {
   "cell_type": "code",
   "execution_count": 71,
   "metadata": {},
   "outputs": [
    {
     "data": {
      "image/png": "[encoded data removed]",
      "text/plain": [
       "<Figure size 432x288 with 1 Axes>"
      ]
     },
     "metadata": {
      "needs_background": "light"
     },
     "output_type": "display_data"
    }
   ],
   "source": [
    "import matplotlib.pyplot as plt\n",
    "%matplotlib inline\n",
    "from matplotlib import pyplot as plt\n",
    "\n",
    "plt.xlabel('n-Regression', fontsize=18)\n",
    "plt.ylabel('Errors', fontsize=16)\n",
    "\n",
    "plt.plot(rmse_val, label='Test')\n",
    "plt.plot(rmse_val_train, label='Train')\n",
    "plt.legend()\n",
    "\n",
    "plt.show()"
   ]
  },
  {
   "cell_type": "code",
   "execution_count": 72,
   "metadata": {},
   "outputs": [
    {
     "name": "stdout",
     "output_type": "stream",
     "text": [
      "[49.47537670195092, 176.68342672794532, 3722.2673636809404, 4222.040511468566, 7815.918325103676]\n",
      "[44.17360568786727, 21.171062734281872, 1.9348098264586926e-26, 1.2765486018466015e-25, 1.0989612806369609e-24]\n"
     ]
    }
   ],
   "source": [
    "rmse_val = [] #to store rmse values for different m\n",
    "rmse_val_train = []\n",
    "for m in range(1, 6):\n",
    "    poly_features = PolynomialFeatures(degree=m, include_bias=False)\n",
    "    basis_X_train_poly = poly_features.fit_transform(basis_X_train)    \n",
    "    \n",
    "    mms = StandardScaler()\n",
    "    basis_X_train_poly = pd.DataFrame(mms.fit_transform(basis_X_train_poly))\n",
    "    \n",
    "    poly_features = PolynomialFeatures(degree=m, include_bias=False)\n",
    "    basis_X_test_poly = poly_features.fit_transform(basis_X_test)    \n",
    "    \n",
    "    mms = StandardScaler()\n",
    "    basis_X_test_poly = pd.DataFrame(mms.fit_transform(basis_X_test_poly))\n",
    "    \n",
    "    \n",
    "    model = linear_model.LinearRegression()\n",
    "\n",
    "    model.fit(basis_X_train_poly, basis_Y_train)\n",
    "\n",
    "\n",
    "    pred=model.predict(basis_X_test_poly) #make prediction on test set\n",
    "    error = mean_squared_error(basis_Y_test,pred) #calculate rmse\n",
    "    rmse_val.append(error) #store rmse values\n",
    "    \n",
    "    pred=model.predict(basis_X_train_poly) #make prediction on test set\n",
    "    error = mean_squared_error(basis_Y_train,pred) #calculate rmse\n",
    "    rmse_val_train.append(error) #store rmse values\n",
    "    \n",
    "    #print('RMSE value for k= ' , K , 'is:', error)\n",
    "\n",
    "print(rmse_val)\n",
    "print(rmse_val_train)"
   ]
  },
  {
   "cell_type": "code",
   "execution_count": 73,
   "metadata": {},
   "outputs": [
    {
     "data": {
      "image/png": "[encoded data removed]",
      "text/plain": [
       "<Figure size 432x288 with 1 Axes>"
      ]
     },
     "metadata": {
      "needs_background": "light"
     },
     "output_type": "display_data"
    }
   ],
   "source": [
    "import matplotlib.pyplot as plt\n",
    "%matplotlib inline\n",
    "from matplotlib import pyplot as plt\n",
    "\n",
    "plt.xlabel('n-Regression', fontsize=18)\n",
    "plt.ylabel('Errors', fontsize=16)\n",
    "\n",
    "plt.plot(rmse_val, label='Test')\n",
    "plt.plot(rmse_val_train, label='Train')\n",
    "plt.legend()\n",
    "\n",
    "plt.show()"
   ]
  },
  {
   "cell_type": "code",
   "execution_count": 95,
   "metadata": {},
   "outputs": [
    {
     "name": "stdout",
     "output_type": "stream",
     "text": [
      "{'C': 2, 'gamma': 0.5}\n",
      "-46.83926161848769\n"
     ]
    }
   ],
   "source": [
    "from sklearn.model_selection import GridSearchCV\n",
    "from sklearn.svm import SVR\n",
    "\n",
    "param_grid = [\n",
    "  {'C': [0.0001, 0.01, 1, 2, 4, 10, 100, 1000], 'gamma': [0.01, 0.5, 1, 2, 4]},\n",
    "]\n",
    "\n",
    "svr = SVR()\n",
    "grid_search = GridSearchCV(svr, param_grid, cv=5, scoring='neg_mean_squared_error')\n",
    "grid_search.fit(basis_X_train, basis_Y_train)\n",
    "\n",
    "print(grid_search.best_params_)\n",
    "print(grid_search.best_score_)\n"
   ]
  }
 ],
 "metadata": {
  "kernelspec": {
   "display_name": "Python 3",
   "language": "python",
   "name": "python3"
  },
  "language_info": {
   "codemirror_mode": {
    "name": "ipython",
    "version": 3
   },
   "file_extension": ".py",
   "mimetype": "text/x-python",
   "name": "python",
   "nbconvert_exporter": "python",
   "pygments_lexer": "ipython3",
   "version": "3.6.8"
  }
 },
 "nbformat": 4,
 "nbformat_minor": 2
}
